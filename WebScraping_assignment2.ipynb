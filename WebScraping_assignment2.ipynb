{
 "cells": [
  {
   "cell_type": "code",
   "execution_count": 74,
   "metadata": {},
   "outputs": [
    {
     "name": "stdout",
     "output_type": "stream",
     "text": [
      "Requirement already satisfied: selenium in c:\\users\\sumuk\\anaconda3\\lib\\site-packages (3.141.0)\n",
      "Requirement already satisfied: urllib3 in c:\\users\\sumuk\\anaconda3\\lib\\site-packages (from selenium) (1.25.11)\n"
     ]
    }
   ],
   "source": [
    "!pip install selenium"
   ]
  },
  {
   "cell_type": "markdown",
   "metadata": {},
   "source": [
    "<b>Q1.Write a python program to scrape data for “Data Analyst” Job position in\n",
    "“Bangalore” location. You have to scrape the job-title, job-location, company_name,\n",
    "experience_required. You have to scrape first 10 jobs data.<b>"
   ]
  },
  {
   "cell_type": "code",
   "execution_count": 75,
   "metadata": {},
   "outputs": [],
   "source": [
    "#Importing necessary data\n",
    "import selenium \n",
    "import pandas as pd\n",
    "from selenium import webdriver\n"
   ]
  },
  {
   "cell_type": "code",
   "execution_count": 76,
   "metadata": {},
   "outputs": [],
   "source": [
    "#Connecting to driver\n",
    "driver = webdriver.Chrome(r\"C:\\Users\\sumuk\\Downloads\\chromedriver_win32\\chromedriver.exe\")"
   ]
  },
  {
   "cell_type": "code",
   "execution_count": 77,
   "metadata": {},
   "outputs": [],
   "source": [
    "#Getting the url\n",
    "url = 'https://www.naukri.com/'\n",
    "driver.get(url)"
   ]
  },
  {
   "cell_type": "code",
   "execution_count": 78,
   "metadata": {},
   "outputs": [
    {
     "data": {
      "text/plain": [
       "<selenium.webdriver.remote.webelement.WebElement (session=\"5ab742dcacb8901485753ee5cfaef1e9\", element=\"c9dfce01-cdc1-4d7a-b77c-da16319510a6\")>"
      ]
     },
     "execution_count": 78,
     "metadata": {},
     "output_type": "execute_result"
    }
   ],
   "source": [
    "#Getting web element for searching job\n",
    "search_job = driver.find_element_by_id('qsb-keyword-sugg')\n",
    "search_job"
   ]
  },
  {
   "cell_type": "code",
   "execution_count": 79,
   "metadata": {},
   "outputs": [],
   "source": [
    "#Searching for the asked Job position\n",
    "search_job.send_keys(\"Data Analyst\")"
   ]
  },
  {
   "cell_type": "code",
   "execution_count": 80,
   "metadata": {},
   "outputs": [],
   "source": [
    "#Seaching for asked location\n",
    "search_loc = driver.find_element_by_id(\"qsb-location-sugg\")\n",
    "search_loc.send_keys(\"Bangalore\")"
   ]
  },
  {
   "cell_type": "code",
   "execution_count": 81,
   "metadata": {},
   "outputs": [],
   "source": [
    "#Getting button element and excecuting click\n",
    "search_btn = driver.find_element_by_class_name('btn')\n",
    "search_btn.click()"
   ]
  },
  {
   "cell_type": "code",
   "execution_count": 93,
   "metadata": {},
   "outputs": [
    {
     "data": {
      "text/plain": [
       "[<selenium.webdriver.remote.webelement.WebElement (session=\"5ab742dcacb8901485753ee5cfaef1e9\", element=\"67399321-b500-48eb-8534-054d187b70c4\")>,\n",
       " <selenium.webdriver.remote.webelement.WebElement (session=\"5ab742dcacb8901485753ee5cfaef1e9\", element=\"88e6b893-8476-45d2-adf5-68d55493559c\")>,\n",
       " <selenium.webdriver.remote.webelement.WebElement (session=\"5ab742dcacb8901485753ee5cfaef1e9\", element=\"b7756ba3-e007-4313-9053-c4f1b5da67f1\")>,\n",
       " <selenium.webdriver.remote.webelement.WebElement (session=\"5ab742dcacb8901485753ee5cfaef1e9\", element=\"a9ed8442-bdd5-4614-a647-06b52e68e492\")>,\n",
       " <selenium.webdriver.remote.webelement.WebElement (session=\"5ab742dcacb8901485753ee5cfaef1e9\", element=\"3b52e683-76dc-47b7-8a8d-1440a140a2dc\")>,\n",
       " <selenium.webdriver.remote.webelement.WebElement (session=\"5ab742dcacb8901485753ee5cfaef1e9\", element=\"a542a1d3-ea4b-4bc2-adf5-a88d2a7b78d8\")>,\n",
       " <selenium.webdriver.remote.webelement.WebElement (session=\"5ab742dcacb8901485753ee5cfaef1e9\", element=\"b2248c97-821a-4974-a5fd-a924922b8c47\")>,\n",
       " <selenium.webdriver.remote.webelement.WebElement (session=\"5ab742dcacb8901485753ee5cfaef1e9\", element=\"621c80dc-490b-4aab-b87c-4009575cf895\")>,\n",
       " <selenium.webdriver.remote.webelement.WebElement (session=\"5ab742dcacb8901485753ee5cfaef1e9\", element=\"40690250-9af0-476c-b292-663522c3d844\")>,\n",
       " <selenium.webdriver.remote.webelement.WebElement (session=\"5ab742dcacb8901485753ee5cfaef1e9\", element=\"20e01a2b-9077-4d3e-bd67-a42c2a7f9298\")>,\n",
       " <selenium.webdriver.remote.webelement.WebElement (session=\"5ab742dcacb8901485753ee5cfaef1e9\", element=\"845d23db-f643-4a12-8e2f-d15f03cfee2b\")>,\n",
       " <selenium.webdriver.remote.webelement.WebElement (session=\"5ab742dcacb8901485753ee5cfaef1e9\", element=\"4dcc4b19-b8c5-43bd-9369-ea67b6c89f83\")>,\n",
       " <selenium.webdriver.remote.webelement.WebElement (session=\"5ab742dcacb8901485753ee5cfaef1e9\", element=\"64705791-8849-4e25-85ba-4d08852de79a\")>,\n",
       " <selenium.webdriver.remote.webelement.WebElement (session=\"5ab742dcacb8901485753ee5cfaef1e9\", element=\"0d98a52b-d397-4685-bc11-1ae1b5f58669\")>,\n",
       " <selenium.webdriver.remote.webelement.WebElement (session=\"5ab742dcacb8901485753ee5cfaef1e9\", element=\"7057cffe-3c5d-4a04-8e6c-ff0ffe3195be\")>,\n",
       " <selenium.webdriver.remote.webelement.WebElement (session=\"5ab742dcacb8901485753ee5cfaef1e9\", element=\"0ab09d4c-dc12-465b-b8d2-29eccd16d419\")>,\n",
       " <selenium.webdriver.remote.webelement.WebElement (session=\"5ab742dcacb8901485753ee5cfaef1e9\", element=\"255a592e-1dea-40d4-bafc-735a4e06c862\")>,\n",
       " <selenium.webdriver.remote.webelement.WebElement (session=\"5ab742dcacb8901485753ee5cfaef1e9\", element=\"4d513227-849e-4a15-8634-1d8d0d529df0\")>,\n",
       " <selenium.webdriver.remote.webelement.WebElement (session=\"5ab742dcacb8901485753ee5cfaef1e9\", element=\"bf297efb-20d5-4332-be42-2c9fb4e44921\")>,\n",
       " <selenium.webdriver.remote.webelement.WebElement (session=\"5ab742dcacb8901485753ee5cfaef1e9\", element=\"c01692d2-bf19-477e-8636-f4ee43066e42\")>]"
      ]
     },
     "execution_count": 93,
     "metadata": {},
     "output_type": "execute_result"
    }
   ],
   "source": [
    "#scraping job titles\n",
    "titles_tags = driver.find_elements_by_xpath(\"//a[@class='title fw500 ellipsis']\")\n",
    "titles_tags"
   ]
  },
  {
   "cell_type": "code",
   "execution_count": 94,
   "metadata": {},
   "outputs": [
    {
     "data": {
      "text/plain": [
       "['Senior Specialist - Data Analyst',\n",
       " 'Business/Data Analyst - SSE/LA',\n",
       " 'Business Data Analyst II',\n",
       " 'Data Analyst',\n",
       " 'Business Data Analyst',\n",
       " 'Business Data Analyst',\n",
       " 'Data Analyst/Business Analyst-Gurgaon/Bangalore/Mumbai (only Females)',\n",
       " 'Senior Data Analyst',\n",
       " 'Data Analyst',\n",
       " 'Data Analyst',\n",
       " 'Data Analyst',\n",
       " 'Data/Business Analyst',\n",
       " 'Senior Data Analyst',\n",
       " 'Senior Data Analyst - SQL/Tableau/Redshift',\n",
       " 'Marketing Data Analyst',\n",
       " 'Data Analyst',\n",
       " 'Data Analyst',\n",
       " 'Data Analyst',\n",
       " 'Data Analyst',\n",
       " 'Data Analyst']"
      ]
     },
     "execution_count": 94,
     "metadata": {},
     "output_type": "execute_result"
    }
   ],
   "source": [
    "#Getting text and saving in list\n",
    "job_titles = []\n",
    "for i in titles_tags:\n",
    "    job_titles.append(i.text)\n",
    "job_titles"
   ]
  },
  {
   "cell_type": "code",
   "execution_count": 95,
   "metadata": {},
   "outputs": [
    {
     "data": {
      "text/plain": [
       "[<selenium.webdriver.remote.webelement.WebElement (session=\"5ab742dcacb8901485753ee5cfaef1e9\", element=\"12649ff6-cf07-4337-b8b2-8629700390c4\")>,\n",
       " <selenium.webdriver.remote.webelement.WebElement (session=\"5ab742dcacb8901485753ee5cfaef1e9\", element=\"4ed6619a-b441-48e2-bdfc-4f4810070f76\")>,\n",
       " <selenium.webdriver.remote.webelement.WebElement (session=\"5ab742dcacb8901485753ee5cfaef1e9\", element=\"f6b9fec1-d5f4-4ec4-a6b6-1328e03fd8a1\")>,\n",
       " <selenium.webdriver.remote.webelement.WebElement (session=\"5ab742dcacb8901485753ee5cfaef1e9\", element=\"f5e28d0e-0e2b-4900-bcb9-0d4ba036de9e\")>,\n",
       " <selenium.webdriver.remote.webelement.WebElement (session=\"5ab742dcacb8901485753ee5cfaef1e9\", element=\"4a7bd4cf-362a-4738-8087-ada6e210f76b\")>,\n",
       " <selenium.webdriver.remote.webelement.WebElement (session=\"5ab742dcacb8901485753ee5cfaef1e9\", element=\"bf0b0c98-636a-4e73-83b1-b9bb0b3796a0\")>,\n",
       " <selenium.webdriver.remote.webelement.WebElement (session=\"5ab742dcacb8901485753ee5cfaef1e9\", element=\"5c125326-f484-49bd-b0ef-1aed516f6e53\")>,\n",
       " <selenium.webdriver.remote.webelement.WebElement (session=\"5ab742dcacb8901485753ee5cfaef1e9\", element=\"b254c036-9d53-4def-84ba-47522d6b2a75\")>,\n",
       " <selenium.webdriver.remote.webelement.WebElement (session=\"5ab742dcacb8901485753ee5cfaef1e9\", element=\"34e26992-d69f-4655-8899-9809b3b39a30\")>,\n",
       " <selenium.webdriver.remote.webelement.WebElement (session=\"5ab742dcacb8901485753ee5cfaef1e9\", element=\"e8ccbc9f-41d5-405e-9d55-77fa6669e21c\")>,\n",
       " <selenium.webdriver.remote.webelement.WebElement (session=\"5ab742dcacb8901485753ee5cfaef1e9\", element=\"23a17c82-2270-4b83-8454-cdcb4213ae8a\")>,\n",
       " <selenium.webdriver.remote.webelement.WebElement (session=\"5ab742dcacb8901485753ee5cfaef1e9\", element=\"13d8d566-1aa4-4180-ada5-84ca0a3395f7\")>,\n",
       " <selenium.webdriver.remote.webelement.WebElement (session=\"5ab742dcacb8901485753ee5cfaef1e9\", element=\"7cadd2f2-875f-492b-9637-1b07665baad9\")>,\n",
       " <selenium.webdriver.remote.webelement.WebElement (session=\"5ab742dcacb8901485753ee5cfaef1e9\", element=\"05e174e8-79c7-406b-a3a2-ffc0e1cba094\")>,\n",
       " <selenium.webdriver.remote.webelement.WebElement (session=\"5ab742dcacb8901485753ee5cfaef1e9\", element=\"0c26f1e8-47b3-4b06-8f49-df793c186ee4\")>,\n",
       " <selenium.webdriver.remote.webelement.WebElement (session=\"5ab742dcacb8901485753ee5cfaef1e9\", element=\"9f35b969-3707-4f40-a243-a2a8cb9dc50c\")>,\n",
       " <selenium.webdriver.remote.webelement.WebElement (session=\"5ab742dcacb8901485753ee5cfaef1e9\", element=\"13dbce60-0568-46dd-a7e7-3c42bd76d5b5\")>,\n",
       " <selenium.webdriver.remote.webelement.WebElement (session=\"5ab742dcacb8901485753ee5cfaef1e9\", element=\"347e5f02-589a-47bd-8719-54ea6b8c9069\")>,\n",
       " <selenium.webdriver.remote.webelement.WebElement (session=\"5ab742dcacb8901485753ee5cfaef1e9\", element=\"7a06d7d1-8f78-42b4-bb4b-7993cea2eb6d\")>,\n",
       " <selenium.webdriver.remote.webelement.WebElement (session=\"5ab742dcacb8901485753ee5cfaef1e9\", element=\"3d863342-0892-40a6-a70f-7e1f0fe709b7\")>]"
      ]
     },
     "execution_count": 95,
     "metadata": {},
     "output_type": "execute_result"
    }
   ],
   "source": [
    "#scraping company names\n",
    "companies_tags = driver.find_elements_by_xpath(\"//a[@class='subTitle ellipsis fleft']\")\n",
    "companies_tags"
   ]
  },
  {
   "cell_type": "code",
   "execution_count": 96,
   "metadata": {},
   "outputs": [
    {
     "data": {
      "text/plain": [
       "['Philips India Limited',\n",
       " 'CGI Information Systems and Management Consultants',\n",
       " 'Infobahn Softworld Inc.',\n",
       " 'WEIWO Communication Pvt. Ltd.',\n",
       " 'Trigent Software',\n",
       " 'Trigent Software',\n",
       " 'India Medtronic Pvt. Ltd,.',\n",
       " 'SMEDC SERVICES PRIVATE LIMITED',\n",
       " 'Allegis Services India Pvt. Ltd.',\n",
       " 'Allegis Services India Pvt. Ltd.',\n",
       " 'Enzen Global Solutions Pvt. Ltd',\n",
       " 'CGI Information Systems and Management Consultants',\n",
       " 'Liventus, Inc.',\n",
       " 'Pronto Consulting Services',\n",
       " 'Qlik',\n",
       " 'Gojek Tech',\n",
       " 'GO-JEK India',\n",
       " 'Eli Lilly Services India Private Limited',\n",
       " 'Infobahn Softworld Inc.',\n",
       " 'GCC SERVICES INDIA PRIVATE LIMITED']"
      ]
     },
     "execution_count": 96,
     "metadata": {},
     "output_type": "execute_result"
    }
   ],
   "source": [
    "#Getting text and saving in list\n",
    "company_titles = []\n",
    "for i in companies_tags:\n",
    "    company_titles.append(i.text)\n",
    "company_titles"
   ]
  },
  {
   "cell_type": "code",
   "execution_count": 97,
   "metadata": {},
   "outputs": [
    {
     "data": {
      "text/plain": [
       "[<selenium.webdriver.remote.webelement.WebElement (session=\"5ab742dcacb8901485753ee5cfaef1e9\", element=\"c9ecdc72-08bc-4c93-8fb5-749d1737ab70\")>,\n",
       " <selenium.webdriver.remote.webelement.WebElement (session=\"5ab742dcacb8901485753ee5cfaef1e9\", element=\"98c76f41-28eb-4b87-ac74-ef3967e9c07f\")>,\n",
       " <selenium.webdriver.remote.webelement.WebElement (session=\"5ab742dcacb8901485753ee5cfaef1e9\", element=\"e66d4fcb-8584-410a-81d7-d49c816342a1\")>,\n",
       " <selenium.webdriver.remote.webelement.WebElement (session=\"5ab742dcacb8901485753ee5cfaef1e9\", element=\"68a0a33e-3b44-4cbe-85ed-3837bec9ba4b\")>,\n",
       " <selenium.webdriver.remote.webelement.WebElement (session=\"5ab742dcacb8901485753ee5cfaef1e9\", element=\"85175b27-480d-47ed-9314-b968ffef3bae\")>,\n",
       " <selenium.webdriver.remote.webelement.WebElement (session=\"5ab742dcacb8901485753ee5cfaef1e9\", element=\"ff99fba8-e7e9-44ea-8f36-b2860ad0b85b\")>,\n",
       " <selenium.webdriver.remote.webelement.WebElement (session=\"5ab742dcacb8901485753ee5cfaef1e9\", element=\"2c2bc050-a0ee-447c-903e-10e2f821a985\")>,\n",
       " <selenium.webdriver.remote.webelement.WebElement (session=\"5ab742dcacb8901485753ee5cfaef1e9\", element=\"a0beaa30-abc5-4adc-8700-043e9546db88\")>,\n",
       " <selenium.webdriver.remote.webelement.WebElement (session=\"5ab742dcacb8901485753ee5cfaef1e9\", element=\"adc1edd7-73aa-4c50-9ccd-5ce879b8e832\")>,\n",
       " <selenium.webdriver.remote.webelement.WebElement (session=\"5ab742dcacb8901485753ee5cfaef1e9\", element=\"55ceb3f6-3448-4b48-9231-3e8f596205ae\")>,\n",
       " <selenium.webdriver.remote.webelement.WebElement (session=\"5ab742dcacb8901485753ee5cfaef1e9\", element=\"4973529c-f369-48eb-a800-a164a1d2e74c\")>,\n",
       " <selenium.webdriver.remote.webelement.WebElement (session=\"5ab742dcacb8901485753ee5cfaef1e9\", element=\"658fdb39-77a7-427b-af47-afe60b0948c4\")>,\n",
       " <selenium.webdriver.remote.webelement.WebElement (session=\"5ab742dcacb8901485753ee5cfaef1e9\", element=\"cb073b4e-6e69-4f5e-a5dc-0ee34df78dc9\")>,\n",
       " <selenium.webdriver.remote.webelement.WebElement (session=\"5ab742dcacb8901485753ee5cfaef1e9\", element=\"5dcbe3e4-5e9b-436d-9e40-9e902cab2879\")>,\n",
       " <selenium.webdriver.remote.webelement.WebElement (session=\"5ab742dcacb8901485753ee5cfaef1e9\", element=\"aab1c04e-6deb-4030-a38a-f0d87490831b\")>,\n",
       " <selenium.webdriver.remote.webelement.WebElement (session=\"5ab742dcacb8901485753ee5cfaef1e9\", element=\"9d03f80f-d809-4ff0-ac00-ed53330bfbf0\")>,\n",
       " <selenium.webdriver.remote.webelement.WebElement (session=\"5ab742dcacb8901485753ee5cfaef1e9\", element=\"1bd4e59a-6f7a-4943-839c-f41f775a8a8a\")>,\n",
       " <selenium.webdriver.remote.webelement.WebElement (session=\"5ab742dcacb8901485753ee5cfaef1e9\", element=\"5fcb87ab-5ccc-4bec-9554-e4b4418b8f5a\")>,\n",
       " <selenium.webdriver.remote.webelement.WebElement (session=\"5ab742dcacb8901485753ee5cfaef1e9\", element=\"b1ad50f4-c934-4381-83ea-a36ca3fa9ed0\")>,\n",
       " <selenium.webdriver.remote.webelement.WebElement (session=\"5ab742dcacb8901485753ee5cfaef1e9\", element=\"84735efb-0215-4be8-a6e6-8d68e34277fe\")>]"
      ]
     },
     "execution_count": 97,
     "metadata": {},
     "output_type": "execute_result"
    }
   ],
   "source": [
    "#scraping experience\n",
    "experience_tags = driver.find_elements_by_xpath(\"//li[@class='fleft grey-text br2 placeHolderLi experience']//span\")\n",
    "experience_tags"
   ]
  },
  {
   "cell_type": "code",
   "execution_count": 98,
   "metadata": {},
   "outputs": [
    {
     "data": {
      "text/plain": [
       "['4-8 Yrs',\n",
       " '2-5 Yrs',\n",
       " '5-8 Yrs',\n",
       " '4-8 Yrs',\n",
       " '3-5 Yrs',\n",
       " '3-5 Yrs',\n",
       " '1-4 Yrs',\n",
       " '5-8 Yrs',\n",
       " '2-5 Yrs',\n",
       " '3-5 Yrs',\n",
       " '6-8 Yrs',\n",
       " '6-10 Yrs',\n",
       " '5-8 Yrs',\n",
       " '6-10 Yrs',\n",
       " '2-7 Yrs',\n",
       " '1-4 Yrs',\n",
       " '3-7 Yrs',\n",
       " '5-10 Yrs',\n",
       " '3-9 Yrs',\n",
       " '5-9 Yrs']"
      ]
     },
     "execution_count": 98,
     "metadata": {},
     "output_type": "execute_result"
    }
   ],
   "source": [
    "#Getting text and saving in list\n",
    "experience_list = []\n",
    "for i in experience_tags:\n",
    "    experience_list.append(i.text)\n",
    "experience_list"
   ]
  },
  {
   "cell_type": "code",
   "execution_count": 99,
   "metadata": {},
   "outputs": [
    {
     "data": {
      "text/plain": [
       "[<selenium.webdriver.remote.webelement.WebElement (session=\"5ab742dcacb8901485753ee5cfaef1e9\", element=\"becab937-3553-4c90-99d3-454866727cdd\")>,\n",
       " <selenium.webdriver.remote.webelement.WebElement (session=\"5ab742dcacb8901485753ee5cfaef1e9\", element=\"de73fefa-7c43-4ed9-b116-0c4c172c23c1\")>,\n",
       " <selenium.webdriver.remote.webelement.WebElement (session=\"5ab742dcacb8901485753ee5cfaef1e9\", element=\"2cf9e321-d2b8-4149-9695-f3414d97b9c8\")>,\n",
       " <selenium.webdriver.remote.webelement.WebElement (session=\"5ab742dcacb8901485753ee5cfaef1e9\", element=\"be4db1d2-f680-455e-af0d-8a7689873f72\")>,\n",
       " <selenium.webdriver.remote.webelement.WebElement (session=\"5ab742dcacb8901485753ee5cfaef1e9\", element=\"6fdc1e12-8d33-47bd-90da-a21f4b7efd4d\")>,\n",
       " <selenium.webdriver.remote.webelement.WebElement (session=\"5ab742dcacb8901485753ee5cfaef1e9\", element=\"9c0d6801-8bb6-48e4-a3d7-05efb28095dd\")>,\n",
       " <selenium.webdriver.remote.webelement.WebElement (session=\"5ab742dcacb8901485753ee5cfaef1e9\", element=\"fb093de5-3b7c-43fd-819e-e207b4c7531d\")>,\n",
       " <selenium.webdriver.remote.webelement.WebElement (session=\"5ab742dcacb8901485753ee5cfaef1e9\", element=\"d282309d-354b-4e42-aa6a-291e06ec754d\")>,\n",
       " <selenium.webdriver.remote.webelement.WebElement (session=\"5ab742dcacb8901485753ee5cfaef1e9\", element=\"6fbb7255-60f8-4a15-9a62-372f155661cd\")>,\n",
       " <selenium.webdriver.remote.webelement.WebElement (session=\"5ab742dcacb8901485753ee5cfaef1e9\", element=\"6f6436a8-9309-48d5-b2d4-70b278a9b666\")>,\n",
       " <selenium.webdriver.remote.webelement.WebElement (session=\"5ab742dcacb8901485753ee5cfaef1e9\", element=\"fce85a1e-68d5-411e-9e20-da23103d8c36\")>,\n",
       " <selenium.webdriver.remote.webelement.WebElement (session=\"5ab742dcacb8901485753ee5cfaef1e9\", element=\"1271c6b8-7b86-4134-b518-9ce225b7773b\")>,\n",
       " <selenium.webdriver.remote.webelement.WebElement (session=\"5ab742dcacb8901485753ee5cfaef1e9\", element=\"b82ca3df-db1c-474d-83f9-733531bc2592\")>,\n",
       " <selenium.webdriver.remote.webelement.WebElement (session=\"5ab742dcacb8901485753ee5cfaef1e9\", element=\"d537800d-bfe9-4b42-b926-d17f3cc7f7fe\")>,\n",
       " <selenium.webdriver.remote.webelement.WebElement (session=\"5ab742dcacb8901485753ee5cfaef1e9\", element=\"f9bc7862-76a5-4742-96da-daffefa6c942\")>,\n",
       " <selenium.webdriver.remote.webelement.WebElement (session=\"5ab742dcacb8901485753ee5cfaef1e9\", element=\"8d915f27-5d00-4d06-967e-86a50788e0b4\")>,\n",
       " <selenium.webdriver.remote.webelement.WebElement (session=\"5ab742dcacb8901485753ee5cfaef1e9\", element=\"445d91c4-79d4-4ae1-95c0-af4d00dc3a9c\")>,\n",
       " <selenium.webdriver.remote.webelement.WebElement (session=\"5ab742dcacb8901485753ee5cfaef1e9\", element=\"a7ca95d0-a560-4a82-bb10-ee77c4eb8538\")>,\n",
       " <selenium.webdriver.remote.webelement.WebElement (session=\"5ab742dcacb8901485753ee5cfaef1e9\", element=\"53d86ff1-21a2-4a68-9390-c1ef65cbb6ae\")>,\n",
       " <selenium.webdriver.remote.webelement.WebElement (session=\"5ab742dcacb8901485753ee5cfaef1e9\", element=\"fd409643-e719-4d5f-8f2d-dd1649e98daf\")>]"
      ]
     },
     "execution_count": 99,
     "metadata": {},
     "output_type": "execute_result"
    }
   ],
   "source": [
    "#Scraping location\n",
    "location_tags = driver.find_elements_by_xpath(\"//li[@class='fleft grey-text br2 placeHolderLi location']//span[1]\")\n",
    "location_tags"
   ]
  },
  {
   "cell_type": "code",
   "execution_count": 100,
   "metadata": {},
   "outputs": [
    {
     "data": {
      "text/plain": [
       "['Bangalore/Bengaluru',\n",
       " 'Bangalore/Bengaluru',\n",
       " 'Bangalore/Bengaluru',\n",
       " 'Bangalore/Bengaluru(Ulsoor)',\n",
       " 'Bangalore/Bengaluru',\n",
       " 'Bangalore/Bengaluru',\n",
       " 'Gurgaon/Gurugram, Bangalore/Bengaluru, Mumbai (All Areas)',\n",
       " 'Bangalore/Bengaluru',\n",
       " 'Bangalore/Bengaluru',\n",
       " 'Bangalore/Bengaluru',\n",
       " 'Bangalore/Bengaluru',\n",
       " 'Bangalore/Bengaluru',\n",
       " 'Bangalore/Bengaluru(2nd Phase JP Nagar)',\n",
       " 'Noida, Mumbai, Indore, Hyderabad/Secunderabad, Pune, Chennai, Bangalore/Bengaluru',\n",
       " 'Bangalore/Bengaluru',\n",
       " 'Bangalore/Bengaluru',\n",
       " 'Bangalore/Bengaluru',\n",
       " 'Bangalore/Bengaluru',\n",
       " 'Bangalore/Bengaluru',\n",
       " 'Bangalore/Bengaluru']"
      ]
     },
     "execution_count": 100,
     "metadata": {},
     "output_type": "execute_result"
    }
   ],
   "source": [
    "#Getting text and saving in list\n",
    "location_list = []\n",
    "for i in location_tags:\n",
    "    location_list.append(i.text)\n",
    "location_list"
   ]
  },
  {
   "cell_type": "code",
   "execution_count": 101,
   "metadata": {},
   "outputs": [
    {
     "name": "stdout",
     "output_type": "stream",
     "text": [
      "20 20 20 20\n"
     ]
    }
   ],
   "source": [
    "#Checking length\n",
    "print(len(company_titles),len(job_titles),len(experience_list),len(location_list))"
   ]
  },
  {
   "cell_type": "code",
   "execution_count": 102,
   "metadata": {},
   "outputs": [],
   "source": [
    "#Creating data frame\n",
    "jobs = pd.DataFrame({})\n",
    "jobs['Title'] = job_titles\n",
    "jobs['Company Name'] = company_titles\n",
    "jobs['Experience Required'] = experience_list\n",
    "jobs['Location'] = location_list\n"
   ]
  },
  {
   "cell_type": "code",
   "execution_count": 103,
   "metadata": {},
   "outputs": [
    {
     "data": {
      "text/html": [
       "<div>\n",
       "<style scoped>\n",
       "    .dataframe tbody tr th:only-of-type {\n",
       "        vertical-align: middle;\n",
       "    }\n",
       "\n",
       "    .dataframe tbody tr th {\n",
       "        vertical-align: top;\n",
       "    }\n",
       "\n",
       "    .dataframe thead th {\n",
       "        text-align: right;\n",
       "    }\n",
       "</style>\n",
       "<table border=\"1\" class=\"dataframe\">\n",
       "  <thead>\n",
       "    <tr style=\"text-align: right;\">\n",
       "      <th></th>\n",
       "      <th>Title</th>\n",
       "      <th>Company Name</th>\n",
       "      <th>Experience Required</th>\n",
       "      <th>Location</th>\n",
       "    </tr>\n",
       "  </thead>\n",
       "  <tbody>\n",
       "    <tr>\n",
       "      <th>0</th>\n",
       "      <td>Senior Specialist - Data Analyst</td>\n",
       "      <td>Philips India Limited</td>\n",
       "      <td>4-8 Yrs</td>\n",
       "      <td>Bangalore/Bengaluru</td>\n",
       "    </tr>\n",
       "    <tr>\n",
       "      <th>1</th>\n",
       "      <td>Business/Data Analyst - SSE/LA</td>\n",
       "      <td>CGI Information Systems and Management Consult...</td>\n",
       "      <td>2-5 Yrs</td>\n",
       "      <td>Bangalore/Bengaluru</td>\n",
       "    </tr>\n",
       "    <tr>\n",
       "      <th>2</th>\n",
       "      <td>Business Data Analyst II</td>\n",
       "      <td>Infobahn Softworld Inc.</td>\n",
       "      <td>5-8 Yrs</td>\n",
       "      <td>Bangalore/Bengaluru</td>\n",
       "    </tr>\n",
       "    <tr>\n",
       "      <th>3</th>\n",
       "      <td>Data Analyst</td>\n",
       "      <td>WEIWO Communication Pvt. Ltd.</td>\n",
       "      <td>4-8 Yrs</td>\n",
       "      <td>Bangalore/Bengaluru(Ulsoor)</td>\n",
       "    </tr>\n",
       "    <tr>\n",
       "      <th>4</th>\n",
       "      <td>Business Data Analyst</td>\n",
       "      <td>Trigent Software</td>\n",
       "      <td>3-5 Yrs</td>\n",
       "      <td>Bangalore/Bengaluru</td>\n",
       "    </tr>\n",
       "    <tr>\n",
       "      <th>5</th>\n",
       "      <td>Business Data Analyst</td>\n",
       "      <td>Trigent Software</td>\n",
       "      <td>3-5 Yrs</td>\n",
       "      <td>Bangalore/Bengaluru</td>\n",
       "    </tr>\n",
       "    <tr>\n",
       "      <th>6</th>\n",
       "      <td>Data Analyst/Business Analyst-Gurgaon/Bangalor...</td>\n",
       "      <td>India Medtronic Pvt. Ltd,.</td>\n",
       "      <td>1-4 Yrs</td>\n",
       "      <td>Gurgaon/Gurugram, Bangalore/Bengaluru, Mumbai ...</td>\n",
       "    </tr>\n",
       "    <tr>\n",
       "      <th>7</th>\n",
       "      <td>Senior Data Analyst</td>\n",
       "      <td>SMEDC SERVICES PRIVATE LIMITED</td>\n",
       "      <td>5-8 Yrs</td>\n",
       "      <td>Bangalore/Bengaluru</td>\n",
       "    </tr>\n",
       "    <tr>\n",
       "      <th>8</th>\n",
       "      <td>Data Analyst</td>\n",
       "      <td>Allegis Services India Pvt. Ltd.</td>\n",
       "      <td>2-5 Yrs</td>\n",
       "      <td>Bangalore/Bengaluru</td>\n",
       "    </tr>\n",
       "    <tr>\n",
       "      <th>9</th>\n",
       "      <td>Data Analyst</td>\n",
       "      <td>Allegis Services India Pvt. Ltd.</td>\n",
       "      <td>3-5 Yrs</td>\n",
       "      <td>Bangalore/Bengaluru</td>\n",
       "    </tr>\n",
       "  </tbody>\n",
       "</table>\n",
       "</div>"
      ],
      "text/plain": [
       "                                               Title  \\\n",
       "0                   Senior Specialist - Data Analyst   \n",
       "1                     Business/Data Analyst - SSE/LA   \n",
       "2                           Business Data Analyst II   \n",
       "3                                       Data Analyst   \n",
       "4                              Business Data Analyst   \n",
       "5                              Business Data Analyst   \n",
       "6  Data Analyst/Business Analyst-Gurgaon/Bangalor...   \n",
       "7                                Senior Data Analyst   \n",
       "8                                       Data Analyst   \n",
       "9                                       Data Analyst   \n",
       "\n",
       "                                        Company Name Experience Required  \\\n",
       "0                              Philips India Limited             4-8 Yrs   \n",
       "1  CGI Information Systems and Management Consult...             2-5 Yrs   \n",
       "2                            Infobahn Softworld Inc.             5-8 Yrs   \n",
       "3                      WEIWO Communication Pvt. Ltd.             4-8 Yrs   \n",
       "4                                   Trigent Software             3-5 Yrs   \n",
       "5                                   Trigent Software             3-5 Yrs   \n",
       "6                         India Medtronic Pvt. Ltd,.             1-4 Yrs   \n",
       "7                     SMEDC SERVICES PRIVATE LIMITED             5-8 Yrs   \n",
       "8                   Allegis Services India Pvt. Ltd.             2-5 Yrs   \n",
       "9                   Allegis Services India Pvt. Ltd.             3-5 Yrs   \n",
       "\n",
       "                                            Location  \n",
       "0                                Bangalore/Bengaluru  \n",
       "1                                Bangalore/Bengaluru  \n",
       "2                                Bangalore/Bengaluru  \n",
       "3                        Bangalore/Bengaluru(Ulsoor)  \n",
       "4                                Bangalore/Bengaluru  \n",
       "5                                Bangalore/Bengaluru  \n",
       "6  Gurgaon/Gurugram, Bangalore/Bengaluru, Mumbai ...  \n",
       "7                                Bangalore/Bengaluru  \n",
       "8                                Bangalore/Bengaluru  \n",
       "9                                Bangalore/Bengaluru  "
      ]
     },
     "execution_count": 103,
     "metadata": {},
     "output_type": "execute_result"
    }
   ],
   "source": [
    "#Getting top 10 jobs\n",
    "jobs_first10 = jobs.head(10)\n",
    "jobs_first10"
   ]
  },
  {
   "cell_type": "markdown",
   "metadata": {},
   "source": [
    "<b>Q2: Write a python program to scrape data for “Data Scientist” Job position in\n",
    "“Bangalore” location. You have to scrape the job-title, job-location,\n",
    "company_name, full job-description. You have to scrape first 10 jobs data.<b>"
   ]
  },
  {
   "cell_type": "code",
   "execution_count": 122,
   "metadata": {},
   "outputs": [],
   "source": [
    "#Connecting to driver\n",
    "driver = webdriver.Chrome(r\"C:\\Users\\sumuk\\Downloads\\chromedriver_win32\\chromedriver.exe\")\n",
    "\n"
   ]
  },
  {
   "cell_type": "code",
   "execution_count": 123,
   "metadata": {},
   "outputs": [],
   "source": [
    "#Getting the url\n",
    "url = 'https://www.naukri.com/'\n",
    "driver.get(url)"
   ]
  },
  {
   "cell_type": "code",
   "execution_count": 124,
   "metadata": {},
   "outputs": [
    {
     "data": {
      "text/plain": [
       "<selenium.webdriver.remote.webelement.WebElement (session=\"2db25c17021a9a027fe735818d4e7970\", element=\"e3075f4e-d26f-46e4-8f9d-d0ee231e450c\")>"
      ]
     },
     "execution_count": 124,
     "metadata": {},
     "output_type": "execute_result"
    }
   ],
   "source": [
    "#Getting web element for searching job\n",
    "search_job = driver.find_element_by_id('qsb-keyword-sugg')\n",
    "search_job"
   ]
  },
  {
   "cell_type": "code",
   "execution_count": 125,
   "metadata": {},
   "outputs": [],
   "source": [
    "#Searching for the asked Job position\n",
    "search_job.send_keys(\"Data Scientist\")"
   ]
  },
  {
   "cell_type": "code",
   "execution_count": 126,
   "metadata": {},
   "outputs": [],
   "source": [
    "#Seaching for asked location\n",
    "search_loc = driver.find_element_by_id(\"qsb-location-sugg\")\n",
    "search_loc.send_keys(\"Bangalore\")"
   ]
  },
  {
   "cell_type": "code",
   "execution_count": 127,
   "metadata": {},
   "outputs": [],
   "source": [
    "#Getting button element and excecuting click\n",
    "search_btn = driver.find_element_by_class_name('btn')\n",
    "search_btn.click()"
   ]
  },
  {
   "cell_type": "code",
   "execution_count": 130,
   "metadata": {},
   "outputs": [
    {
     "data": {
      "text/plain": [
       "['https://www.naukri.com/job-listings-senior-data-scientist-philips-india-limited-bangalore-bengaluru-8-to-10-years-060821501599?src=jobsearchDesk&sid=16283307827601464&xp=1&px=1',\n",
       " 'https://www.naukri.com/job-listings-data-scientist-advanced-analytics-ibm-india-pvt-limited-bangalore-bengaluru-5-to-10-years-060821907733?src=jobsearchDesk&sid=16283307827601464&xp=2&px=1',\n",
       " 'https://www.naukri.com/job-listings-senior-data-scientist-symbiosis-international-w-l-l-bangalore-bengaluru-10-to-15-years-050821004331?src=jobsearchDesk&sid=16283307827601464&xp=3&px=1',\n",
       " 'https://www.naukri.com/job-listings-data-scientist-mcafee-software-india-pvt-ltd-bangalore-bengaluru-4-to-8-years-050821501145?src=jobsearchDesk&sid=16283307827601464&xp=4&px=1',\n",
       " 'https://www.naukri.com/job-listings-senior-data-scientist-datamatics-global-services-ltd-bangalore-bengaluru-8-to-13-years-040821003517?src=jobsearchDesk&sid=16283307827601464&xp=5&px=1',\n",
       " 'https://www.naukri.com/job-listings-software-developer-data-scientist-nlp-machine-learning-dot-net-cunesoft-india-private-limited-bangalore-bengaluru-3-to-8-years-190121001281?src=jobsearchDesk&sid=16283307827601464&xp=6&px=1',\n",
       " 'https://www.naukri.com/job-listings-data-scientist-uber-bangalore-bengaluru-6-to-8-years-050821500683?src=jobsearchDesk&sid=16283307827601464&xp=7&px=1',\n",
       " 'https://www.naukri.com/job-listings-senior-data-scientist-ibm-india-pvt-limited-bangalore-bengaluru-5-to-10-years-260721907182?src=jobsearchDesk&sid=16283307827601464&xp=8&px=1',\n",
       " 'https://www.naukri.com/job-listings-senior-data-scientist-publicis-groupe-bangalore-bengaluru-2-to-5-years-030821501259?src=jobsearchDesk&sid=16283307827601464&xp=9&px=1',\n",
       " 'https://www.naukri.com/job-listings-senior-data-scientist-bidgely-technologies-private-limited-bangalore-bengaluru-4-to-6-years-030821500043?src=jobsearchDesk&sid=16283307827601464&xp=10&px=1',\n",
       " 'https://www.naukri.com/job-listings-senior-data-scientist-goals-101-data-solutions-pvt-ltd-new-delhi-bangalore-bengaluru-delhi-ncr-4-to-8-years-030821000870?src=jobsearchDesk&sid=16283307827601464&xp=11&px=1',\n",
       " 'https://www.naukri.com/job-listings-data-scientist-permanent-role-onward-technologies-limited-hyderabad-secunderabad-chennai-bangalore-bengaluru-6-to-11-years-030821002780?src=jobsearchDesk&sid=16283307827601464&xp=12&px=1',\n",
       " 'https://www.naukri.com/job-listings-senior-data-scientist-randstad-india-pvt-ltd-bangalore-bengaluru-4-to-9-years-280721000424?src=jobsearchDesk&sid=16283307827601464&xp=13&px=1',\n",
       " 'https://www.naukri.com/job-listings-sr-data-scientist-tech-lead-data-science-confidential-bangalore-bengaluru-6-to-9-years-020821903704?src=jobsearchDesk&sid=16283307827601464&xp=14&px=1',\n",
       " 'https://www.naukri.com/job-listings-senior-data-scientist-l-a-consultancy-kochi-cochin-hyderabad-secunderabad-pune-chennai-delhi-ncr-bangalore-bengaluru-5-to-9-years-310721903849?src=jobsearchDesk&sid=16283307827601464&xp=15&px=1',\n",
       " 'https://www.naukri.com/job-listings-lead-data-scientist-tensorflow-machine-learning-getinz-techno-services-mumbai-hyderabad-secunderabad-chennai-bangalore-bengaluru-7-to-10-years-250721900474?src=jobsearchDesk&sid=16283307827601464&xp=16&px=1',\n",
       " 'https://www.naukri.com/job-listings-associate-data-scientist-execboardinasia-bangalore-bengaluru-5-to-10-years-310721500675?src=jobsearchDesk&sid=16283307827601464&xp=17&px=1',\n",
       " 'https://www.naukri.com/job-listings-data-engineers-data-scientist-and-sap-teamware-solutions-bangalore-bengaluru-7-to-10-years-300721500677?src=jobsearchDesk&sid=16283307827601464&xp=18&px=1',\n",
       " 'https://www.naukri.com/job-listings-senior-data-applied-scientist-microsoft-india-r-and-d-pvt-ltd-bangalore-bengaluru-3-to-5-years-060821501871?src=jobsearchDesk&sid=16283307827601464&xp=19&px=1',\n",
       " 'https://www.naukri.com/job-listings-senior-software-engineer-data-scientist-ara-resources-bangalore-bengaluru-6-to-10-years-290721906399?src=jobsearchDesk&sid=16283307827601464&xp=20&px=1']"
      ]
     },
     "execution_count": 130,
     "metadata": {},
     "output_type": "execute_result"
    }
   ],
   "source": [
    "#Getting a list of url for each job\n",
    "job_opening_urls = []\n",
    "url = driver.find_elements_by_xpath('//a[@class=\"title fw500 ellipsis\"]')\n",
    "for i in url:\n",
    "    job_opening_urls.append(i.get_attribute('href'))\n",
    "job_opening_urls"
   ]
  },
  {
   "cell_type": "code",
   "execution_count": 131,
   "metadata": {},
   "outputs": [
    {
     "data": {
      "text/plain": [
       "['Senior Data Scientist',\n",
       " 'Senior Data Scientist',\n",
       " 'DATA SCIENTIST',\n",
       " 'Senior Data Scientist',\n",
       " 'Software Developer - Data Scientist / NLP / Machine Learning & Dot Net',\n",
       " 'Data scientist',\n",
       " 'Senior Data Scientist',\n",
       " 'Senior Data Scientist',\n",
       " 'Senior Data Scientist',\n",
       " 'Data Scientist - Permanent Role',\n",
       " 'Senior Data Scientist',\n",
       " 'Sr. Data Scientist / Tech Lead - Data Science',\n",
       " 'Senior Data Scientist',\n",
       " 'Lead Data Scientist - Tensorflow/Machine Learning',\n",
       " 'Associate Data Scientist',\n",
       " 'Data Engineers , Data Scientist and SAP',\n",
       " 'Senior Data & Applied Scientist',\n",
       " 'Senior Software Engineer - Data Scientist']"
      ]
     },
     "execution_count": 131,
     "metadata": {},
     "output_type": "execute_result"
    }
   ],
   "source": [
    "#Scraping job for each url\n",
    "job_titles = []\n",
    "for i in job_opening_urls:\n",
    "    driver.get(i)\n",
    "    try:\n",
    "        job_title = driver.find_element_by_xpath('//h1[@class=\"jd-header-title\"]')\n",
    "        job_titles.append(job_title.text)\n",
    "    except:\n",
    "        pass\n",
    "job_titles"
   ]
  },
  {
   "cell_type": "code",
   "execution_count": 133,
   "metadata": {},
   "outputs": [
    {
     "data": {
      "text/plain": [
       "['SYMBIOSIS International W.L.L',\n",
       " 'McAfee Software (India) Pvt. Ltd',\n",
       " 'Datamatics Global Services Ltd',\n",
       " 'Cunesoft India Private Limited',\n",
       " 'Uber',\n",
       " 'Publicis Groupe',\n",
       " 'Bidgely Technologies Private Limited',\n",
       " 'Goals 101 Data Solutions Pvt. Ltd.',\n",
       " 'Onward Technologies Limited',\n",
       " 'RANDSTAD INDIA PVT LTD',\n",
       " 'Confidential',\n",
       " 'L A Consultancy',\n",
       " 'Getinz Techno Services',\n",
       " 'ExecBoardinAsia',\n",
       " 'Teamware Solutions',\n",
       " 'Microsoft Corporation',\n",
       " 'Ara Resources']"
      ]
     },
     "execution_count": 133,
     "metadata": {},
     "output_type": "execute_result"
    }
   ],
   "source": [
    "#Scraping company names for each url\n",
    "company_names = []\n",
    "for i in job_opening_urls:\n",
    "    driver.get(i)\n",
    "    try:\n",
    "        company_name = driver.find_element_by_xpath('//a[@class=\"pad-rt-8\"]')\n",
    "        company_names.append(company_name.text)\n",
    "    except:\n",
    "        pass\n",
    "company_names"
   ]
  },
  {
   "cell_type": "code",
   "execution_count": 134,
   "metadata": {},
   "outputs": [
    {
     "data": {
      "text/plain": [
       "['8 - 10 years',\n",
       " '10 - 15 years',\n",
       " '4 - 8 years',\n",
       " '8 - 13 years',\n",
       " '3 - 8 years',\n",
       " '6 - 8 years',\n",
       " '2 - 5 years',\n",
       " '4 - 6 years',\n",
       " '4 - 8 years',\n",
       " '6 - 11 years',\n",
       " '4 - 9 years',\n",
       " '6 - 9 years',\n",
       " '5 - 9 years',\n",
       " '7 - 10 years',\n",
       " '5 - 10 years',\n",
       " '7 - 10 years',\n",
       " '3 - 5 years',\n",
       " '6 - 10 years']"
      ]
     },
     "execution_count": 134,
     "metadata": {},
     "output_type": "execute_result"
    }
   ],
   "source": [
    "#Scraping experience for each url\n",
    "experience_list = []\n",
    "for i in job_opening_urls:\n",
    "    driver.get(i)\n",
    "    try:\n",
    "        experience = driver.find_element_by_xpath('//div[@class=\"exp\"]')\n",
    "        experience_list.append(experience.text)\n",
    "    except:\n",
    "        pass\n",
    "experience_list"
   ]
  },
  {
   "cell_type": "code",
   "execution_count": 136,
   "metadata": {},
   "outputs": [
    {
     "data": {
      "text/plain": [
       "['Bangalore/Bengaluru',\n",
       " 'Bangalore/Bengaluru',\n",
       " 'Bangalore/Bengaluru',\n",
       " 'Bangalore/Bengaluru',\n",
       " 'Bangalore/Bengaluru',\n",
       " 'Bangalore/Bengaluru',\n",
       " 'Bangalore/Bengaluru',\n",
       " 'Bangalore/Bengaluru',\n",
       " 'New Delhi, Bangalore/Bengaluru, Delhi / NCR',\n",
       " 'Hyderabad/Secunderabad, Chennai, Bangalore/Bengaluru',\n",
       " 'Bangalore/Bengaluru',\n",
       " 'Bangalore/Bengaluru',\n",
       " 'Kochi/Cochin, Hyderabad/Secunderabad, Pune, Chennai, Delhi / NCR, Bangalore/Bengaluru',\n",
       " 'Mumbai, Hyderabad/Secunderabad, Chennai, Bangalore/Bengaluru',\n",
       " 'Bangalore/Bengaluru',\n",
       " 'Bangalore/Bengaluru',\n",
       " 'Bangalore/Bengaluru',\n",
       " 'Bangalore/Bengaluru']"
      ]
     },
     "execution_count": 136,
     "metadata": {},
     "output_type": "execute_result"
    }
   ],
   "source": [
    "#Scraping locations for each url\n",
    "location_list = []\n",
    "for i in job_opening_urls:\n",
    "    driver.get(i)\n",
    "    try:\n",
    "        location = driver.find_element_by_xpath('//span[@class=\"location \"]')\n",
    "        location_list.append(location.text)\n",
    "    except:\n",
    "        pass\n",
    "location_list"
   ]
  },
  {
   "cell_type": "code",
   "execution_count": 144,
   "metadata": {},
   "outputs": [
    {
     "data": {
      "text/plain": [
       "['  Be a part of the Enterprise IT , Information and Data Science team and drive a strategic and actionable Data Science architecture to activate the needed business capabilities. Deliver business use cases like Care Provider (Customer, Product , IB ) 360 initiative, Product bundling , Value Based pricing , Conversational AI, Indirect Trade partner classification , Data pipeline predictions etc - an ambition to better understand the needs of Healthcare Providers, the way Philips serves its customers and how and where Philips can add value to the customer decision journey.\\nYour responsibilities\\nEnsure strategic direction for data science capabilities for Philips is created and kept up to date on a regular basis\\nContinuously evaluate the latest techniques in Artificial intelligence, machine learning, robotics, statistical analysis\\nImplement advanced algorithms for business problems based on statistical analysis, coding, deep learning, advanced data mining techniques etc.\\nDevelop new algorithms if necessary, to bring predictive, advanced statistics / learning based solutions\\nDevelop algorithms to further automate processes and feed insights back into PIL for better business outcome\\nCo-create with business / market / functions or IT platforms on requirements\\nEnsure quality of data and solution developed\\nLead and drive data mining, creating algorithms, collection of data, collection of procedures during the design, build phases of a project\\nLead and drive in deploy and testing of the solutions and insights\\nSpot and evaluate emerging/cutting edge, open source, data science/machine learning libraries\\nYou are part of:\\nYou will be part of Group IT , Information and Data Management team that drives business impact through Data Science and Advanced analytics. A team that instigates collaboration across diverse teams globally to manage Data as an asset at Philips.\\nCore competencies needed to be successful:\\nA Master s Degree or PhD in Computer Science, Econometrics, Artificial Intelligence, Applied Mathematics, Statistics or equivalent;\\n8-10 years of overall experience in data science, data analytics roles\\n8+ years of experience in multiple of machine learning, data mining, deep learning, artificial intelligence, pattern recognition areas\\nExperience in driving implementation of solutions, data and algorithms on data warehouse and lakes like Azure , AWS, SQL etc\\nDemonstrable advanced programming experience in Python or another programming language such as Azure ML/R/Python etc ;\\nStrong analytical and social skills and the capability to translate data intelligence into valuable insights for the senior stakeholders in the company\\nAbility to formulate multiple complex business problems into hypothesis and proof of concepts for testing\\nManage Projects and lead a sub-portfolio of data science project teams to deliver results\\nCoach, Guide and direct teams of internal and vendor resources\\nCollaborate across IT platform teams to deploy solutions and drive continuous improvements\\nManage senior stakeholder in the company in a matrix organization i.e. Market / BG / Function leaders',\n",
       " \"Required Candidate profile\\nWe are looking for a Senior Data Scientist with a min of 10 years experience in Banking Financial Domain (especially Compliance related) and a solid background in Cloudera.\\nAs a Cloudera Specialist, you must be adept in Cloudera tools like CDH, CEPH, CM, CMA, Data node EDH, HVE, JAS, NameNode, Nodemanager, QJM, QJN, RM and ZK.\\nThis will be a two years assignment to one of the Leading Class A banks in Abu Dhabi.\\nCandidate should have finished two or three full implementations of Data Analytics in Compliance in large Enterprise Banks.\\nShould be having thorough knowledge in R, Python, Scala on demand and Jupyter Notebooks.\\nShould be having hands experience in CCA Spark and Hadoop developer.\\nShould be having a Financial Compliance Background with a good knowledge and hands on expertise on Compliance related domains.\\nShould be a Machine Learning expert and create new models and use various library in that area. You should have proven skills in this area.\\nShould be having a thorough theoretical and practical idea on the following systems (From a Data Scientist Perspective)\\nHDFS\\nYarn\\nMapReduce\\nHive\\nPig\\nApache Ambari\\nHBase / Apache Impala\\nStorm\\nOozie\\nRanger\\nZookeeper\\nVarious data ingestion tools like Sqoop, flume, Kafka\\nVarious reporting tools like Drill, Phoenix, Zeppelin\\nWill be an added advantage if you have exposure to GPU processing, Tensor Flow and Data Lakes.\\nShould be able to produce high Quality Business documentation, Project Management, Agile Framework practices as needed.\\nShould inspect the current Cloudera Architecture and suggest enhancements or improve it.\\nShould be able to communicate with Senior Business Management ideas, concepts and deliverables.\\nIf you have certifications on Cloudera (Cloudera Data Engineer, Spark and Hadoop Developer), it will be an added advantage.\\nData Scientist - Compliance\\nResponsibilities:\\nUse advanced analytics methods to extract value from business data\\nPerform large-scale experimentation and build data-driven models to answer business questions\\nConduct research on cutting-edge techniques and tools in machine learning/deep learning/artificial intelligence\\nDetermine requirements that will be used to train and evolve deep learning models and algorithms\\nArticulate a vision and roadmap for the exploitation of data as a valued corporate asset\\nInfluence product teams through presentation of data-based recommendations\\nEvangelize best practices to analytics and products teams\\nAssemble large, complex data sets that meet functional / non-functional business requirements.\\nIdentify, design, and implement internal process improvements: automating manual processes, optimizing analytics delivery, re-designing infrastructure for greater scalability, etc.\\nBuild analytics tools that utilize the data to provide actionable insights into customer acquisition, operational efficiency and other key business performance metrics.\\nWork with stakeholders including the Executive, Product, Data and Design teams to assist with analytics related technical issues and support their data infrastructure needs.\\nWork with data and analytics experts to strive for greater functionality data systems\\nTypical skills and background:\\nSKILLS:\\nCan work with data to identify patterns.\\nUse judgement to form conclusions that may challenge conventional wisdom and focus on the crux of issues to identify high-leverage intervention points and strategies.\\nRapidly acquire new knowledge and learn new skills\\nSeek to understand business needs and get results that have a clear, positive, and direct impact on business performance\\nApply different strategies to convince others to change their opinions or plans and ensure that proposals or arguments are supported by strong logic and a compelling business case, addressing all relevant factors.\\nConsider the relative costs and benefits of potential actions to choose the most appropriate one\\nCommunication and storytelling\\nTeamwork and collaboration\\nBanking domain business knowledge\\nAdvanced analytics modelling and orchestration\\nSolid development skills in Java, Scala and SQL\\nSound knowledge of using data science tools and languages like Cloudera Data Science Workbench (CDSW), Jupyter Notebook, Python etc.\\nClear hands-on mastery in big datab systems - Hadoop ecosystem, Cloud technologies (AWS, Azure, Google), in-memory database systems (HANA, Hazel cast, etc) and other database systems - traditional RDBMS (Terradata, SQL Server, Oracle), and NoSQL databases (Cassandra, MongoDB, DynamoDB)\\nComfortable in dashboard development (Tableau, Powerbi, Qlik, etc) and in developing data analytics models (R, Python, Spark)\\nEXPERIENCE AND QUALIFICATION:\\nMasters degree from top-tier college/university in Computer Science, Statistics, Economics, or other closely-related field\\nMinimum of 6 years' hands-on experience with a strong data background\\nExtensive experience working with Big Data tools and building data solutions for advanced analytics\\nExperience with statistical software, scripting languages, and packages (e.g. R, MATLAB, SAS, and Python)\\nConsiderable experience in solving business problems with advanced analytical solutions\\nProven experience in conducting statistical analysis and building models with advanced scripting language such as R, SPSS, or other analytic tools.\\nExperience building and deploying predictive models, web scraping, and scalable data pipelines.\\nStrong understanding of statistical methods and skills such as Bayesian Networks Inference, linear and non-linear regression, hierarchical, mixed models/multi-level modeling\\nPractical knowledge across data extraction and transformation tools - traditional ETL tools (Informatica, Altryx) as well as more recent big data tools\\nFinancial Renumeration will be based on your skills and expertise.\\nNotice Period of 30 to 45 days preferred\\nPrevious working experience in Middle East and Gulf regions preferred Roles and Responsibilities\\n\\n\\nDesired Candidate Profile\\n\\n\\nPerks and Benefits\",\n",
       " 'Data Scientist Primary Location India, Bangalore Date posted 08/01/2021\\nApply Now Save Job ID: JR0024575\\n\\n\\nJob Title:\\nData Scientist\\n\\n\\nRole Overview:\\nData scientist will be doing research on innovative projects in platform engineering group at McAfee. Platform Engineering Group is the is one of the core groups responsible for collecting data from millions of sensors from various products of Enterprises, using the data to protect the customers, provide insights and necessary actions to be taken for security gap.\\n\\nThis position is an integral part of the McAfee Enterprise business segment which was acquired by Symphony Technology Group (STG) in July 2021. McAfee Enterprise and its team members remain committed to keeping governments and enterprises safe. This position is dedicated to and part of the McAfee Enterprise business.\\n\\n\\n\\nCompany Overview\\nMcAfee is a leader in personal security for consumers. Focused on protecting people, not just devices, McAfee consumer solutions adapt to users needs in an always online world, empowering them to live securely through integrated, intuitive solutions that protects their families and communities with the right security at the right moment.\\nAbout the Role:\\nDevelop Machine learning models to analyze and obtain practical insights from large volume of data that requires expertise at data exploration, analysis and feature engineering\\nExperiment and Develop POCs of innovative ideas to come up with new solutions for addressing security gaps\\nCreate machine learning pipelines to automate generation of efficient and better models\\nCommunicate and work with engineering teams to productionize the solutions\\nTaking ownership and responsibility of the solutions and driving to closure\\nParticipate in data and product analytics to develop customer insights and product features\\nImplement newer machine learning algorithms and models to improve the efficacy of the existing solutions\\nPublish research papers on the experiments and machine learning solutions\\nAbout you :\\n5+ years of experience in the field of Data Science\\n5+ years of programming experience in at least one of Python or Java\\n3+ years of working experience on large datasets using ML and experience with ML model life cycle\\nPhD degree in Computer Science, Data Science, Statistics, Mathematics or other related fields is preferred\\nDeep knowledge in Natural Language processing, Deep learning, statistics, predictive modeling and time series analysis.\\nPassionate about Cybersecurity and want to apply machine learning solutions in this space to solve security problems.\\nExperience working on Big data problems\\nExperience working on problems relevant to detecting risk, fraud and trust is an added advantage\\nExperience in working in AWS cloud environment is an added advantage\\nExperience with Publishing research papers',\n",
       " 'Roles and Responsibilities\\n\\nDetails in lined for Hiring Team to focus:\\nThe hiring is for a single Data Scientist (7-8+yrs) as he/she shall be an individual contributor.\\nWe shall seek for a strong java/python/scala with expertise into frameworks ML (spark/keras/tensorflow).\\nML concepts has to be thorough with proven expertise in ( Decision Trees, Random Forest, NLP) Deep Learning is excluded.\\nDesired Candidate Profile\\n\\n\\nPerks and Benefits',\n",
       " 'Dear Candidates\\nWe are looking for a competent and enthusiastic candidate with the below requirement. This vital role ensures Cunesoft India Pvt Ltd (a Phlexglobal Company) Bangalore can provide a high-quality end product to internal and external users. This position requires strong technical and communication skills as well as both independent and team working, including working closely with all other areas of the software delivery team and the rest of the Technology department.\\nRoles and Responsibilities\\n\\nKey Activities\\nDevelop and improve the existing data mining and NLP related processes within our Regulatory Data Management platform\\nDevelop new ways of improving and transforming the regulatory processes of Phlexglobal customers.\\nInteract with product management, project management and development teams to develop additional modules and functions within the Phlexglobal Cloud Platform\\nDesign and create solutions for pre specified modules and functions\\nUse existing tools and techniques to develop and test new and existing work\\nDefine, create and execute automated test cases, i.e. unit tests\\nParticipate in troubleshooting and triaging of issues with different teams to drive towards root cause identification and resolution\\nSupport production deployment of applications and perform validation testing during the off-hours maintenance windows\\nSupport and fix existing and new identified issues by either customers or internal test teams.\\n\\nDesired Candidate Profile\\n\\n\\nRequired Skills & Experience\\n\\nMinimum 3+ years working experience in NLP, Artificial Intelligence, Machine Learning, Text Mining, Neural Networks\\nStrong programming skills using PYTHON\\nIn depth experience with OpenNLP, Stanford NLP or related NLP / data mining technologies\\nIn depth experience with Python and data libraries such as scikit learn, pandas, numpy, etc.\\nSelecting features, building and optimizing classifiers using Machine learning techniques\\nExcellent understanding of Machine Learning Techniques and Algorithms.\\nMust have Data mining / Natural Language Processing experience\\nMust have very good understanding of GIT\\nProcessing, Cleansing, and verifying the integrity of data\\nDevelop custom data models and algorithms to apply to data sets.\\nDefining validation strategies\\nDefining the preprocessing or feature engineering to be done on a given dataset\\nDefining data augmentation pipelines\\nTraining models and tuning their hyperparameters\\nAnalyzing the errors of the model and designing strategies to overcome them\\nDeploying models to production\\n\\nAdded advantages\\n3+ years experience using Microsoft .NET / C#\\nExposure to ML.Net, AutoML, NimbusML, etc\\nGood knowledge of Microsoft Visual Studio is preferred\\nGood to have Microsoft SQL Server, preferably Microsoft SQL Azure\\nPrevious experience in the Life sciences area\\n\\nOther requirements\\nExcellent verbal and written communication skills\\nMust be flexible, independent and self motivated\\nPunctual, Regular and consistent attendance\\nAs part of the Interview process, you should have attempted the below mentioned Kaggle project.\\n\\nhttps://www.kaggle.com/c/titanic\\n\\nWe would like to arrange a phone interview with you. Please confirm your interest in this position by sending your recent CV attached along with below details.\\n\\nTotal years of Experience :\\n\\nRelevant Experience :\\n\\nCurrent CTC :\\n\\nExpected CTC :\\n\\nNotice Period :\\n\\nCurrent Location :\\n\\nBest time to talk to you :\\n\\nCandidates with relevant experience can contact me.\\n\\nWe are looking for a candidate who can join us immediately / in less than 15-20 days / 30 days / ASAP\\n\\nPlease ignore, if you have already been interviewed within 3 months.\\n\\nThanks\\nSrini\\n\\nsarumugam@phlexglobal.com\\n+91 63660 85842\\n\\nDot Net Developer\\n\\nJunior (3-5 yrs), Mid (5-8 yrs) & Lead (8-12 yrs) level roles.\\n\\nCommercial experience in web development using the full Microsoft .Net development stack (specifically C#, MVC, .Net Core), SQL, front-end frameworks (jQuery, React, etc).\\n\\nCoding, Entity framework, Linq, Source control system (Any - TFS or GIT), Data structures\\n\\nSkilled in modern development principles (Agile, SOLID, TDD, design patterns, IoC)\\n\\nAt least theoretical knowledge - know-SQL database (example\\nAzure Cosmos)\\n\\nGood to have - Ideally experience of Azure, MVVM, microservices, message bus, containerisation, serverless.\\n\\nMicrosoft .Net development stack, C#, MVC, .Net Core, SQL, front-end frameworks, jQuery, React, Entity framework, Linq, TFS, GIT, Data structures, Agile, SOLID, TDD, design patterns, IoC, SQL database, Azure Cosmos, Azure, MVVM, microservices, message bus, containerisation, serverless',\n",
       " \"About the role\\nWe are looking for skilled motivated professionals who will support and own multiple projects globally that drive business growth while still balancing compliance risk and partner friction. The role will cover areas such as (not limited to) Sanctions screening; Partner and user compliance; Customer due diligence; Transaction monitoring; Metrics development and monitoring; and Model and Strategy development - to help balance partner friction and compliance risk\\nWhat you'll do\\nDevelop and manage user risk rating models that meet applicable regulatory requirements and are aligned with standard methodologies and practices. Interpret large amounts of complex data to formulate problem statements, concise conclusions regarding underlying risk dynamics, trends, and opportunities Identify key risk indicators and metrics while developing and monitoring key parameters, enhance reporting, and identify new areas of analytic focus to better understand operational risk.\\nOwn compliance specific area - end to end - ranging from the discovery of the business problem to eventually working with the Engineering/Product teams to execute it Strategy design and analysis of domain-specific use-cases such as Reduction of cost of compliance;\\nImprove monitoring mechanism to alert any anomaly in compliance or business metric; Improve funnel for Partner onboarding, thereby improving user experience; and Drive multiple experiments to evaluate and quantify the hypothesis Extensive data analytics and SQL query writing Predictive modeling / Machine learning algorithms - using random Forest / Decision tree / Logistic regression\\nKey Qualifications\\n6 years of proven experience in a data-focused role such as product analytics, business analytics, business operations, or data science Education in Engineering, Computer Science, Math, Economics, Statistics or equivalent experience Past experience in Payments or Compliance with a Product / Tech company serving millions of customers on multiple platforms and countries BA/BS in Mathematics, Statistics, Computer Science, Economics, Business or analytical field SQL mastery.\\nWrite efficient and complex code in SQL Experience in Python/R and in experimentation, A/B testing, and statistical modeling Define business metrics, including Key Performance Indicators, for financial products, in close partnership with Product Management and other leaders Proven ability to handle large datasets, explore and utilize raw data feeds\\nExcellent data visualization skills Love of data - you just go get the data you need and turn it into an insightful story. You know how to convert data into decisions without getting stuck in paralysis by analysis A well-organized, structured approach to problem-solving\\nStrong sense of ownership, accountability, and entrepreneurial spirit Able to lead change and solution-oriented Great communicator, problem-solver confident in decision making Independent autonomous, while still a strong teammate Enthusiastic, self-starting and thrives in changing, agile environment.\",\n",
       " 'Work location: Bengaluru (Currently, Remote)\\nShift timing: 12PM to 9PM\\nWork with stakeholders throughout the organization to identify opportunities for leveraging company data to drive business solutions.\\nDevelop a use case roadmap for a problem area or capability for the business. Frame the business problem into a Data Science or modelling problem.\\nExtract data from multiple sources. Mine and analyze data from company databases to drive optimization and improvement of product.\\nWork as the data strategist, identifying and integrating new datasets that can be leveraged through our product capabilities and work closely with Client Support, Product Management and Engineering team to strategize and execute the development of data products.\\nProcessing, cleansing, and verifying the integrity of data used for analysis. Undertake preprocessing of structured and unstructured data.\\nData mining using state-of-the-art methods. Selecting features, building and optimizing classifiers using ML/AI techniques.\\nPresent technical solutions to internal and external stakeholders in a formal setting, effectively communicating key concepts and functionalities\\nEffectively manage client expectations via direct and frequent communication with high quality results\\nDevelop front end deliverable solutions for stakeholders utilizing BI tools such as Tableau, Cognos, Excel, or similar\\nWork on multiple assignments concurrently, while handling priorities and challenges and meeting timelines basis project plan and roadmap.\\nBuild self-service tools for error detection, diagnosis, and predictive metrics.\\nBuild project plans, maintain to-do list, organize work, follow coding ethics, and have an eye for detail\\n\\n\\nQualifications\\nBachelor s or Master s degree in a quantitative discipline (e.g., data science, statistics, economics, mathematics, computer science) or significant relevant coursework/experience\\n4+ years professional experience in the field of data science or business intelligence\\nDemonstrated proficiency in PYTHON/SCALA/SQL and BIG DATA technologies and the proven ability to program in big data/cloud technologies such as AWS SPARK; minimum 3 years of experience\\nExperienced with Machine Learning algorithms such as logistic regression, linear regression, lasso regression, k-means, random forest, XG boost, KNN, SVM and neural network; minimum 2 years of experience\\nAble to produce elaborate documents/narrative suggesting actionable insights and recommendations leveraging BI tools such as Tableau\\nExpertise with Microsoft Office products; including Excel, PowerPoint, Word\\nGreat communication skills. Excellent written and verbal communication skills for coordinating across teams.\\nSelf-driven and results oriented. Willing to stretch to meet tight timelines.\\nStrong team player with ability to collaborate effectively across geographies/ time zones\\nGood understanding of Digital Marketing, Campaign Measurement, Web Analytics\\nDesirable Qualifications:\\nProfessional experience working with R\\nProfessional experience working with Power BI, Cognos, Dash, Looker, Domo\\nProfessional experience in fraud analytics, customer journey, attribution modeling, churn modeling, predictive analytics, customer segmentation, feature creation, statistical testing, a/b testing, production curve modeling, NLP, and partner recommendations.\\nProfessional analytical consulting experience with clients in Retail, Finance, Travel, or Home and Business Services',\n",
       " 'Bidgely is looking for extraordinary and dynamic Data Scientists to be part of its core team in Bangalore. You must have delivered advanced statistical and machine learning models as part of commercial products and created substantial intellectual property with business impact. You must enjoy working with large data and finding interesting patterns in the data through analytics experiments in a methodical and data driven scientific way. Be part of a highly energetic and innovative team that believes nothing is impossible with some creativity and hard work.\\nResponsibilities\\nResearch and develop advanced statistical and machine learning models for analysis of large-scale, high-dimensional data.\\nDig deeper into data, understand characteristics of data, evaluate alternate models and validate hypothesis through theoretical and empirical approaches.\\nProductize proven or working models into production quality code.\\nCollaborate with product management, marketing and engineering teams in Business Units to elicit understand their requirements challenges and develop potential solutions\\nStay current with latest research and technology ideas; share knowledge by clearly articulating results and ideas to key decision makers.\\nFile patents for innovative solutions that add to company s IP portfolio\\nRequirements\\n4 to 6 years of strong experience in data mining, machine learning and statistical analysis.\\nBS/MS/PhD in Computer Science, Statistics, Applied Math, or related areas from Premier institutes (only IITs / IISc / BITS / Top NITs or top US university should apply)\\nExperience in productizing models to code in a fast-paced start-up environment.\\nExpertise in Python programming language and fluency in analytical tools such as Matlab, R, Weka etc.\\nStrong intuition for data and Keen aptitude on large scale data analysis\\nStrong communication and collaboration skills.',\n",
       " 'Roles and Responsibilities:\\n\\nWork as part of a product team in defining, prototyping and implementing data science models/algorithms as part of the product.\\nBe able to research and apply the latest Machine Learning architecture solutions that work for big data Batches and Streams.\\nBuild data expertise, act like an owner for the company and manage complex data systems for a product or a group of products.\\nDesigning, integrating and documenting technical components for data flows or applications that perform analysis at a massive scale.\\nAlong with project managers, own the business outcomes/metrics which the data science model/algorithm drives.\\nBuild large scale data systems that would work across multiple geographies\\nSolid understanding of the mathematics of ML - Probability, Statistics, Linear Algebra of Matrices, Modelling Hyperparameter tuning for speed of learning & model performance.\\nAbility to understand business concerns and formulate them as technical problems that can be solved using Data/Math/Stats/ML.\\nExperience working as part of a product team, along with engineers and product managers, to define the problem and execute the data science solution.\\n\\n\\nDesired Candidate Profile:\\n\\n4+ Years of Relevant Experience.\\nHands on experience of coding in Python and SQL (MySQL and Postgres)\\nHands-on experience of applying and tuning the following algos of data science in multiple verticles:\\nRecommendation Algos (Collaborative filtering, Content filtering (ALS etc.))\\nClassification and Regression Algos\\nMachine Learning Algos (XGBoost, Random Forest)\\nClustering Algos (KMeans)\\nDimensionality Reduction Algos (PCA)\\nExperience of coding in Pyspark and Scala\\nWorking knowledge of Airflow, Hadoop (HDFS) and Git\\nTuning of various performance matrix (for accuracy, precision, recall, F1 Score, AUC, ROC)\\nExperience in Deep Learning Algos (Neural Network)',\n",
       " 'Greetings from Onward Technologies!\\n\\nWe are Hiring for Data scientist for one of our prestigious Client.\\nPermanent Role.\\nJob description:\\nExp : 6 to 11years\\nLocation : Bangalore\\nNp : Max 15 to 30days\\n\\nPrimary Skill: Data science, Machine Learning,Structured Data Analysis',\n",
       " 'Roles and Responsibilities\\nJob Description\\nWhat You Will Do :Job Description: Senior Data Scientist\\nOur Analytics Services group has an open, full-time position in the Bangalore region for a Senior data scientist.  The senior data scientist will be working with our clients on new product development/ new solution development as well as improve on current solutions.\\nFunctional Responsibilities\\n        Develop strong statistical approaches to solution development. Candidate should be well versed in executing statistical models  on Regression, Ancova, Factor analysis, Cluster analysis, Text based mining, and similar modeling approaches.\\n        Evaluate model effectiveness and ability to translate the statistical requirements into excel based examples.\\nCandidate should be proficient in writing good code in Python, PySpark.\\n        Strong proficiency with manipulating big data with R , Python, SQL. A high comfort level with data manipulation and extraction of meaningful insights from large data and prior experience of working with large data is a plus. Experience with SAS is acceptable\\nCandidate should have good working knowledge on AI and ML and should have applied these techniques on some of their recent projects\\n        Being creative in identifying new techniques and processes to streamline and increase efficiency and effectiveness of current work-streams is a plus.\\n        High level of attention to detail and problem solving \\nProfessional requirement\\nPost graduate degree in Economics, MBA, Statistics, Mathematics, Operations Research, Quantitative Analysis, or related field\\n6-10 years of consolidated work experience in Analytic Industry.\\nStrong statistical and quantitative analysis skills. Knowledge of Statistical Analysis techniques which are used in Marketing analytics.\\nAdvanced knowledge of SQL and experience with statistical packages such as Python, Spark, PySpark, R. Experience with Oracles Exadata environment is a plus.\\nExcellent data interpretation skills. Experience in using charting/reporting\\nSkilled in MS-Office, specifically Excel and Powerpoint\\nShould have basic knowledge of market research & any specific knowledge on Retail and FMCG/CPG/Pharma industry will be an added advantage.\\nKnowledge on Retailer loyalty card data/Store transaction level data will be an added advantage.\\n\\n\\nDesired Candidate Profile\\nMust have skill: statistical modeling, pyspark, python\\nNP : we can accept max 60 days. 90 days NP please avoid',\n",
       " 'Role : Sr Data Scientist / Tech Lead - Data Science\\n\\nResponsibilities -\\nLead a team of data scientists, machine learning engineers and big data specialists\\nBe the main point of contact for the customers\\nLead data mining and collection procedures\\nEnsure data quality and integrity\\nInterpret and analyze data problems\\nConceive, plan and prioritize data projects\\nBuild analytic systems and predictive models\\nTest performance of data-driven products\\nVisualize data and create reports\\nExperiment with new models and techniques\\nAlign data projects with organizational goals\\n\\nRequirements (please read carefully)\\nVery strong in statistics fundamentals. Not all data is Big Data. The candidate should be able to derive statistical insights from very few data points if required, using traditional statistical methods.\\nEducation - no bar, but preferably from a Statistics academic background (eg MSc-Stats, MSc-Econometrics etc), given the first point. Any Relevant Graduate (BE/B Tech, MCA Prefer)\\nStrong expertise in Python (any other statistical languages/tools like R, SAS, SPSS etc are just optional, but Python is absolutely essential). If the person is very strong in Python, but has almost nil knowledge in the other statistical tools, he/she will still be considered a good candidate for this role.\\nProven experience as a Data Scientist or similar role, for about 7-8 years\\nSolid understanding of machine learning and AI concepts, especially wrt choice of apt candidate algorithms for a use case, and model evaluation.\\nGood expertise in writing SQL queries (should not be dependent upon anyone else for pulling in data, joining them, data wrangling etc)\\nKnowledge of data management and visualization techniques -- more from a Data Science perspective.\\nShould be able to grasp business problems, ask the right questions to better understand the problem breadthwise /depthwise, design apt solutions, and explain that to the business stakeholders.\\n\\nWork Experience Required: 6-9 yrs.',\n",
       " 'Key Requirements:\\n• Data-oriented personality\\n• Good applied statistics skills, such as distributions, statistical testing, regression, etc.\\nExperience with Deep Learning, BERT, Transformer, LSTM, RNN, Text Classification, Clustering.\\n• At least 2 - 9 years of experience using statistical computer languages (R, Python, SLQ, etc.) to manipulate data and draw insights from large data sets.\\n\\n• Experience working with and creating data architectures, data management, data analysis and data extraction\\n\\n• Knowledge of a variety of machine learning techniques (clustering, decision tree learning, artificial neural networks, etc.) and their real-world advantages/drawbacks.\\n\\n• Knowledge of advanced statistical techniques and concepts (regression, properties of distributions, statistical tests and proper usage, etc.) and experience with applications.\\n\\n• Ability to grasp nuances of business quickly.\\n\\n• Ability to problem solve and break down the complex problem into solvable pieces.\\n\\n• Ability to deliver quick and accurate results for each analysis/task\\n\\n• Ability to do work within tight timelines\\n\\nThe ideal candidate should constantly stays on top of the industry’s trends, in order to provide forward-thinking recommendations to the business. In this capacity, the candidate will strive to build an in-depth understanding of the problem domain and available business data assets, especially those pertaining to strategic initiatives and value-based programs.\\n\\nThe idea candidate would identify the data the business should be collecting, devises methods of instrumenting the business’s system in order to extract this information and work with other data and analytics departments to develop the processes that transform raw data into actionable business insights and will also mentor supporting personnel for this position, continuously ensuring effective execution of duties at this junior level.',\n",
       " 'Hiring for B2B saas product companies across Pan INDIA\\n\\nSkills And Experience :\\n\\n- Masters in a Computer Science, Artificial Intelligence, Machine Learning, or related technical field) or Ph.D. preferred\\n\\n- 7+ years of experience in data science roles\\n\\n- Experience in applied machine learning or artificial intelligence\\n\\n- Experience with predictive modeling (classification, regression, parameter tuning, optimization criteria, feature selection), preferably with multiple techniques is a requirement.\\n\\n- Experience applying modern machine learning techniques\\n\\n- Experience with one or more general-purpose programming languages (Python, Java, or C/C++)\\n\\n- Experience advising a team on innovative methodologies, data science tools, and environments on machine learning and data modeling applications.\\n\\nRequirements:\\n\\n- Frameworks - TensorFlow, PyTorch, etc\\n\\n- Cloud platforms and Big Data domains is a plus (e.g. Hadoop, Spark, AWS, GCP, MS Azure)\\n\\n- working with Geospatial data is a plus',\n",
       " 'Engagement and collaboration with globally deployed, multi-disciplinary teams to design and implement efficient, well-focused, statistically fit-for-purpose studies, analyse, visualize and interpret data, build and validate models and simulations.\\nWork primarily with Biology teams to design experiments, carry out multi-omics data analysis. Should have sound working knowledge of cheminformatics, microbiomics and network biology.\\nBuild mathematical and statistical models biological and other related datasets. Application of ML/AI techniques, deep learning methods and network science to drive innovations in biology/non-biology dataset including image data.\\nBuild capabilities to be democratized and carry-out upskilling sessions to non-experts.\\nShould work in inter-disciplinary teams that will include product formulators, process/packaging engineers, clinicians, measurement scientists, bio-informaticians, claim experts, and other data scientists, both internal to the company and external partners.\\nDemonstrate agility by extending the analytics application beyond biology dataset.\\nCandidate must be able to communicate the analytical results and insights effectively with the program manager and senior management.',\n",
       " 'Dynamic recruiting professional with 7 - 10 years of high-performance tech recruiting experience with search firms and /or mid-large-sized technology companies.\\nExperience in engaging and hiring the best talent for Data Engineers, Data Scientist and SAP\\nOpen to learning from your peers managers, anything that helps you do your job better day in day out also often share best practices in hiring talent attraction strategies with them.\\nWork well with teams as also on your own as a high-impact individual contributor.\\nUse social media, job boards, Internet sourcing, and other technical means to source candidates for open jobs.\\nUnderstanding of modern recruiting methods like hackathons but are equally comfortable with old school methods as well.\\nWork with internal technology teams and hiring managers to assist with recruitment efforts across levels.\\nWork in sync with the company-wide recruitment strategy. This may include job posting optimization, recruiting marketing channel development, search selection using job boards, digital and non-digital employment marketing, comprehensive recruitment campaign planning, talent planning, stakeholder management, etc.\\nIdentify and source appropriate talent for current open roles within the organization using traditional non-traditional means of recruiting.\\nProactively develop talent pools/talent communities to dip into when hiring is in full swing.\\nManage the end-to-end recruitment process and life-cycle, including sourcing, initial assessments, telephonic personal interviews culminating in offers maintaining the appropriate MIS.',\n",
       " 'We are a team of applied scientists working on machine learning components in the whole sponsored search stack. Our team works on problems related to machine learning, deep learning, natural language processing, image understanding, optimization, information retrieval, auction theory, among others. Our work entails building large-scale machine learning systems for ad matching, filtration, ranking, and multiobjective optimization, and a number of other ML-driven business problems.\\nYou will design, implement, analyze, tune complex algorithms and ML systems and the supporting infrastructure for operating on large datasets. You will collaborate with top machine learning scientists and engineers in delivering direct business impact. Were looking for sound understanding and insight into productionizing machine learning models in large-scale systems, an ability to pick up new technical areas, as well as a commitment to developing, delivering, and supporting algorithms in production.\\nQualifications :\\nMS/BS in CS/EE, mathematical or machine learning related disciplines, with 3 or more years of experience\\nSolid understanding of probability, statistics, machine learning, data science\\nA/B testing analysis of ML models, and optimizing models for accuracy\\nExperience with Hadoop, Spark, or other distributed computing systems for large-scale training prediction with ML models.\\nEnd-to-end system design: data analysis, feature engineering, technique selection implementation, debugging, and maintenance in production.\\nExperience implementing machine learning algorithms or research papers from scratch.',\n",
       " 'Key Responsibilities:\\n\\n• Harvest Natural Language resources from the Web. You will also be responsible for rapid bootstrapping of domain-specific and multilingual Natural Language models and syntactic parsing and text classification\\n• Have large-scale development and deployment, performance monitoring, tuning and optimization of Natural Language models\\n• Interface using ontologies, discourse processing, language generation and summarization.\\n• Responsible for annotation of texts using Natural Language Processing annotators such as inception\\n• Transform a model from research to production and ability to fine-tune model performance in a production setting using adaptive/incremental machine learning techniques\\n\\nSkills Required:\\n• Masters (With 5 years of experience) or PhD degree (2 years of experience) in computer science, engineering, linguistics, or a related field.\\n• Experience in natural language processing technologies and services with emphasis in one or more of the following:\\n• Data acquisition and NL modeling: harvesting NL resources from the Web, rapid bootstrapping of domain-specific and multilingual NL models for named-entity, syntactic parsing and text classification\\n• NL systems: large-scale development and deployment, performance monitoring, tuning and optimization of NL models\\n• NL methodology: grammar-based, data-driven and machine learning-based, hybrid approaches\\n• NL technologies: spoken language understanding, language translation, natural language search, syntax-semantics.\\n• Interfaces using ontologies, discourse processing, language generation and summarization, interactive NL systems\\n• In depth understanding of language processing technology, a strong software background and experience with processing large scale multilingual texts through effective use of computing resources.\\n• Hands on experience with NLTK tool, tokenization, lemmatization, NER model architecture, creating an NLP pipeline with sentence resolver, relationship extraction, chunk merge approach\\n• Annotation of texts using NLP annotators such as inception\\n• Transforming a model from research to production and ability to fine-tune model performance in a production setting using adaptive/incremental machine learning techniques']"
      ]
     },
     "execution_count": 144,
     "metadata": {},
     "output_type": "execute_result"
    }
   ],
   "source": [
    "#Scraping job description for each url\n",
    "discriptions = []\n",
    "for i in job_opening_urls:\n",
    "    driver.get(i)\n",
    "    try:\n",
    "        job_desc = driver.find_element_by_xpath('//div[@class=\"dang-inner-html\"]')\n",
    "        discriptions.append(job_desc.text)\n",
    "    except:\n",
    "        pass\n",
    "discriptions"
   ]
  },
  {
   "cell_type": "code",
   "execution_count": 145,
   "metadata": {},
   "outputs": [
    {
     "name": "stdout",
     "output_type": "stream",
     "text": [
      "18 18 18 18 18\n"
     ]
    }
   ],
   "source": [
    "#Checking length\n",
    "print(len(company_titles),len(job_titles),len(experience_list),len(location_list),len(discriptions))"
   ]
  },
  {
   "cell_type": "code",
   "execution_count": 146,
   "metadata": {},
   "outputs": [
    {
     "data": {
      "text/html": [
       "<div>\n",
       "<style scoped>\n",
       "    .dataframe tbody tr th:only-of-type {\n",
       "        vertical-align: middle;\n",
       "    }\n",
       "\n",
       "    .dataframe tbody tr th {\n",
       "        vertical-align: top;\n",
       "    }\n",
       "\n",
       "    .dataframe thead th {\n",
       "        text-align: right;\n",
       "    }\n",
       "</style>\n",
       "<table border=\"1\" class=\"dataframe\">\n",
       "  <thead>\n",
       "    <tr style=\"text-align: right;\">\n",
       "      <th></th>\n",
       "      <th>Title</th>\n",
       "      <th>Company Name</th>\n",
       "      <th>Experience Required</th>\n",
       "      <th>Location</th>\n",
       "      <th>Description</th>\n",
       "    </tr>\n",
       "  </thead>\n",
       "  <tbody>\n",
       "    <tr>\n",
       "      <th>0</th>\n",
       "      <td>Senior Data Scientist</td>\n",
       "      <td>Philips India Limited</td>\n",
       "      <td>8 - 10 years</td>\n",
       "      <td>Bangalore/Bengaluru</td>\n",
       "      <td>Be a part of the Enterprise IT , Information...</td>\n",
       "    </tr>\n",
       "    <tr>\n",
       "      <th>1</th>\n",
       "      <td>Senior Data Scientist</td>\n",
       "      <td>IBM India Pvt. Limited</td>\n",
       "      <td>10 - 15 years</td>\n",
       "      <td>Bangalore/Bengaluru</td>\n",
       "      <td>Required Candidate profile\\nWe are looking for...</td>\n",
       "    </tr>\n",
       "    <tr>\n",
       "      <th>2</th>\n",
       "      <td>DATA SCIENTIST</td>\n",
       "      <td>SYMBIOSIS International W.L.L</td>\n",
       "      <td>4 - 8 years</td>\n",
       "      <td>Bangalore/Bengaluru</td>\n",
       "      <td>Data Scientist Primary Location India, Bangalo...</td>\n",
       "    </tr>\n",
       "    <tr>\n",
       "      <th>3</th>\n",
       "      <td>Senior Data Scientist</td>\n",
       "      <td>McAfee Software (India) Pvt. Ltd</td>\n",
       "      <td>8 - 13 years</td>\n",
       "      <td>Bangalore/Bengaluru</td>\n",
       "      <td>Roles and Responsibilities\\n\\nDetails in lined...</td>\n",
       "    </tr>\n",
       "    <tr>\n",
       "      <th>4</th>\n",
       "      <td>Software Developer - Data Scientist / NLP / Ma...</td>\n",
       "      <td>Datamatics Global Services Ltd</td>\n",
       "      <td>3 - 8 years</td>\n",
       "      <td>Bangalore/Bengaluru</td>\n",
       "      <td>Dear Candidates\\nWe are looking for a competen...</td>\n",
       "    </tr>\n",
       "    <tr>\n",
       "      <th>5</th>\n",
       "      <td>Data scientist</td>\n",
       "      <td>Cunesoft India Private Limited</td>\n",
       "      <td>6 - 8 years</td>\n",
       "      <td>Bangalore/Bengaluru</td>\n",
       "      <td>About the role\\nWe are looking for skilled mot...</td>\n",
       "    </tr>\n",
       "    <tr>\n",
       "      <th>6</th>\n",
       "      <td>Senior Data Scientist</td>\n",
       "      <td>Uber</td>\n",
       "      <td>2 - 5 years</td>\n",
       "      <td>Bangalore/Bengaluru</td>\n",
       "      <td>Work location: Bengaluru (Currently, Remote)\\n...</td>\n",
       "    </tr>\n",
       "    <tr>\n",
       "      <th>7</th>\n",
       "      <td>Senior Data Scientist</td>\n",
       "      <td>IBM India Pvt. Limited</td>\n",
       "      <td>4 - 6 years</td>\n",
       "      <td>Bangalore/Bengaluru</td>\n",
       "      <td>Bidgely is looking for extraordinary and dynam...</td>\n",
       "    </tr>\n",
       "    <tr>\n",
       "      <th>8</th>\n",
       "      <td>Senior Data Scientist</td>\n",
       "      <td>IBM India Pvt. Limited</td>\n",
       "      <td>4 - 8 years</td>\n",
       "      <td>New Delhi, Bangalore/Bengaluru, Delhi / NCR</td>\n",
       "      <td>Roles and Responsibilities:\\n\\nWork as part of...</td>\n",
       "    </tr>\n",
       "    <tr>\n",
       "      <th>9</th>\n",
       "      <td>Data Scientist - Permanent Role</td>\n",
       "      <td>Publicis Groupe</td>\n",
       "      <td>6 - 11 years</td>\n",
       "      <td>Hyderabad/Secunderabad, Chennai, Bangalore/Ben...</td>\n",
       "      <td>Greetings from Onward Technologies!\\n\\nWe are ...</td>\n",
       "    </tr>\n",
       "    <tr>\n",
       "      <th>10</th>\n",
       "      <td>Senior Data Scientist</td>\n",
       "      <td>Bidgely Technologies Private Limited</td>\n",
       "      <td>4 - 9 years</td>\n",
       "      <td>Bangalore/Bengaluru</td>\n",
       "      <td>Roles and Responsibilities\\nJob Description\\nW...</td>\n",
       "    </tr>\n",
       "    <tr>\n",
       "      <th>11</th>\n",
       "      <td>Sr. Data Scientist / Tech Lead - Data Science</td>\n",
       "      <td>Goals 101 Data Solutions Pvt. Ltd.</td>\n",
       "      <td>6 - 9 years</td>\n",
       "      <td>Bangalore/Bengaluru</td>\n",
       "      <td>Role : Sr Data Scientist / Tech Lead - Data Sc...</td>\n",
       "    </tr>\n",
       "    <tr>\n",
       "      <th>12</th>\n",
       "      <td>Senior Data Scientist</td>\n",
       "      <td>Onward Technologies Limited</td>\n",
       "      <td>5 - 9 years</td>\n",
       "      <td>Kochi/Cochin, Hyderabad/Secunderabad, Pune, Ch...</td>\n",
       "      <td>Key Requirements:\\n• Data-oriented personality...</td>\n",
       "    </tr>\n",
       "    <tr>\n",
       "      <th>13</th>\n",
       "      <td>Lead Data Scientist - Tensorflow/Machine Learning</td>\n",
       "      <td>RANDSTAD INDIA PVT LTD</td>\n",
       "      <td>7 - 10 years</td>\n",
       "      <td>Mumbai, Hyderabad/Secunderabad, Chennai, Banga...</td>\n",
       "      <td>Hiring for B2B saas product companies across P...</td>\n",
       "    </tr>\n",
       "    <tr>\n",
       "      <th>14</th>\n",
       "      <td>Associate Data Scientist</td>\n",
       "      <td>Confidential</td>\n",
       "      <td>5 - 10 years</td>\n",
       "      <td>Bangalore/Bengaluru</td>\n",
       "      <td>Engagement and collaboration with globally dep...</td>\n",
       "    </tr>\n",
       "    <tr>\n",
       "      <th>15</th>\n",
       "      <td>Data Engineers , Data Scientist and SAP</td>\n",
       "      <td>L A Consultancy</td>\n",
       "      <td>7 - 10 years</td>\n",
       "      <td>Bangalore/Bengaluru</td>\n",
       "      <td>Dynamic recruiting professional with 7 - 10 ye...</td>\n",
       "    </tr>\n",
       "    <tr>\n",
       "      <th>16</th>\n",
       "      <td>Senior Data &amp; Applied Scientist</td>\n",
       "      <td>Getinz Techno Services</td>\n",
       "      <td>3 - 5 years</td>\n",
       "      <td>Bangalore/Bengaluru</td>\n",
       "      <td>We are a team of applied scientists working on...</td>\n",
       "    </tr>\n",
       "    <tr>\n",
       "      <th>17</th>\n",
       "      <td>Senior Software Engineer - Data Scientist</td>\n",
       "      <td>ExecBoardinAsia</td>\n",
       "      <td>6 - 10 years</td>\n",
       "      <td>Bangalore/Bengaluru</td>\n",
       "      <td>Key Responsibilities:\\n\\n• Harvest Natural Lan...</td>\n",
       "    </tr>\n",
       "  </tbody>\n",
       "</table>\n",
       "</div>"
      ],
      "text/plain": [
       "                                                Title  \\\n",
       "0                               Senior Data Scientist   \n",
       "1                               Senior Data Scientist   \n",
       "2                                      DATA SCIENTIST   \n",
       "3                               Senior Data Scientist   \n",
       "4   Software Developer - Data Scientist / NLP / Ma...   \n",
       "5                                      Data scientist   \n",
       "6                               Senior Data Scientist   \n",
       "7                               Senior Data Scientist   \n",
       "8                               Senior Data Scientist   \n",
       "9                     Data Scientist - Permanent Role   \n",
       "10                              Senior Data Scientist   \n",
       "11      Sr. Data Scientist / Tech Lead - Data Science   \n",
       "12                              Senior Data Scientist   \n",
       "13  Lead Data Scientist - Tensorflow/Machine Learning   \n",
       "14                           Associate Data Scientist   \n",
       "15            Data Engineers , Data Scientist and SAP   \n",
       "16                    Senior Data & Applied Scientist   \n",
       "17          Senior Software Engineer - Data Scientist   \n",
       "\n",
       "                            Company Name Experience Required  \\\n",
       "0                  Philips India Limited        8 - 10 years   \n",
       "1                 IBM India Pvt. Limited       10 - 15 years   \n",
       "2          SYMBIOSIS International W.L.L         4 - 8 years   \n",
       "3       McAfee Software (India) Pvt. Ltd        8 - 13 years   \n",
       "4         Datamatics Global Services Ltd         3 - 8 years   \n",
       "5         Cunesoft India Private Limited         6 - 8 years   \n",
       "6                                   Uber         2 - 5 years   \n",
       "7                 IBM India Pvt. Limited         4 - 6 years   \n",
       "8                 IBM India Pvt. Limited         4 - 8 years   \n",
       "9                        Publicis Groupe        6 - 11 years   \n",
       "10  Bidgely Technologies Private Limited         4 - 9 years   \n",
       "11    Goals 101 Data Solutions Pvt. Ltd.         6 - 9 years   \n",
       "12           Onward Technologies Limited         5 - 9 years   \n",
       "13                RANDSTAD INDIA PVT LTD        7 - 10 years   \n",
       "14                          Confidential        5 - 10 years   \n",
       "15                       L A Consultancy        7 - 10 years   \n",
       "16                Getinz Techno Services         3 - 5 years   \n",
       "17                       ExecBoardinAsia        6 - 10 years   \n",
       "\n",
       "                                             Location  \\\n",
       "0                                 Bangalore/Bengaluru   \n",
       "1                                 Bangalore/Bengaluru   \n",
       "2                                 Bangalore/Bengaluru   \n",
       "3                                 Bangalore/Bengaluru   \n",
       "4                                 Bangalore/Bengaluru   \n",
       "5                                 Bangalore/Bengaluru   \n",
       "6                                 Bangalore/Bengaluru   \n",
       "7                                 Bangalore/Bengaluru   \n",
       "8         New Delhi, Bangalore/Bengaluru, Delhi / NCR   \n",
       "9   Hyderabad/Secunderabad, Chennai, Bangalore/Ben...   \n",
       "10                                Bangalore/Bengaluru   \n",
       "11                                Bangalore/Bengaluru   \n",
       "12  Kochi/Cochin, Hyderabad/Secunderabad, Pune, Ch...   \n",
       "13  Mumbai, Hyderabad/Secunderabad, Chennai, Banga...   \n",
       "14                                Bangalore/Bengaluru   \n",
       "15                                Bangalore/Bengaluru   \n",
       "16                                Bangalore/Bengaluru   \n",
       "17                                Bangalore/Bengaluru   \n",
       "\n",
       "                                          Description  \n",
       "0     Be a part of the Enterprise IT , Information...  \n",
       "1   Required Candidate profile\\nWe are looking for...  \n",
       "2   Data Scientist Primary Location India, Bangalo...  \n",
       "3   Roles and Responsibilities\\n\\nDetails in lined...  \n",
       "4   Dear Candidates\\nWe are looking for a competen...  \n",
       "5   About the role\\nWe are looking for skilled mot...  \n",
       "6   Work location: Bengaluru (Currently, Remote)\\n...  \n",
       "7   Bidgely is looking for extraordinary and dynam...  \n",
       "8   Roles and Responsibilities:\\n\\nWork as part of...  \n",
       "9   Greetings from Onward Technologies!\\n\\nWe are ...  \n",
       "10  Roles and Responsibilities\\nJob Description\\nW...  \n",
       "11  Role : Sr Data Scientist / Tech Lead - Data Sc...  \n",
       "12  Key Requirements:\\n• Data-oriented personality...  \n",
       "13  Hiring for B2B saas product companies across P...  \n",
       "14  Engagement and collaboration with globally dep...  \n",
       "15  Dynamic recruiting professional with 7 - 10 ye...  \n",
       "16  We are a team of applied scientists working on...  \n",
       "17  Key Responsibilities:\\n\\n• Harvest Natural Lan...  "
      ]
     },
     "execution_count": 146,
     "metadata": {},
     "output_type": "execute_result"
    }
   ],
   "source": [
    "#Creating data frame\n",
    "jobs_ds = pd.DataFrame({})\n",
    "jobs_ds['Title'] = job_titles\n",
    "jobs_ds['Company Name'] = company_titles\n",
    "jobs_ds['Experience Required'] = experience_list\n",
    "jobs_ds['Location'] = location_list\n",
    "jobs_ds['Description'] = discriptions\n",
    "jobs_ds"
   ]
  },
  {
   "cell_type": "code",
   "execution_count": 148,
   "metadata": {},
   "outputs": [
    {
     "data": {
      "text/html": [
       "<div>\n",
       "<style scoped>\n",
       "    .dataframe tbody tr th:only-of-type {\n",
       "        vertical-align: middle;\n",
       "    }\n",
       "\n",
       "    .dataframe tbody tr th {\n",
       "        vertical-align: top;\n",
       "    }\n",
       "\n",
       "    .dataframe thead th {\n",
       "        text-align: right;\n",
       "    }\n",
       "</style>\n",
       "<table border=\"1\" class=\"dataframe\">\n",
       "  <thead>\n",
       "    <tr style=\"text-align: right;\">\n",
       "      <th></th>\n",
       "      <th>Title</th>\n",
       "      <th>Company Name</th>\n",
       "      <th>Experience Required</th>\n",
       "      <th>Location</th>\n",
       "      <th>Description</th>\n",
       "    </tr>\n",
       "  </thead>\n",
       "  <tbody>\n",
       "    <tr>\n",
       "      <th>0</th>\n",
       "      <td>Senior Data Scientist</td>\n",
       "      <td>Philips India Limited</td>\n",
       "      <td>8 - 10 years</td>\n",
       "      <td>Bangalore/Bengaluru</td>\n",
       "      <td>Be a part of the Enterprise IT , Information...</td>\n",
       "    </tr>\n",
       "    <tr>\n",
       "      <th>1</th>\n",
       "      <td>Senior Data Scientist</td>\n",
       "      <td>IBM India Pvt. Limited</td>\n",
       "      <td>10 - 15 years</td>\n",
       "      <td>Bangalore/Bengaluru</td>\n",
       "      <td>Required Candidate profile\\nWe are looking for...</td>\n",
       "    </tr>\n",
       "    <tr>\n",
       "      <th>2</th>\n",
       "      <td>DATA SCIENTIST</td>\n",
       "      <td>SYMBIOSIS International W.L.L</td>\n",
       "      <td>4 - 8 years</td>\n",
       "      <td>Bangalore/Bengaluru</td>\n",
       "      <td>Data Scientist Primary Location India, Bangalo...</td>\n",
       "    </tr>\n",
       "    <tr>\n",
       "      <th>3</th>\n",
       "      <td>Senior Data Scientist</td>\n",
       "      <td>McAfee Software (India) Pvt. Ltd</td>\n",
       "      <td>8 - 13 years</td>\n",
       "      <td>Bangalore/Bengaluru</td>\n",
       "      <td>Roles and Responsibilities\\n\\nDetails in lined...</td>\n",
       "    </tr>\n",
       "    <tr>\n",
       "      <th>4</th>\n",
       "      <td>Software Developer - Data Scientist / NLP / Ma...</td>\n",
       "      <td>Datamatics Global Services Ltd</td>\n",
       "      <td>3 - 8 years</td>\n",
       "      <td>Bangalore/Bengaluru</td>\n",
       "      <td>Dear Candidates\\nWe are looking for a competen...</td>\n",
       "    </tr>\n",
       "    <tr>\n",
       "      <th>5</th>\n",
       "      <td>Data scientist</td>\n",
       "      <td>Cunesoft India Private Limited</td>\n",
       "      <td>6 - 8 years</td>\n",
       "      <td>Bangalore/Bengaluru</td>\n",
       "      <td>About the role\\nWe are looking for skilled mot...</td>\n",
       "    </tr>\n",
       "    <tr>\n",
       "      <th>6</th>\n",
       "      <td>Senior Data Scientist</td>\n",
       "      <td>Uber</td>\n",
       "      <td>2 - 5 years</td>\n",
       "      <td>Bangalore/Bengaluru</td>\n",
       "      <td>Work location: Bengaluru (Currently, Remote)\\n...</td>\n",
       "    </tr>\n",
       "    <tr>\n",
       "      <th>7</th>\n",
       "      <td>Senior Data Scientist</td>\n",
       "      <td>IBM India Pvt. Limited</td>\n",
       "      <td>4 - 6 years</td>\n",
       "      <td>Bangalore/Bengaluru</td>\n",
       "      <td>Bidgely is looking for extraordinary and dynam...</td>\n",
       "    </tr>\n",
       "    <tr>\n",
       "      <th>8</th>\n",
       "      <td>Senior Data Scientist</td>\n",
       "      <td>IBM India Pvt. Limited</td>\n",
       "      <td>4 - 8 years</td>\n",
       "      <td>New Delhi, Bangalore/Bengaluru, Delhi / NCR</td>\n",
       "      <td>Roles and Responsibilities:\\n\\nWork as part of...</td>\n",
       "    </tr>\n",
       "    <tr>\n",
       "      <th>9</th>\n",
       "      <td>Data Scientist - Permanent Role</td>\n",
       "      <td>Publicis Groupe</td>\n",
       "      <td>6 - 11 years</td>\n",
       "      <td>Hyderabad/Secunderabad, Chennai, Bangalore/Ben...</td>\n",
       "      <td>Greetings from Onward Technologies!\\n\\nWe are ...</td>\n",
       "    </tr>\n",
       "  </tbody>\n",
       "</table>\n",
       "</div>"
      ],
      "text/plain": [
       "                                               Title  \\\n",
       "0                              Senior Data Scientist   \n",
       "1                              Senior Data Scientist   \n",
       "2                                     DATA SCIENTIST   \n",
       "3                              Senior Data Scientist   \n",
       "4  Software Developer - Data Scientist / NLP / Ma...   \n",
       "5                                     Data scientist   \n",
       "6                              Senior Data Scientist   \n",
       "7                              Senior Data Scientist   \n",
       "8                              Senior Data Scientist   \n",
       "9                    Data Scientist - Permanent Role   \n",
       "\n",
       "                       Company Name Experience Required  \\\n",
       "0             Philips India Limited        8 - 10 years   \n",
       "1            IBM India Pvt. Limited       10 - 15 years   \n",
       "2     SYMBIOSIS International W.L.L         4 - 8 years   \n",
       "3  McAfee Software (India) Pvt. Ltd        8 - 13 years   \n",
       "4    Datamatics Global Services Ltd         3 - 8 years   \n",
       "5    Cunesoft India Private Limited         6 - 8 years   \n",
       "6                              Uber         2 - 5 years   \n",
       "7            IBM India Pvt. Limited         4 - 6 years   \n",
       "8            IBM India Pvt. Limited         4 - 8 years   \n",
       "9                   Publicis Groupe        6 - 11 years   \n",
       "\n",
       "                                            Location  \\\n",
       "0                                Bangalore/Bengaluru   \n",
       "1                                Bangalore/Bengaluru   \n",
       "2                                Bangalore/Bengaluru   \n",
       "3                                Bangalore/Bengaluru   \n",
       "4                                Bangalore/Bengaluru   \n",
       "5                                Bangalore/Bengaluru   \n",
       "6                                Bangalore/Bengaluru   \n",
       "7                                Bangalore/Bengaluru   \n",
       "8        New Delhi, Bangalore/Bengaluru, Delhi / NCR   \n",
       "9  Hyderabad/Secunderabad, Chennai, Bangalore/Ben...   \n",
       "\n",
       "                                         Description  \n",
       "0    Be a part of the Enterprise IT , Information...  \n",
       "1  Required Candidate profile\\nWe are looking for...  \n",
       "2  Data Scientist Primary Location India, Bangalo...  \n",
       "3  Roles and Responsibilities\\n\\nDetails in lined...  \n",
       "4  Dear Candidates\\nWe are looking for a competen...  \n",
       "5  About the role\\nWe are looking for skilled mot...  \n",
       "6  Work location: Bengaluru (Currently, Remote)\\n...  \n",
       "7  Bidgely is looking for extraordinary and dynam...  \n",
       "8  Roles and Responsibilities:\\n\\nWork as part of...  \n",
       "9  Greetings from Onward Technologies!\\n\\nWe are ...  "
      ]
     },
     "execution_count": 148,
     "metadata": {},
     "output_type": "execute_result"
    }
   ],
   "source": [
    "#Getting top 10 jobs\n",
    "jobs_ds_first10 = jobs_ds.head(10)\n",
    "jobs_ds_first10"
   ]
  },
  {
   "cell_type": "markdown",
   "metadata": {},
   "source": [
    "<b>Q3: In this question you have to scrape data using the filters available on the\n",
    "webpage as shown below:\n",
    "You have to use the location and salary filter.\n",
    "You have to scrape data for “Data Scientist” designation for first 10 job results.\n",
    "You have to scrape the job-title, job-location, company_name,\n",
    "experience_required.\n",
    "The location filter to be used is “Delhi/NCR”\n",
    "The salary filter to be used is “3-6” lakhs<b>"
   ]
  },
  {
   "cell_type": "code",
   "execution_count": 149,
   "metadata": {},
   "outputs": [],
   "source": [
    "#Connecting to driver\n",
    "driver = webdriver.Chrome(r\"C:\\Users\\sumuk\\Downloads\\chromedriver_win32\\chromedriver.exe\")\n"
   ]
  },
  {
   "cell_type": "code",
   "execution_count": 150,
   "metadata": {},
   "outputs": [],
   "source": [
    "#Getting the url to the webpage\n",
    "url = 'https://www.naukri.com/'\n",
    "driver.get(url)"
   ]
  },
  {
   "cell_type": "code",
   "execution_count": 151,
   "metadata": {},
   "outputs": [
    {
     "data": {
      "text/plain": [
       "<selenium.webdriver.remote.webelement.WebElement (session=\"dc1e5bbd1407efbc90e7875a99ba74dc\", element=\"c7d53a30-24ad-4761-be28-8ab03dde109d\")>"
      ]
     },
     "execution_count": 151,
     "metadata": {},
     "output_type": "execute_result"
    }
   ],
   "source": [
    "#Getting web element for searching job\n",
    "search_job = driver.find_element_by_id('qsb-keyword-sugg')\n",
    "search_job"
   ]
  },
  {
   "cell_type": "code",
   "execution_count": 152,
   "metadata": {},
   "outputs": [],
   "source": [
    "#Searching for the asked Job position\n",
    "search_job.send_keys(\"Data Scientist\")"
   ]
  },
  {
   "cell_type": "code",
   "execution_count": 153,
   "metadata": {},
   "outputs": [],
   "source": [
    "#Getting search button element and excecuting click\n",
    "search_btn = driver.find_element_by_class_name('btn')\n",
    "search_btn.click()"
   ]
  },
  {
   "cell_type": "code",
   "execution_count": 154,
   "metadata": {},
   "outputs": [
    {
     "data": {
      "text/plain": [
       "<selenium.webdriver.remote.webelement.WebElement (session=\"dc1e5bbd1407efbc90e7875a99ba74dc\", element=\"3c0a3768-744b-4b34-955a-9ccd828c90d1\")>"
      ]
     },
     "execution_count": 154,
     "metadata": {},
     "output_type": "execute_result"
    }
   ],
   "source": [
    "location_filter = driver.find_element_by_xpath('//span[@class=\"ellipsis fleft\"]')\n",
    "location_filter"
   ]
  },
  {
   "cell_type": "markdown",
   "metadata": {},
   "source": [
    "<b>Q4: Write a python program to scrape data for first 10 job results for Data scientist\n",
    "Designation in Noida location. You have to scrape company_name, No. of days\n",
    "ago when job was posted, Rating of the company.\n",
    "<b>"
   ]
  },
  {
   "cell_type": "code",
   "execution_count": 179,
   "metadata": {},
   "outputs": [],
   "source": [
    "#Connecting to driver\n",
    "driver = webdriver.Chrome(r\"C:\\Users\\sumuk\\Downloads\\chromedriver_win32\\chromedriver.exe\")"
   ]
  },
  {
   "cell_type": "code",
   "execution_count": 180,
   "metadata": {},
   "outputs": [],
   "source": [
    "\n",
    "#Getting the url\n",
    "url = 'https://www.glassdoor.co.in/member/home/index.htm'\n",
    "driver.get(url)"
   ]
  },
  {
   "cell_type": "code",
   "execution_count": 181,
   "metadata": {},
   "outputs": [
    {
     "data": {
      "text/plain": [
       "<selenium.webdriver.remote.webelement.WebElement (session=\"33d46fb871fd75af14ff17a793e461df\", element=\"6134b8cc-335f-47d7-981a-f333f0746b97\")>"
      ]
     },
     "execution_count": 181,
     "metadata": {},
     "output_type": "execute_result"
    }
   ],
   "source": [
    "#Getting web element for searching job\n",
    "search_job = driver.find_element_by_id('scKeyword')\n",
    "search_job"
   ]
  },
  {
   "cell_type": "code",
   "execution_count": 182,
   "metadata": {},
   "outputs": [],
   "source": [
    "#Searching for the asked Job position\n",
    "search_job.send_keys(\"Data Scientist\")"
   ]
  },
  {
   "cell_type": "code",
   "execution_count": 183,
   "metadata": {},
   "outputs": [],
   "source": [
    "#Seaching for asked location\n",
    "search_loc = driver.find_element_by_id(\"scLocation\")\n",
    "search_loc.send_keys(\"Noida\")"
   ]
  },
  {
   "cell_type": "code",
   "execution_count": 186,
   "metadata": {},
   "outputs": [],
   "source": [
    "#Getting button element and excecuting click\n",
    "driver.find_element\n",
    "search_btn = driver.find_element_by_xpath('//button[@class=\"pl-0 pr-xsm SearchStyles__searchKeywordSubmit\"]')\n",
    "search_btn.click()"
   ]
  },
  {
   "cell_type": "code",
   "execution_count": 189,
   "metadata": {},
   "outputs": [
    {
     "data": {
      "text/plain": [
       "[<selenium.webdriver.remote.webelement.WebElement (session=\"33d46fb871fd75af14ff17a793e461df\", element=\"a8bd240f-add5-48f9-9ba5-f33d0f64e850\")>,\n",
       " <selenium.webdriver.remote.webelement.WebElement (session=\"33d46fb871fd75af14ff17a793e461df\", element=\"c16ca412-a1b4-4791-a005-1c505b51a171\")>,\n",
       " <selenium.webdriver.remote.webelement.WebElement (session=\"33d46fb871fd75af14ff17a793e461df\", element=\"37f8f5b7-7ed4-42a6-b37c-c80caf560822\")>,\n",
       " <selenium.webdriver.remote.webelement.WebElement (session=\"33d46fb871fd75af14ff17a793e461df\", element=\"5e80980d-d522-4228-aacb-8c04cb3647b3\")>,\n",
       " <selenium.webdriver.remote.webelement.WebElement (session=\"33d46fb871fd75af14ff17a793e461df\", element=\"3e24103f-56cf-4de6-bc91-a510fc9b58df\")>,\n",
       " <selenium.webdriver.remote.webelement.WebElement (session=\"33d46fb871fd75af14ff17a793e461df\", element=\"e756e2e0-7d18-4c89-b1b8-21d2fae98489\")>,\n",
       " <selenium.webdriver.remote.webelement.WebElement (session=\"33d46fb871fd75af14ff17a793e461df\", element=\"5ede444e-54e2-4201-96b4-9c0810017568\")>,\n",
       " <selenium.webdriver.remote.webelement.WebElement (session=\"33d46fb871fd75af14ff17a793e461df\", element=\"9dbe35c7-c163-4adc-bca2-527eb323e238\")>,\n",
       " <selenium.webdriver.remote.webelement.WebElement (session=\"33d46fb871fd75af14ff17a793e461df\", element=\"de513733-b76a-418f-b745-052b95a3c6f7\")>,\n",
       " <selenium.webdriver.remote.webelement.WebElement (session=\"33d46fb871fd75af14ff17a793e461df\", element=\"2db4d6b4-c89c-49a5-b149-aabfa18ace69\")>,\n",
       " <selenium.webdriver.remote.webelement.WebElement (session=\"33d46fb871fd75af14ff17a793e461df\", element=\"5c6bdc84-b4e4-4a9a-a2e9-670f2571113a\")>,\n",
       " <selenium.webdriver.remote.webelement.WebElement (session=\"33d46fb871fd75af14ff17a793e461df\", element=\"ca11cc12-8735-4228-872b-2f11d43fcaa5\")>,\n",
       " <selenium.webdriver.remote.webelement.WebElement (session=\"33d46fb871fd75af14ff17a793e461df\", element=\"6de192e7-9a79-41e6-968c-2cc647916f9f\")>,\n",
       " <selenium.webdriver.remote.webelement.WebElement (session=\"33d46fb871fd75af14ff17a793e461df\", element=\"6f0ca94e-2ce4-454f-af24-b28c9620646e\")>,\n",
       " <selenium.webdriver.remote.webelement.WebElement (session=\"33d46fb871fd75af14ff17a793e461df\", element=\"03ccd3a8-6b38-468a-a5d4-ab7faff0a78b\")>,\n",
       " <selenium.webdriver.remote.webelement.WebElement (session=\"33d46fb871fd75af14ff17a793e461df\", element=\"52aafffe-aeee-457a-b01f-b9846e0b69d9\")>,\n",
       " <selenium.webdriver.remote.webelement.WebElement (session=\"33d46fb871fd75af14ff17a793e461df\", element=\"4dba1492-90c1-409f-a49d-0aa85228d967\")>,\n",
       " <selenium.webdriver.remote.webelement.WebElement (session=\"33d46fb871fd75af14ff17a793e461df\", element=\"d97739f0-0964-4c2b-aac1-73f5c7ccdd93\")>,\n",
       " <selenium.webdriver.remote.webelement.WebElement (session=\"33d46fb871fd75af14ff17a793e461df\", element=\"c908d148-3a4e-48ad-840d-b0ea7ea447d9\")>,\n",
       " <selenium.webdriver.remote.webelement.WebElement (session=\"33d46fb871fd75af14ff17a793e461df\", element=\"47cacaa2-e4fa-4658-8f14-8081620e6eef\")>,\n",
       " <selenium.webdriver.remote.webelement.WebElement (session=\"33d46fb871fd75af14ff17a793e461df\", element=\"f0025cb3-a342-4050-a26d-22bdf7920079\")>,\n",
       " <selenium.webdriver.remote.webelement.WebElement (session=\"33d46fb871fd75af14ff17a793e461df\", element=\"03f3e40b-529e-4cca-a916-dcdc66d951ee\")>,\n",
       " <selenium.webdriver.remote.webelement.WebElement (session=\"33d46fb871fd75af14ff17a793e461df\", element=\"f52f7d1d-768b-4449-be40-1c8e418fc0e6\")>,\n",
       " <selenium.webdriver.remote.webelement.WebElement (session=\"33d46fb871fd75af14ff17a793e461df\", element=\"e5e66663-15f7-44be-aab1-d23a369e4cb4\")>,\n",
       " <selenium.webdriver.remote.webelement.WebElement (session=\"33d46fb871fd75af14ff17a793e461df\", element=\"45f165d6-6903-49f6-a49c-f324b999c200\")>,\n",
       " <selenium.webdriver.remote.webelement.WebElement (session=\"33d46fb871fd75af14ff17a793e461df\", element=\"1949181a-f610-477d-9bce-1fc7961c26ba\")>,\n",
       " <selenium.webdriver.remote.webelement.WebElement (session=\"33d46fb871fd75af14ff17a793e461df\", element=\"a3ef07b2-4fbb-4194-8930-6b0b3d1f2388\")>,\n",
       " <selenium.webdriver.remote.webelement.WebElement (session=\"33d46fb871fd75af14ff17a793e461df\", element=\"1c86ab8b-486c-4c7c-aead-883f65adecf8\")>,\n",
       " <selenium.webdriver.remote.webelement.WebElement (session=\"33d46fb871fd75af14ff17a793e461df\", element=\"fcd8188d-496d-4a40-b4d0-033f2395c7d0\")>,\n",
       " <selenium.webdriver.remote.webelement.WebElement (session=\"33d46fb871fd75af14ff17a793e461df\", element=\"ec0dfb24-3662-4ac1-84bb-3b2e3acb8f8d\")>]"
      ]
     },
     "execution_count": 189,
     "metadata": {},
     "output_type": "execute_result"
    }
   ],
   "source": [
    "#scraping job titles\n",
    "titles_tags = driver.find_elements_by_xpath(\"//a[@class='jobLink css-1rd3saf eigr9kq2']\")\n",
    "titles_tags"
   ]
  },
  {
   "cell_type": "code",
   "execution_count": 191,
   "metadata": {},
   "outputs": [
    {
     "data": {
      "text/plain": [
       "['Liberin Technologies Private Limited',\n",
       " 'Pixel Vision',\n",
       " 'Crowe',\n",
       " 'Newgen Software',\n",
       " 'Salasar New Age Technologies',\n",
       " 'Ericsson',\n",
       " 'Techlive',\n",
       " 'Biz2Credit Inc',\n",
       " 'Uncodemy',\n",
       " 'Salasar New Age Technologies',\n",
       " 'DataTrained',\n",
       " 'Innovacer',\n",
       " 'NEC Opportunities',\n",
       " 'SearchUrCollege',\n",
       " 'Conduent',\n",
       " 'Innovacer',\n",
       " 'WishFin',\n",
       " 'Deciman',\n",
       " 'Data Trained Education',\n",
       " 'WhizHack Technologies Pvt Ltd',\n",
       " 'Emerging India Analytics',\n",
       " 'dunnhumby',\n",
       " 'Flip Robo Technologies',\n",
       " 'British Council',\n",
       " 'xtLytics',\n",
       " 'Microsoft',\n",
       " 'xtLytics',\n",
       " 'Priority Vendor',\n",
       " 'Decision Tree Analytics And Services',\n",
       " 'Talent Shiksha']"
      ]
     },
     "execution_count": 191,
     "metadata": {},
     "output_type": "execute_result"
    }
   ],
   "source": [
    "#scraping company names\n",
    "companies_tags = driver.find_elements_by_xpath(\"//div[@class='d-flex justify-content-between align-items-start']\")\n",
    "#Getting text and saving in list\n",
    "company_titles = []\n",
    "for i in companies_tags:\n",
    "    company_titles.append(i.text)\n",
    "company_titles"
   ]
  },
  {
   "cell_type": "code",
   "execution_count": 197,
   "metadata": {},
   "outputs": [],
   "source": [
    "companies = company_titles[0:10]"
   ]
  },
  {
   "cell_type": "code",
   "execution_count": 193,
   "metadata": {},
   "outputs": [
    {
     "data": {
      "text/plain": [
       "['11d',\n",
       " '21d',\n",
       " '30d+',\n",
       " '22d',\n",
       " '30d+',\n",
       " '6d',\n",
       " '30d+',\n",
       " '30d+',\n",
       " '2d',\n",
       " '30d+',\n",
       " '24h',\n",
       " '4d',\n",
       " '3d',\n",
       " '30d+',\n",
       " '30d+',\n",
       " '30d+',\n",
       " '30d+',\n",
       " '10d',\n",
       " '1d',\n",
       " '26d',\n",
       " '2d',\n",
       " '1d',\n",
       " '2d',\n",
       " '24h',\n",
       " '30d+',\n",
       " '7d',\n",
       " '30d+',\n",
       " '30d+',\n",
       " '1d',\n",
       " '24h']"
      ]
     },
     "execution_count": 193,
     "metadata": {},
     "output_type": "execute_result"
    }
   ],
   "source": [
    "#scraping no of days ago the was posted\n",
    "days_tags = driver.find_elements_by_xpath(\"//div[@class='d-flex align-items-end pl-std css-mi55ob']\")\n",
    "#Getting text and saving in list\n",
    "days_ago = []\n",
    "for i in days_tags:\n",
    "    days_ago.append(i.text)\n",
    "days_ago"
   ]
  },
  {
   "cell_type": "code",
   "execution_count": 198,
   "metadata": {},
   "outputs": [],
   "source": [
    "days = days_ago[0:10]"
   ]
  },
  {
   "cell_type": "code",
   "execution_count": 195,
   "metadata": {},
   "outputs": [
    {
     "data": {
      "text/plain": [
       "['3.8',\n",
       " '3.3',\n",
       " '4.1',\n",
       " '5.0',\n",
       " '4.1',\n",
       " '4.6',\n",
       " '3.8',\n",
       " '3.1',\n",
       " '3.8',\n",
       " '3.8',\n",
       " '3.7',\n",
       " '4.1',\n",
       " '4.3',\n",
       " '3.7',\n",
       " '3.0',\n",
       " '4.4',\n",
       " '3.0',\n",
       " '3.7',\n",
       " '4.7']"
      ]
     },
     "execution_count": 195,
     "metadata": {},
     "output_type": "execute_result"
    }
   ],
   "source": [
    "#scraping company ratings\n",
    "rating_tags = driver.find_elements_by_xpath(\"//span[@class='css-19pjha7 e1cjmv6j1']\")\n",
    "#Getting text and saving in list\n",
    "ratings = []\n",
    "for i in rating_tags:\n",
    "    ratings.append(i.text)\n",
    "ratings"
   ]
  },
  {
   "cell_type": "code",
   "execution_count": 200,
   "metadata": {},
   "outputs": [],
   "source": [
    "company_rating = ratings[0:10]"
   ]
  },
  {
   "cell_type": "code",
   "execution_count": 202,
   "metadata": {},
   "outputs": [
    {
     "name": "stdout",
     "output_type": "stream",
     "text": [
      "10 10 10\n"
     ]
    }
   ],
   "source": [
    "#Checking length\n",
    "print(len(companies),len(company_rating),len(days))\n"
   ]
  },
  {
   "cell_type": "code",
   "execution_count": 203,
   "metadata": {},
   "outputs": [
    {
     "data": {
      "text/html": [
       "<div>\n",
       "<style scoped>\n",
       "    .dataframe tbody tr th:only-of-type {\n",
       "        vertical-align: middle;\n",
       "    }\n",
       "\n",
       "    .dataframe tbody tr th {\n",
       "        vertical-align: top;\n",
       "    }\n",
       "\n",
       "    .dataframe thead th {\n",
       "        text-align: right;\n",
       "    }\n",
       "</style>\n",
       "<table border=\"1\" class=\"dataframe\">\n",
       "  <thead>\n",
       "    <tr style=\"text-align: right;\">\n",
       "      <th></th>\n",
       "      <th>Company Name</th>\n",
       "      <th>Posted(days ago)</th>\n",
       "      <th>Rating</th>\n",
       "    </tr>\n",
       "  </thead>\n",
       "  <tbody>\n",
       "    <tr>\n",
       "      <th>0</th>\n",
       "      <td>Liberin Technologies Private Limited</td>\n",
       "      <td>11d</td>\n",
       "      <td>3.8</td>\n",
       "    </tr>\n",
       "    <tr>\n",
       "      <th>1</th>\n",
       "      <td>Pixel Vision</td>\n",
       "      <td>21d</td>\n",
       "      <td>3.3</td>\n",
       "    </tr>\n",
       "    <tr>\n",
       "      <th>2</th>\n",
       "      <td>Crowe</td>\n",
       "      <td>30d+</td>\n",
       "      <td>4.1</td>\n",
       "    </tr>\n",
       "    <tr>\n",
       "      <th>3</th>\n",
       "      <td>Newgen Software</td>\n",
       "      <td>22d</td>\n",
       "      <td>5.0</td>\n",
       "    </tr>\n",
       "    <tr>\n",
       "      <th>4</th>\n",
       "      <td>Salasar New Age Technologies</td>\n",
       "      <td>30d+</td>\n",
       "      <td>4.1</td>\n",
       "    </tr>\n",
       "    <tr>\n",
       "      <th>5</th>\n",
       "      <td>Ericsson</td>\n",
       "      <td>6d</td>\n",
       "      <td>4.6</td>\n",
       "    </tr>\n",
       "    <tr>\n",
       "      <th>6</th>\n",
       "      <td>Techlive</td>\n",
       "      <td>30d+</td>\n",
       "      <td>3.8</td>\n",
       "    </tr>\n",
       "    <tr>\n",
       "      <th>7</th>\n",
       "      <td>Biz2Credit Inc</td>\n",
       "      <td>30d+</td>\n",
       "      <td>3.1</td>\n",
       "    </tr>\n",
       "    <tr>\n",
       "      <th>8</th>\n",
       "      <td>Uncodemy</td>\n",
       "      <td>2d</td>\n",
       "      <td>3.8</td>\n",
       "    </tr>\n",
       "    <tr>\n",
       "      <th>9</th>\n",
       "      <td>Salasar New Age Technologies</td>\n",
       "      <td>30d+</td>\n",
       "      <td>3.8</td>\n",
       "    </tr>\n",
       "  </tbody>\n",
       "</table>\n",
       "</div>"
      ],
      "text/plain": [
       "                           Company Name Posted(days ago) Rating\n",
       "0  Liberin Technologies Private Limited              11d    3.8\n",
       "1                          Pixel Vision              21d    3.3\n",
       "2                                 Crowe             30d+    4.1\n",
       "3                       Newgen Software              22d    5.0\n",
       "4          Salasar New Age Technologies             30d+    4.1\n",
       "5                              Ericsson               6d    4.6\n",
       "6                              Techlive             30d+    3.8\n",
       "7                        Biz2Credit Inc             30d+    3.1\n",
       "8                              Uncodemy               2d    3.8\n",
       "9          Salasar New Age Technologies             30d+    3.8"
      ]
     },
     "execution_count": 203,
     "metadata": {},
     "output_type": "execute_result"
    }
   ],
   "source": [
    "#Creating data frame\n",
    "jobs4 = pd.DataFrame({})\n",
    "jobs4['Company Name'] = companies\n",
    "jobs4['Posted(days ago)'] = days\n",
    "jobs4['Rating'] = company_rating\n",
    "jobs4"
   ]
  },
  {
   "cell_type": "markdown",
   "metadata": {},
   "source": [
    "<b>Q5: Write a python program to scrape the salary data for Data Scientist designation\n",
    "in Noida location.\n",
    "You have to scrape Company name, Number of salaries, Average salary, Min\n",
    "salary, Max Salary.<b>"
   ]
  },
  {
   "cell_type": "code",
   "execution_count": 230,
   "metadata": {},
   "outputs": [],
   "source": [
    "#Connecting to driver\n",
    "driver = webdriver.Chrome(r\"C:\\Users\\sumuk\\Downloads\\chromedriver_win32\\chromedriver.exe\")"
   ]
  },
  {
   "cell_type": "code",
   "execution_count": 231,
   "metadata": {},
   "outputs": [],
   "source": [
    "#Getting the url\n",
    "url = 'https://www.glassdoor.co.in/Salaries/index.htm'\n",
    "driver.get(url)\n"
   ]
  },
  {
   "cell_type": "code",
   "execution_count": 232,
   "metadata": {},
   "outputs": [
    {
     "data": {
      "text/plain": [
       "<selenium.webdriver.remote.webelement.WebElement (session=\"949321e97551c580d95bdb37d4c59b53\", element=\"c11a5df1-9882-4482-aba8-4f2156f01463\")>"
      ]
     },
     "execution_count": 232,
     "metadata": {},
     "output_type": "execute_result"
    }
   ],
   "source": [
    "#Getting web element for searching job\n",
    "search_job = driver.find_element_by_id('KeywordSearch')\n",
    "search_job"
   ]
  },
  {
   "cell_type": "code",
   "execution_count": 233,
   "metadata": {},
   "outputs": [],
   "source": [
    "#Searching for the asked Job position\n",
    "search_job.send_keys(\"Data Scientist\")"
   ]
  },
  {
   "cell_type": "code",
   "execution_count": 234,
   "metadata": {},
   "outputs": [],
   "source": [
    "#Seaching for asked location\n",
    "search_loc = driver.find_element_by_id(\"LocationSearch\")\n",
    "search_loc.send_keys(\"Noida\")"
   ]
  },
  {
   "cell_type": "code",
   "execution_count": 235,
   "metadata": {},
   "outputs": [],
   "source": [
    "#Getting button element and excecuting click\n",
    "search_btn = driver.find_element_by_class_name('gd-btn-mkt')\n",
    "search_btn.click()"
   ]
  },
  {
   "cell_type": "code",
   "execution_count": 238,
   "metadata": {},
   "outputs": [
    {
     "data": {
      "text/plain": [
       "['Tata Consultancy Services',\n",
       " 'IBM',\n",
       " 'Accenture',\n",
       " 'Delhivery',\n",
       " 'Ericsson-Worldwide',\n",
       " 'UnitedHealth Group',\n",
       " 'Valiance Solutions',\n",
       " 'EXL Service',\n",
       " 'Optum',\n",
       " 'Optum Global Solutions',\n",
       " 'ZS Associates',\n",
       " 'Innovaccer',\n",
       " 'OYO',\n",
       " 'Nagarro',\n",
       " 'Cognizant Technology Solutions',\n",
       " 'CARS24.com',\n",
       " 'dunnhumby',\n",
       " 'Vidooly Media Tech',\n",
       " 'Tech Mahindra',\n",
       " 'Fresher']"
      ]
     },
     "execution_count": 238,
     "metadata": {},
     "output_type": "execute_result"
    }
   ],
   "source": [
    "#scraping company names\n",
    "companies_tags = driver.find_elements_by_xpath(\"//a[@class='css-f3vw95 e1aj7ssy3']\")\n",
    "\n",
    "#Getting text and saving in list\n",
    "company_titles = []\n",
    "for i in companies_tags:\n",
    "    company_titles.append(i.text)\n",
    "company_titles"
   ]
  },
  {
   "cell_type": "code",
   "execution_count": 248,
   "metadata": {},
   "outputs": [
    {
     "data": {
      "text/plain": [
       "['₹3L\\n₹13L',\n",
       " '₹6L\\n₹27L',\n",
       " '₹6L\\n₹22L',\n",
       " '₹5L\\n₹1Cr',\n",
       " '₹4L\\n₹16L',\n",
       " '₹8L\\n₹15L',\n",
       " '₹5L\\n₹15L',\n",
       " '₹6L\\n₹15L',\n",
       " '₹8L\\n₹20L',\n",
       " '₹4L\\n₹22L',\n",
       " '₹2L\\n₹18L',\n",
       " '₹6L\\n₹17L',\n",
       " '₹10L\\n₹21L',\n",
       " '₹4L\\n₹16L',\n",
       " '₹8L\\n₹13L',\n",
       " '₹9L\\n₹15L',\n",
       " '₹8L\\n₹20L',\n",
       " '₹12T\\n₹63T',\n",
       " '₹4L\\n₹17L',\n",
       " '₹25T\\n₹1L']"
      ]
     },
     "execution_count": 248,
     "metadata": {},
     "output_type": "execute_result"
    }
   ],
   "source": [
    "#scraping company names\n",
    "sal_tags = driver.find_elements_by_xpath(\"//div[@class='d-flex mt-xxsm css-79elbk epuxyqn0']\")\n",
    "\n",
    "#Getting text and saving in list\n",
    "salary = []\n",
    "for i in sal_tags:\n",
    "    salary.append(i.text)\n",
    "salary"
   ]
  },
  {
   "cell_type": "code",
   "execution_count": 249,
   "metadata": {},
   "outputs": [
    {
     "data": {
      "text/plain": [
       "['₹3L',\n",
       " '₹6L',\n",
       " '₹6L',\n",
       " '₹5L',\n",
       " '₹4L',\n",
       " '₹8L',\n",
       " '₹5L',\n",
       " '₹6L',\n",
       " '₹8L',\n",
       " '₹4L',\n",
       " '₹2L',\n",
       " '₹6L',\n",
       " '₹10L',\n",
       " '₹4L',\n",
       " '₹8L',\n",
       " '₹9L',\n",
       " '₹8L',\n",
       " '₹12T',\n",
       " '₹4L',\n",
       " '₹25T']"
      ]
     },
     "execution_count": 249,
     "metadata": {},
     "output_type": "execute_result"
    }
   ],
   "source": [
    "min_salary = [i.split('\\n')[0] for i in salary]\n",
    "min_salary"
   ]
  },
  {
   "cell_type": "code",
   "execution_count": 253,
   "metadata": {},
   "outputs": [
    {
     "data": {
      "text/plain": [
       "['₹13L',\n",
       " '₹27L',\n",
       " '₹22L',\n",
       " '₹1Cr',\n",
       " '₹16L',\n",
       " '₹15L',\n",
       " '₹15L',\n",
       " '₹15L',\n",
       " '₹20L',\n",
       " '₹22L',\n",
       " '₹18L',\n",
       " '₹17L',\n",
       " '₹21L',\n",
       " '₹16L',\n",
       " '₹13L',\n",
       " '₹15L',\n",
       " '₹20L',\n",
       " '₹63T',\n",
       " '₹17L',\n",
       " '\\n₹1L']"
      ]
     },
     "execution_count": 253,
     "metadata": {},
     "output_type": "execute_result"
    }
   ],
   "source": [
    "max_salary =  [i[-4:] for i in salary]\n",
    "max_salary"
   ]
  },
  {
   "cell_type": "code",
   "execution_count": 262,
   "metadata": {},
   "outputs": [
    {
     "data": {
      "text/plain": [
       "['18 salaries',\n",
       " '18 salaries',\n",
       " '15 salaries',\n",
       " '15 salaries',\n",
       " '14 salaries',\n",
       " '14 salaries',\n",
       " '10 salaries',\n",
       " '9 salaries',\n",
       " '9 salaries',\n",
       " '9 salaries',\n",
       " '8 salaries',\n",
       " '8 salaries',\n",
       " '7 salaries',\n",
       " '7 salaries',\n",
       " '6 salaries',\n",
       " '6 salaries',\n",
       " '6 salaries',\n",
       " '6 salaries',\n",
       " '5 salaries',\n",
       " '5 salaries']"
      ]
     },
     "execution_count": 262,
     "metadata": {},
     "output_type": "execute_result"
    }
   ],
   "source": [
    "#scraping number of salaries\n",
    "no_of_salary = driver.find_elements_by_xpath(\"//div[@class='col-12 col-lg-auto']\")\n",
    "\n",
    "#Getting text and saving in list\n",
    "no_of_salaries = []\n",
    "for i in no_of_salary:\n",
    "    no_of_salaries.append(i.text)\n",
    "no_of_salaries\n"
   ]
  },
  {
   "cell_type": "code",
   "execution_count": 265,
   "metadata": {},
   "outputs": [
    {
     "data": {
      "text/plain": [
       "['₹6,12,205\\n /yr',\n",
       " '₹9,00,000\\n /yr',\n",
       " '₹11,63,336\\n /yr',\n",
       " '₹12,18,244\\n /yr',\n",
       " '₹7,39,238\\n /yr',\n",
       " '₹12,80,000\\n /yr',\n",
       " '₹8,63,750\\n /yr',\n",
       " '₹11,10,000\\n /yr',\n",
       " '₹14,23,677\\n /yr',\n",
       " '₹13,28,697\\n /yr',\n",
       " '₹11,42,356\\n /yr',\n",
       " '₹12,09,040\\n /yr',\n",
       " '₹14,15,338\\n /yr',\n",
       " '₹10,22,074\\n /yr',\n",
       " '₹10,09,021\\n /yr',\n",
       " '₹10,00,000\\n /yr',\n",
       " '₹10,55,478\\n /yr',\n",
       " '₹34,157\\n /mo',\n",
       " '₹10,54,402\\n /yr',\n",
       " '₹80,000\\n /mo']"
      ]
     },
     "execution_count": 265,
     "metadata": {},
     "output_type": "execute_result"
    }
   ],
   "source": [
    "\n",
    "#scraping average salaries\n",
    "avg= driver.find_elements_by_xpath(\"//div[@class='col-12 col-lg-4 px-lg-0 d-flex align-items-baseline']\")\n",
    "\n",
    "#Getting text and saving in list\n",
    "average_salary = []\n",
    "for i in avg:\n",
    "    average_salary.append(i.text)\n",
    "average_salary"
   ]
  },
  {
   "cell_type": "code",
   "execution_count": 267,
   "metadata": {},
   "outputs": [
    {
     "data": {
      "text/plain": [
       "['3.9',\n",
       " '3.9',\n",
       " '4.1',\n",
       " '3.9',\n",
       " '4',\n",
       " '3.6',\n",
       " '4.2',\n",
       " '3.6',\n",
       " '3.7',\n",
       " '3.9',\n",
       " '4',\n",
       " '3.8',\n",
       " '3.3',\n",
       " '4',\n",
       " '3.8',\n",
       " '4.1',\n",
       " '4.1',\n",
       " '3.7',\n",
       " '3.6',\n",
       " '4.2']"
      ]
     },
     "execution_count": 267,
     "metadata": {},
     "output_type": "execute_result"
    }
   ],
   "source": [
    "#scraping company ratings\n",
    "rating= driver.find_elements_by_xpath(\"//span[@class='m-0 css-kyx745']\")\n",
    "\n",
    "#Getting text and saving in list\n",
    "ratings = []\n",
    "for i in rating:\n",
    "    ratings.append(i.text)\n",
    "ratings"
   ]
  },
  {
   "cell_type": "code",
   "execution_count": 268,
   "metadata": {},
   "outputs": [
    {
     "name": "stdout",
     "output_type": "stream",
     "text": [
      "20 20 20 20 20\n"
     ]
    }
   ],
   "source": [
    "#Checking length\n",
    "print(len(company_titles),len(min_salary),len(max_salary),len(average_salary),len(ratings))\n"
   ]
  },
  {
   "cell_type": "code",
   "execution_count": 269,
   "metadata": {},
   "outputs": [
    {
     "data": {
      "text/html": [
       "<div>\n",
       "<style scoped>\n",
       "    .dataframe tbody tr th:only-of-type {\n",
       "        vertical-align: middle;\n",
       "    }\n",
       "\n",
       "    .dataframe tbody tr th {\n",
       "        vertical-align: top;\n",
       "    }\n",
       "\n",
       "    .dataframe thead th {\n",
       "        text-align: right;\n",
       "    }\n",
       "</style>\n",
       "<table border=\"1\" class=\"dataframe\">\n",
       "  <thead>\n",
       "    <tr style=\"text-align: right;\">\n",
       "      <th></th>\n",
       "      <th>Company name</th>\n",
       "      <th>Min Salry</th>\n",
       "      <th>Max Salary</th>\n",
       "      <th>Location</th>\n",
       "      <th>Rating</th>\n",
       "    </tr>\n",
       "  </thead>\n",
       "  <tbody>\n",
       "    <tr>\n",
       "      <th>0</th>\n",
       "      <td>Tata Consultancy Services</td>\n",
       "      <td>₹3L</td>\n",
       "      <td>₹13L</td>\n",
       "      <td>₹6,12,205\\n /yr</td>\n",
       "      <td>3.9</td>\n",
       "    </tr>\n",
       "    <tr>\n",
       "      <th>1</th>\n",
       "      <td>IBM</td>\n",
       "      <td>₹6L</td>\n",
       "      <td>₹27L</td>\n",
       "      <td>₹9,00,000\\n /yr</td>\n",
       "      <td>3.9</td>\n",
       "    </tr>\n",
       "    <tr>\n",
       "      <th>2</th>\n",
       "      <td>Accenture</td>\n",
       "      <td>₹6L</td>\n",
       "      <td>₹22L</td>\n",
       "      <td>₹11,63,336\\n /yr</td>\n",
       "      <td>4.1</td>\n",
       "    </tr>\n",
       "    <tr>\n",
       "      <th>3</th>\n",
       "      <td>Delhivery</td>\n",
       "      <td>₹5L</td>\n",
       "      <td>₹1Cr</td>\n",
       "      <td>₹12,18,244\\n /yr</td>\n",
       "      <td>3.9</td>\n",
       "    </tr>\n",
       "    <tr>\n",
       "      <th>4</th>\n",
       "      <td>Ericsson-Worldwide</td>\n",
       "      <td>₹4L</td>\n",
       "      <td>₹16L</td>\n",
       "      <td>₹7,39,238\\n /yr</td>\n",
       "      <td>4</td>\n",
       "    </tr>\n",
       "    <tr>\n",
       "      <th>5</th>\n",
       "      <td>UnitedHealth Group</td>\n",
       "      <td>₹8L</td>\n",
       "      <td>₹15L</td>\n",
       "      <td>₹12,80,000\\n /yr</td>\n",
       "      <td>3.6</td>\n",
       "    </tr>\n",
       "    <tr>\n",
       "      <th>6</th>\n",
       "      <td>Valiance Solutions</td>\n",
       "      <td>₹5L</td>\n",
       "      <td>₹15L</td>\n",
       "      <td>₹8,63,750\\n /yr</td>\n",
       "      <td>4.2</td>\n",
       "    </tr>\n",
       "    <tr>\n",
       "      <th>7</th>\n",
       "      <td>EXL Service</td>\n",
       "      <td>₹6L</td>\n",
       "      <td>₹15L</td>\n",
       "      <td>₹11,10,000\\n /yr</td>\n",
       "      <td>3.6</td>\n",
       "    </tr>\n",
       "    <tr>\n",
       "      <th>8</th>\n",
       "      <td>Optum</td>\n",
       "      <td>₹8L</td>\n",
       "      <td>₹20L</td>\n",
       "      <td>₹14,23,677\\n /yr</td>\n",
       "      <td>3.7</td>\n",
       "    </tr>\n",
       "    <tr>\n",
       "      <th>9</th>\n",
       "      <td>Optum Global Solutions</td>\n",
       "      <td>₹4L</td>\n",
       "      <td>₹22L</td>\n",
       "      <td>₹13,28,697\\n /yr</td>\n",
       "      <td>3.9</td>\n",
       "    </tr>\n",
       "    <tr>\n",
       "      <th>10</th>\n",
       "      <td>ZS Associates</td>\n",
       "      <td>₹2L</td>\n",
       "      <td>₹18L</td>\n",
       "      <td>₹11,42,356\\n /yr</td>\n",
       "      <td>4</td>\n",
       "    </tr>\n",
       "    <tr>\n",
       "      <th>11</th>\n",
       "      <td>Innovaccer</td>\n",
       "      <td>₹6L</td>\n",
       "      <td>₹17L</td>\n",
       "      <td>₹12,09,040\\n /yr</td>\n",
       "      <td>3.8</td>\n",
       "    </tr>\n",
       "    <tr>\n",
       "      <th>12</th>\n",
       "      <td>OYO</td>\n",
       "      <td>₹10L</td>\n",
       "      <td>₹21L</td>\n",
       "      <td>₹14,15,338\\n /yr</td>\n",
       "      <td>3.3</td>\n",
       "    </tr>\n",
       "    <tr>\n",
       "      <th>13</th>\n",
       "      <td>Nagarro</td>\n",
       "      <td>₹4L</td>\n",
       "      <td>₹16L</td>\n",
       "      <td>₹10,22,074\\n /yr</td>\n",
       "      <td>4</td>\n",
       "    </tr>\n",
       "    <tr>\n",
       "      <th>14</th>\n",
       "      <td>Cognizant Technology Solutions</td>\n",
       "      <td>₹8L</td>\n",
       "      <td>₹13L</td>\n",
       "      <td>₹10,09,021\\n /yr</td>\n",
       "      <td>3.8</td>\n",
       "    </tr>\n",
       "    <tr>\n",
       "      <th>15</th>\n",
       "      <td>CARS24.com</td>\n",
       "      <td>₹9L</td>\n",
       "      <td>₹15L</td>\n",
       "      <td>₹10,00,000\\n /yr</td>\n",
       "      <td>4.1</td>\n",
       "    </tr>\n",
       "    <tr>\n",
       "      <th>16</th>\n",
       "      <td>dunnhumby</td>\n",
       "      <td>₹8L</td>\n",
       "      <td>₹20L</td>\n",
       "      <td>₹10,55,478\\n /yr</td>\n",
       "      <td>4.1</td>\n",
       "    </tr>\n",
       "    <tr>\n",
       "      <th>17</th>\n",
       "      <td>Vidooly Media Tech</td>\n",
       "      <td>₹12T</td>\n",
       "      <td>₹63T</td>\n",
       "      <td>₹34,157\\n /mo</td>\n",
       "      <td>3.7</td>\n",
       "    </tr>\n",
       "    <tr>\n",
       "      <th>18</th>\n",
       "      <td>Tech Mahindra</td>\n",
       "      <td>₹4L</td>\n",
       "      <td>₹17L</td>\n",
       "      <td>₹10,54,402\\n /yr</td>\n",
       "      <td>3.6</td>\n",
       "    </tr>\n",
       "    <tr>\n",
       "      <th>19</th>\n",
       "      <td>Fresher</td>\n",
       "      <td>₹25T</td>\n",
       "      <td>\\n₹1L</td>\n",
       "      <td>₹80,000\\n /mo</td>\n",
       "      <td>4.2</td>\n",
       "    </tr>\n",
       "  </tbody>\n",
       "</table>\n",
       "</div>"
      ],
      "text/plain": [
       "                      Company name Min Salry Max Salary          Location  \\\n",
       "0        Tata Consultancy Services       ₹3L       ₹13L   ₹6,12,205\\n /yr   \n",
       "1                              IBM       ₹6L       ₹27L   ₹9,00,000\\n /yr   \n",
       "2                        Accenture       ₹6L       ₹22L  ₹11,63,336\\n /yr   \n",
       "3                        Delhivery       ₹5L       ₹1Cr  ₹12,18,244\\n /yr   \n",
       "4               Ericsson-Worldwide       ₹4L       ₹16L   ₹7,39,238\\n /yr   \n",
       "5               UnitedHealth Group       ₹8L       ₹15L  ₹12,80,000\\n /yr   \n",
       "6               Valiance Solutions       ₹5L       ₹15L   ₹8,63,750\\n /yr   \n",
       "7                      EXL Service       ₹6L       ₹15L  ₹11,10,000\\n /yr   \n",
       "8                            Optum       ₹8L       ₹20L  ₹14,23,677\\n /yr   \n",
       "9           Optum Global Solutions       ₹4L       ₹22L  ₹13,28,697\\n /yr   \n",
       "10                   ZS Associates       ₹2L       ₹18L  ₹11,42,356\\n /yr   \n",
       "11                      Innovaccer       ₹6L       ₹17L  ₹12,09,040\\n /yr   \n",
       "12                             OYO      ₹10L       ₹21L  ₹14,15,338\\n /yr   \n",
       "13                         Nagarro       ₹4L       ₹16L  ₹10,22,074\\n /yr   \n",
       "14  Cognizant Technology Solutions       ₹8L       ₹13L  ₹10,09,021\\n /yr   \n",
       "15                      CARS24.com       ₹9L       ₹15L  ₹10,00,000\\n /yr   \n",
       "16                       dunnhumby       ₹8L       ₹20L  ₹10,55,478\\n /yr   \n",
       "17              Vidooly Media Tech      ₹12T       ₹63T     ₹34,157\\n /mo   \n",
       "18                   Tech Mahindra       ₹4L       ₹17L  ₹10,54,402\\n /yr   \n",
       "19                         Fresher      ₹25T      \\n₹1L     ₹80,000\\n /mo   \n",
       "\n",
       "   Rating  \n",
       "0     3.9  \n",
       "1     3.9  \n",
       "2     4.1  \n",
       "3     3.9  \n",
       "4       4  \n",
       "5     3.6  \n",
       "6     4.2  \n",
       "7     3.6  \n",
       "8     3.7  \n",
       "9     3.9  \n",
       "10      4  \n",
       "11    3.8  \n",
       "12    3.3  \n",
       "13      4  \n",
       "14    3.8  \n",
       "15    4.1  \n",
       "16    4.1  \n",
       "17    3.7  \n",
       "18    3.6  \n",
       "19    4.2  "
      ]
     },
     "execution_count": 269,
     "metadata": {},
     "output_type": "execute_result"
    }
   ],
   "source": [
    "#Creating data frame\n",
    "jobs5 = pd.DataFrame({})\n",
    "jobs5['Company name'] = company_titles\n",
    "jobs5['Min Salry'] = min_salary\n",
    "jobs5['Max Salary'] = max_salary\n",
    "jobs5['Location'] = average_salary\n",
    "jobs5['Rating'] = ratings\n",
    "jobs5"
   ]
  },
  {
   "cell_type": "code",
   "execution_count": 270,
   "metadata": {},
   "outputs": [
    {
     "data": {
      "text/html": [
       "<div>\n",
       "<style scoped>\n",
       "    .dataframe tbody tr th:only-of-type {\n",
       "        vertical-align: middle;\n",
       "    }\n",
       "\n",
       "    .dataframe tbody tr th {\n",
       "        vertical-align: top;\n",
       "    }\n",
       "\n",
       "    .dataframe thead th {\n",
       "        text-align: right;\n",
       "    }\n",
       "</style>\n",
       "<table border=\"1\" class=\"dataframe\">\n",
       "  <thead>\n",
       "    <tr style=\"text-align: right;\">\n",
       "      <th></th>\n",
       "      <th>Company name</th>\n",
       "      <th>Min Salry</th>\n",
       "      <th>Max Salary</th>\n",
       "      <th>Location</th>\n",
       "      <th>Rating</th>\n",
       "    </tr>\n",
       "  </thead>\n",
       "  <tbody>\n",
       "    <tr>\n",
       "      <th>0</th>\n",
       "      <td>Tata Consultancy Services</td>\n",
       "      <td>₹3L</td>\n",
       "      <td>₹13L</td>\n",
       "      <td>₹6,12,205\\n /yr</td>\n",
       "      <td>3.9</td>\n",
       "    </tr>\n",
       "    <tr>\n",
       "      <th>1</th>\n",
       "      <td>IBM</td>\n",
       "      <td>₹6L</td>\n",
       "      <td>₹27L</td>\n",
       "      <td>₹9,00,000\\n /yr</td>\n",
       "      <td>3.9</td>\n",
       "    </tr>\n",
       "    <tr>\n",
       "      <th>2</th>\n",
       "      <td>Accenture</td>\n",
       "      <td>₹6L</td>\n",
       "      <td>₹22L</td>\n",
       "      <td>₹11,63,336\\n /yr</td>\n",
       "      <td>4.1</td>\n",
       "    </tr>\n",
       "    <tr>\n",
       "      <th>3</th>\n",
       "      <td>Delhivery</td>\n",
       "      <td>₹5L</td>\n",
       "      <td>₹1Cr</td>\n",
       "      <td>₹12,18,244\\n /yr</td>\n",
       "      <td>3.9</td>\n",
       "    </tr>\n",
       "    <tr>\n",
       "      <th>4</th>\n",
       "      <td>Ericsson-Worldwide</td>\n",
       "      <td>₹4L</td>\n",
       "      <td>₹16L</td>\n",
       "      <td>₹7,39,238\\n /yr</td>\n",
       "      <td>4</td>\n",
       "    </tr>\n",
       "    <tr>\n",
       "      <th>5</th>\n",
       "      <td>UnitedHealth Group</td>\n",
       "      <td>₹8L</td>\n",
       "      <td>₹15L</td>\n",
       "      <td>₹12,80,000\\n /yr</td>\n",
       "      <td>3.6</td>\n",
       "    </tr>\n",
       "    <tr>\n",
       "      <th>6</th>\n",
       "      <td>Valiance Solutions</td>\n",
       "      <td>₹5L</td>\n",
       "      <td>₹15L</td>\n",
       "      <td>₹8,63,750\\n /yr</td>\n",
       "      <td>4.2</td>\n",
       "    </tr>\n",
       "    <tr>\n",
       "      <th>7</th>\n",
       "      <td>EXL Service</td>\n",
       "      <td>₹6L</td>\n",
       "      <td>₹15L</td>\n",
       "      <td>₹11,10,000\\n /yr</td>\n",
       "      <td>3.6</td>\n",
       "    </tr>\n",
       "    <tr>\n",
       "      <th>8</th>\n",
       "      <td>Optum</td>\n",
       "      <td>₹8L</td>\n",
       "      <td>₹20L</td>\n",
       "      <td>₹14,23,677\\n /yr</td>\n",
       "      <td>3.7</td>\n",
       "    </tr>\n",
       "    <tr>\n",
       "      <th>9</th>\n",
       "      <td>Optum Global Solutions</td>\n",
       "      <td>₹4L</td>\n",
       "      <td>₹22L</td>\n",
       "      <td>₹13,28,697\\n /yr</td>\n",
       "      <td>3.9</td>\n",
       "    </tr>\n",
       "  </tbody>\n",
       "</table>\n",
       "</div>"
      ],
      "text/plain": [
       "                Company name Min Salry Max Salary          Location Rating\n",
       "0  Tata Consultancy Services       ₹3L       ₹13L   ₹6,12,205\\n /yr    3.9\n",
       "1                        IBM       ₹6L       ₹27L   ₹9,00,000\\n /yr    3.9\n",
       "2                  Accenture       ₹6L       ₹22L  ₹11,63,336\\n /yr    4.1\n",
       "3                  Delhivery       ₹5L       ₹1Cr  ₹12,18,244\\n /yr    3.9\n",
       "4         Ericsson-Worldwide       ₹4L       ₹16L   ₹7,39,238\\n /yr      4\n",
       "5         UnitedHealth Group       ₹8L       ₹15L  ₹12,80,000\\n /yr    3.6\n",
       "6         Valiance Solutions       ₹5L       ₹15L   ₹8,63,750\\n /yr    4.2\n",
       "7                EXL Service       ₹6L       ₹15L  ₹11,10,000\\n /yr    3.6\n",
       "8                      Optum       ₹8L       ₹20L  ₹14,23,677\\n /yr    3.7\n",
       "9     Optum Global Solutions       ₹4L       ₹22L  ₹13,28,697\\n /yr    3.9"
      ]
     },
     "execution_count": 270,
     "metadata": {},
     "output_type": "execute_result"
    }
   ],
   "source": [
    "#Getting top 10 jobs\n",
    "jobs5_first10 = jobs5.head(10)\n",
    "jobs5_first10"
   ]
  },
  {
   "cell_type": "markdown",
   "metadata": {},
   "source": [
    "<b>Q6 : Scrape data of first 100 sunglasses listings on flipkart.com. You have to\n",
    "scrape four attributes:\n",
    "1. Brand\n",
    "2. Product Description\n",
    "3. Price\n",
    "4. Discount %\n",
    "<b>"
   ]
  },
  {
   "cell_type": "code",
   "execution_count": 366,
   "metadata": {},
   "outputs": [],
   "source": [
    "#Connecting to driver\n",
    "driver = webdriver.Chrome(r\"C:\\Users\\sumuk\\Downloads\\chromedriver_win32\\chromedriver.exe\")"
   ]
  },
  {
   "cell_type": "code",
   "execution_count": 367,
   "metadata": {},
   "outputs": [],
   "source": [
    "#Getting the url\n",
    "url = 'https://www.flipkart.com/'\n",
    "driver.get(url)"
   ]
  },
  {
   "cell_type": "code",
   "execution_count": 368,
   "metadata": {},
   "outputs": [
    {
     "data": {
      "text/plain": [
       "<selenium.webdriver.remote.webelement.WebElement (session=\"508634b61a3da3d2f46803c950f10510\", element=\"be4f9c48-6e15-495b-a0bf-8369d3b73c3e\")>"
      ]
     },
     "execution_count": 368,
     "metadata": {},
     "output_type": "execute_result"
    }
   ],
   "source": [
    "#Getting web element for searching job\n",
    "search_prod = driver.find_element_by_xpath(\"//input[@class='_3704LK']\")\n",
    "search_prod"
   ]
  },
  {
   "cell_type": "code",
   "execution_count": 369,
   "metadata": {},
   "outputs": [],
   "source": [
    "#Searching for the asked product\n",
    "search_prod.send_keys(\"sunglasses\")"
   ]
  },
  {
   "cell_type": "code",
   "execution_count": 370,
   "metadata": {},
   "outputs": [],
   "source": [
    "#Getting button element and excecuting click\n",
    "search_btn = driver.find_element_by_class_name('L0Z3Pu')\n",
    "search_btn.click()"
   ]
  },
  {
   "cell_type": "code",
   "execution_count": 371,
   "metadata": {},
   "outputs": [],
   "source": [
    "#scraping brand name\n",
    "brand_tags = driver.find_elements_by_xpath(\"//div[@class='_2WkVRV']\")\n",
    "#Getting text and saving in list\n",
    "brands = []\n",
    "for i in brand_tags:\n",
    "    brands.append(i.text)"
   ]
  },
  {
   "cell_type": "code",
   "execution_count": 372,
   "metadata": {},
   "outputs": [],
   "source": [
    "#scraping product description\n",
    "description = driver.find_elements_by_xpath(\"//a[@class='IRpwTa']\")\n",
    "#Getting text and saving in list\n",
    "product_description = []\n",
    "for i in description:\n",
    "    product_description.append(i.text)"
   ]
  },
  {
   "cell_type": "code",
   "execution_count": 373,
   "metadata": {},
   "outputs": [],
   "source": [
    "#scraping price\n",
    "price = driver.find_elements_by_xpath(\"//div[@class='_30jeq3']\")\n",
    "#Getting text and saving in list\n",
    "prices = []\n",
    "for i in price:\n",
    "    prices.append(i.text)"
   ]
  },
  {
   "cell_type": "code",
   "execution_count": 374,
   "metadata": {},
   "outputs": [],
   "source": [
    "#scraping discount\n",
    "discount = driver.find_elements_by_xpath(\"//div[@class='_3Ay6Sb']\")\n",
    "#Getting text and saving in list\n",
    "discounts = []\n",
    "for i in discount:\n",
    "    discounts.append(i.text)"
   ]
  },
  {
   "cell_type": "code",
   "execution_count": 375,
   "metadata": {},
   "outputs": [
    {
     "name": "stdout",
     "output_type": "stream",
     "text": [
      "40 40 40 40\n"
     ]
    }
   ],
   "source": [
    "print(len(brands),len(product_description),len(prices),len(discounts))"
   ]
  },
  {
   "cell_type": "code",
   "execution_count": 376,
   "metadata": {},
   "outputs": [],
   "source": [
    "#Getting next button element and excecuting click\n",
    "next_btn = driver.find_element_by_class_name('_1LKTO3')\n",
    "next_btn.click()"
   ]
  },
  {
   "cell_type": "code",
   "execution_count": 377,
   "metadata": {},
   "outputs": [
    {
     "data": {
      "text/plain": [
       "['UV Protection Wayfarer Sunglasses (Free Size)',\n",
       " 'UV Protection Rectangular Sunglasses (Free Size)',\n",
       " 'UV Protection Aviator Sunglasses (54)',\n",
       " 'UV Protection Aviator Sunglasses (58)',\n",
       " 'Gradient, UV Protection Wayfarer Sunglasses (Free Size)',\n",
       " 'UV Protection Retro Square Sunglasses (Free Size)',\n",
       " 'UV Protection Shield Sunglasses (Free Size)',\n",
       " 'Mirrored, UV Protection, Gradient Round Sunglasses (55)',\n",
       " 'Mirrored Aviator Sunglasses (55)',\n",
       " 'UV Protection, Gradient Rectangular Sunglasses (Free Si...',\n",
       " 'UV Protection Retro Square Sunglasses (Free Size)',\n",
       " 'UV Protection, Gradient Butterfly, Retro Square Sunglas...',\n",
       " 'UV Protection Aviator Sunglasses (58)',\n",
       " 'UV Protection Sports Sunglasses (Free Size)',\n",
       " 'UV Protection Wayfarer Sunglasses (Free Size)',\n",
       " 'UV Protection Wayfarer Sunglasses (56)',\n",
       " 'Gradient, UV Protection Wayfarer Sunglasses (Free Size)',\n",
       " 'UV Protection Wayfarer Sunglasses (Free Size)',\n",
       " 'UV Protection, Night Vision, Riding Glasses Aviator Sun...',\n",
       " 'UV Protection Aviator Sunglasses (58)',\n",
       " 'UV Protection Wayfarer Sunglasses (57)',\n",
       " 'UV Protection Aviator Sunglasses (54)',\n",
       " 'UV Protection Round Sunglasses (52)',\n",
       " 'UV Protection Wayfarer Sunglasses (Free Size)',\n",
       " 'Polarized, UV Protection, Riding Glasses Wayfarer Sungl...',\n",
       " 'UV Protection, Mirrored Wayfarer Sunglasses (61)',\n",
       " 'UV Protection Wrap-around Sunglasses (Free Size)',\n",
       " 'UV Protection Wayfarer Sunglasses (Free Size)',\n",
       " 'UV Protection Wayfarer Sunglasses (55)',\n",
       " 'Polarized, UV Protection Retro Square Sunglasses (53)',\n",
       " 'UV Protection, Gradient Wayfarer Sunglasses (55)',\n",
       " 'UV Protection Aviator Sunglasses (57)',\n",
       " 'UV Protection Rectangular Sunglasses (59)',\n",
       " 'UV Protection, Night Vision, Gradient, Mirrored Round, ...',\n",
       " 'UV Protection Aviator Sunglasses (Free Size)',\n",
       " 'UV Protection Shield Sunglasses (Free Size)',\n",
       " 'Gradient Rectangular Sunglasses (56)',\n",
       " 'UV Protection, Riding Glasses, Others Aviator, Wayfarer...',\n",
       " 'UV Protection Retro Square Sunglasses (Free Size)',\n",
       " 'UV Protection, Gradient Rectangular Sunglasses (Free Si...',\n",
       " 'Mirrored, UV Protection Wayfarer Sunglasses (Free Size)',\n",
       " 'Gradient Aviator Sunglasses (Free Size)',\n",
       " 'UV Protection Wayfarer Sunglasses (Free Size)',\n",
       " 'Polarized, UV Protection Aviator Sunglasses (58)',\n",
       " 'UV Protection Aviator Sunglasses (54)',\n",
       " 'UV Protection Wayfarer Sunglasses (Free Size)',\n",
       " 'Mirrored Round Sunglasses (53)',\n",
       " 'Gradient, UV Protection Wayfarer Sunglasses (Free Size)',\n",
       " 'UV Protection, Riding Glasses Rectangular Sunglasses (F...',\n",
       " 'UV Protection Wayfarer Sunglasses (Free Size)',\n",
       " 'UV Protection Round Sunglasses (54)',\n",
       " 'UV Protection, Mirrored Retro Square Sunglasses (53)',\n",
       " 'UV Protection Aviator Sunglasses (Free Size)',\n",
       " 'Gradient, UV Protection Round Sunglasses (Free Size)',\n",
       " 'UV Protection Aviator Sunglasses (57)',\n",
       " 'UV Protection, Mirrored Retro Square Sunglasses (Free S...',\n",
       " 'UV Protection Wayfarer Sunglasses (57)',\n",
       " 'UV Protection Rectangular Sunglasses (58)',\n",
       " 'UV Protection Aviator Sunglasses (61)',\n",
       " 'Mirrored, UV Protection Wayfarer, Wayfarer, Wayfarer, W...',\n",
       " 'UV Protection, Gradient Round Sunglasses (Free Size)',\n",
       " 'UV Protection, Mirrored Round Sunglasses (54)',\n",
       " 'UV Protection Aviator, Wayfarer Sunglasses (Free Size)',\n",
       " 'UV Protection Wayfarer Sunglasses (55)',\n",
       " 'UV Protection Sports Sunglasses (73)',\n",
       " 'UV Protection Round Sunglasses (Free Size)',\n",
       " 'Gradient, UV Protection Wayfarer Sunglasses (Free Size)',\n",
       " 'UV Protection Wayfarer Sunglasses (Free Size)',\n",
       " 'Mirrored Rectangular Sunglasses (53)',\n",
       " 'UV Protection Sports Sunglasses (Free Size)',\n",
       " 'UV Protection Retro Square Sunglasses (88)',\n",
       " 'UV Protection Oval Sunglasses (Free Size)',\n",
       " 'Others Rectangular Sunglasses (54)',\n",
       " 'UV Protection, Mirrored Wayfarer Sunglasses (53)',\n",
       " 'Gradient, UV Protection Wayfarer Sunglasses (Free Size)',\n",
       " 'Gradient, Mirrored, UV Protection Oval Sunglasses (55)',\n",
       " 'UV Protection Clubmaster Sunglasses (Free Size)',\n",
       " 'UV Protection Retro Square Sunglasses (55)',\n",
       " 'UV Protection Retro Square Sunglasses (Free Size)',\n",
       " 'UV Protection Retro Square Sunglasses (58)']"
      ]
     },
     "execution_count": 377,
     "metadata": {},
     "output_type": "execute_result"
    }
   ],
   "source": [
    "#scraping product description\n",
    "description = driver.find_elements_by_xpath(\"//a[@class='IRpwTa']\")\n",
    "#Getting text and saving in list\n",
    "for i in description:\n",
    "    product_description.append(i.text)\n",
    "product_description"
   ]
  },
  {
   "cell_type": "code",
   "execution_count": 378,
   "metadata": {},
   "outputs": [],
   "source": [
    "#scraping price\n",
    "price = driver.find_elements_by_xpath(\"//div[@class='_30jeq3']\")\n",
    "#Getting text and saving in list\n",
    "for i in price:\n",
    "    prices.append(i.text)"
   ]
  },
  {
   "cell_type": "code",
   "execution_count": 379,
   "metadata": {},
   "outputs": [],
   "source": [
    "#scraping discount\n",
    "discount = driver.find_elements_by_xpath(\"//div[@class='_3Ay6Sb']\")\n",
    "#Getting text and saving in list\n",
    "for i in discount:\n",
    "    discounts.append(i.text)"
   ]
  },
  {
   "cell_type": "code",
   "execution_count": 380,
   "metadata": {},
   "outputs": [],
   "source": [
    "#scraping brand name\n",
    "brand_tags = driver.find_elements_by_xpath(\"//div[@class='_2WkVRV']\")\n",
    "#Getting text and saving in list\n",
    "for i in brand_tags:\n",
    "    brands.append(i.text)"
   ]
  },
  {
   "cell_type": "code",
   "execution_count": 381,
   "metadata": {},
   "outputs": [
    {
     "name": "stdout",
     "output_type": "stream",
     "text": [
      "80 80 80 80\n"
     ]
    }
   ],
   "source": [
    "print(len(brands),len(product_description),len(prices),len(discounts))"
   ]
  },
  {
   "cell_type": "code",
   "execution_count": 382,
   "metadata": {},
   "outputs": [],
   "source": [
    "next_btn.click()"
   ]
  },
  {
   "cell_type": "code",
   "execution_count": 383,
   "metadata": {},
   "outputs": [],
   "source": [
    "#scraping brand name\n",
    "brand_tags = driver.find_elements_by_xpath(\"//div[@class='_2WkVRV']\")\n",
    "#Getting text and saving in list\n",
    "for i in brand_tags:\n",
    "    brands.append(i.text)"
   ]
  },
  {
   "cell_type": "code",
   "execution_count": 384,
   "metadata": {},
   "outputs": [],
   "source": [
    "#scraping product description\n",
    "description = driver.find_elements_by_xpath(\"//a[@class='IRpwTa']\")\n",
    "#Getting text and saving in list\n",
    "for i in description:\n",
    "    product_description.append(i.text)"
   ]
  },
  {
   "cell_type": "code",
   "execution_count": 385,
   "metadata": {},
   "outputs": [],
   "source": [
    "\n",
    "#scraping price\n",
    "price = driver.find_elements_by_xpath(\"//div[@class='_30jeq3']\")\n",
    "#Getting text and saving in list\n",
    "for i in price:\n",
    "    prices.append(i.text)"
   ]
  },
  {
   "cell_type": "code",
   "execution_count": 386,
   "metadata": {},
   "outputs": [],
   "source": [
    "#scraping discount\n",
    "discount = driver.find_elements_by_xpath(\"//div[@class='_3Ay6Sb']\")\n",
    "#Getting text and saving in list\n",
    "for i in discount:\n",
    "    discounts.append(i.text)\n"
   ]
  },
  {
   "cell_type": "code",
   "execution_count": 387,
   "metadata": {},
   "outputs": [
    {
     "name": "stdout",
     "output_type": "stream",
     "text": [
      "120 120 120 120\n"
     ]
    }
   ],
   "source": [
    "print(len(brands),len(product_description),len(prices),len(discounts))"
   ]
  },
  {
   "cell_type": "code",
   "execution_count": 388,
   "metadata": {},
   "outputs": [],
   "source": [
    "#Creating data frame\n",
    "sunglasses = pd.DataFrame({})\n",
    "sunglasses['Brand'] = brands\n",
    "sunglasses['Desc'] = product_description\n",
    "sunglasses['Price'] = prices\n",
    "sunglasses['Discount'] = discounts"
   ]
  },
  {
   "cell_type": "code",
   "execution_count": 392,
   "metadata": {},
   "outputs": [
    {
     "data": {
      "text/html": [
       "<div>\n",
       "<style scoped>\n",
       "    .dataframe tbody tr th:only-of-type {\n",
       "        vertical-align: middle;\n",
       "    }\n",
       "\n",
       "    .dataframe tbody tr th {\n",
       "        vertical-align: top;\n",
       "    }\n",
       "\n",
       "    .dataframe thead th {\n",
       "        text-align: right;\n",
       "    }\n",
       "</style>\n",
       "<table border=\"1\" class=\"dataframe\">\n",
       "  <thead>\n",
       "    <tr style=\"text-align: right;\">\n",
       "      <th></th>\n",
       "      <th>Brand</th>\n",
       "      <th>Desc</th>\n",
       "      <th>Price</th>\n",
       "      <th>Discount</th>\n",
       "    </tr>\n",
       "  </thead>\n",
       "  <tbody>\n",
       "    <tr>\n",
       "      <th>0</th>\n",
       "      <td>Fastrack</td>\n",
       "      <td>UV Protection Wayfarer Sunglasses (Free Size)</td>\n",
       "      <td>₹699</td>\n",
       "      <td>22% off</td>\n",
       "    </tr>\n",
       "    <tr>\n",
       "      <th>1</th>\n",
       "      <td>Fastrack</td>\n",
       "      <td>UV Protection Rectangular Sunglasses (Free Size)</td>\n",
       "      <td>₹599</td>\n",
       "      <td>25% off</td>\n",
       "    </tr>\n",
       "    <tr>\n",
       "      <th>2</th>\n",
       "      <td>PIRASO</td>\n",
       "      <td>UV Protection Aviator Sunglasses (54)</td>\n",
       "      <td>₹225</td>\n",
       "      <td>85% off</td>\n",
       "    </tr>\n",
       "    <tr>\n",
       "      <th>3</th>\n",
       "      <td>Fastrack</td>\n",
       "      <td>UV Protection Aviator Sunglasses (58)</td>\n",
       "      <td>₹969</td>\n",
       "      <td>25% off</td>\n",
       "    </tr>\n",
       "    <tr>\n",
       "      <th>4</th>\n",
       "      <td>Fastrack</td>\n",
       "      <td>Gradient, UV Protection Wayfarer Sunglasses (F...</td>\n",
       "      <td>₹499</td>\n",
       "      <td>37% off</td>\n",
       "    </tr>\n",
       "    <tr>\n",
       "      <th>...</th>\n",
       "      <td>...</td>\n",
       "      <td>...</td>\n",
       "      <td>...</td>\n",
       "      <td>...</td>\n",
       "    </tr>\n",
       "    <tr>\n",
       "      <th>95</th>\n",
       "      <td>Singco India</td>\n",
       "      <td>Mirrored, Riding Glasses, Others Sports Sungla...</td>\n",
       "      <td>₹239</td>\n",
       "      <td>84% off</td>\n",
       "    </tr>\n",
       "    <tr>\n",
       "      <th>96</th>\n",
       "      <td>Villain</td>\n",
       "      <td>Others Retro Square Sunglasses (Free Size)</td>\n",
       "      <td>₹599</td>\n",
       "      <td>20% off</td>\n",
       "    </tr>\n",
       "    <tr>\n",
       "      <th>97</th>\n",
       "      <td>NuVew</td>\n",
       "      <td>UV Protection, Mirrored, Night Vision, Riding ...</td>\n",
       "      <td>₹309</td>\n",
       "      <td>66% off</td>\n",
       "    </tr>\n",
       "    <tr>\n",
       "      <th>98</th>\n",
       "      <td>Fravy</td>\n",
       "      <td>UV Protection Wayfarer Sunglasses (56)</td>\n",
       "      <td>₹169</td>\n",
       "      <td>81% off</td>\n",
       "    </tr>\n",
       "    <tr>\n",
       "      <th>99</th>\n",
       "      <td>Singco</td>\n",
       "      <td>Mirrored Aviator Sunglasses (53)</td>\n",
       "      <td>₹239</td>\n",
       "      <td>76% off</td>\n",
       "    </tr>\n",
       "  </tbody>\n",
       "</table>\n",
       "<p>100 rows × 4 columns</p>\n",
       "</div>"
      ],
      "text/plain": [
       "           Brand                                               Desc Price  \\\n",
       "0       Fastrack      UV Protection Wayfarer Sunglasses (Free Size)  ₹699   \n",
       "1       Fastrack   UV Protection Rectangular Sunglasses (Free Size)  ₹599   \n",
       "2         PIRASO              UV Protection Aviator Sunglasses (54)  ₹225   \n",
       "3       Fastrack              UV Protection Aviator Sunglasses (58)  ₹969   \n",
       "4       Fastrack  Gradient, UV Protection Wayfarer Sunglasses (F...  ₹499   \n",
       "..           ...                                                ...   ...   \n",
       "95  Singco India  Mirrored, Riding Glasses, Others Sports Sungla...  ₹239   \n",
       "96       Villain         Others Retro Square Sunglasses (Free Size)  ₹599   \n",
       "97         NuVew  UV Protection, Mirrored, Night Vision, Riding ...  ₹309   \n",
       "98         Fravy             UV Protection Wayfarer Sunglasses (56)  ₹169   \n",
       "99        Singco                   Mirrored Aviator Sunglasses (53)  ₹239   \n",
       "\n",
       "   Discount  \n",
       "0   22% off  \n",
       "1   25% off  \n",
       "2   85% off  \n",
       "3   25% off  \n",
       "4   37% off  \n",
       "..      ...  \n",
       "95  84% off  \n",
       "96  20% off  \n",
       "97  66% off  \n",
       "98  81% off  \n",
       "99  76% off  \n",
       "\n",
       "[100 rows x 4 columns]"
      ]
     },
     "execution_count": 392,
     "metadata": {},
     "output_type": "execute_result"
    }
   ],
   "source": [
    "sunglasses_df = sunglasses.head(100)\n",
    "sunglasses_df"
   ]
  },
  {
   "cell_type": "markdown",
   "metadata": {},
   "source": [
    "<b>Q7: Scrape 100 reviews data from flipkart.com for iphone11 phone. You have to\n",
    "go the link: https://www.flipkart.com/apple-iphone-11-black-64-gb-includesearpods-poweradapter/p/itm0f37c2240b217?pid=MOBFKCTSVZAXUHGR&lid=LSTMOBFKC\n",
    "TSVZAXUHGREPBFGI&marketplace.<b>"
   ]
  },
  {
   "cell_type": "code",
   "execution_count": 414,
   "metadata": {},
   "outputs": [],
   "source": [
    "#Connecting to driver\n",
    "driver = webdriver.Chrome(r\"C:\\Users\\sumuk\\Downloads\\chromedriver_win32\\chromedriver.exe\")\n"
   ]
  },
  {
   "cell_type": "code",
   "execution_count": 415,
   "metadata": {},
   "outputs": [],
   "source": [
    "#Getting the url\n",
    "url = 'https://www.flipkart.com/apple-iphone-11-black-64-gb-includesearpods-poweradapter/p/itm0f37c2240b217?pid=MOBFKCTSVZAXUHGR&lid=LSTMOBFKC'\n",
    "driver.get(url)"
   ]
  },
  {
   "cell_type": "code",
   "execution_count": 416,
   "metadata": {},
   "outputs": [],
   "source": [
    "ratings = []\n",
    "reviews = []\n",
    "full_reviews = []\n",
    "while len(ratings)<100:\n",
    "    #scraping rating\n",
    "    rating_tags = driver.find_elements_by_xpath(\"//div[@class='_3LWZlK _1BLPMq']\")\n",
    "    #Getting text and saving in list\n",
    "    for i in rating_tags:\n",
    "        ratings.append(i.text)\n",
    "    #scraping reviews\n",
    "    review_tags = driver.find_elements_by_xpath(\"//p[@class='_2-N8zT']\")\n",
    "    #Getting text and saving in list\n",
    "    for i in review_tags:\n",
    "        reviews.append(i.text)\n",
    "    #scraping full reviews\n",
    "    full_review_tags = driver.find_elements_by_xpath(\"//div[@class='t-ZTKy']\")\n",
    "    #Getting text and saving in list\n",
    "    for i in full_review_tags:\n",
    "        full_reviews.append(i.text)"
   ]
  },
  {
   "cell_type": "code",
   "execution_count": 417,
   "metadata": {},
   "outputs": [
    {
     "name": "stdout",
     "output_type": "stream",
     "text": [
      "100 100 100\n"
     ]
    }
   ],
   "source": [
    "print(len(ratings),len(reviews),len(full_reviews))\n"
   ]
  },
  {
   "cell_type": "code",
   "execution_count": 418,
   "metadata": {},
   "outputs": [
    {
     "data": {
      "text/html": [
       "<div>\n",
       "<style scoped>\n",
       "    .dataframe tbody tr th:only-of-type {\n",
       "        vertical-align: middle;\n",
       "    }\n",
       "\n",
       "    .dataframe tbody tr th {\n",
       "        vertical-align: top;\n",
       "    }\n",
       "\n",
       "    .dataframe thead th {\n",
       "        text-align: right;\n",
       "    }\n",
       "</style>\n",
       "<table border=\"1\" class=\"dataframe\">\n",
       "  <thead>\n",
       "    <tr style=\"text-align: right;\">\n",
       "      <th></th>\n",
       "      <th>Rating</th>\n",
       "      <th>Review Summary</th>\n",
       "      <th>Full review</th>\n",
       "    </tr>\n",
       "  </thead>\n",
       "  <tbody>\n",
       "    <tr>\n",
       "      <th>0</th>\n",
       "      <td>5</td>\n",
       "      <td>Simply awesome</td>\n",
       "      <td>Really satisfied with the Product I received.....</td>\n",
       "    </tr>\n",
       "    <tr>\n",
       "      <th>1</th>\n",
       "      <td>5</td>\n",
       "      <td>Brilliant</td>\n",
       "      <td>The Best Phone for the Money\\n\\nThe iPhone 11 ...</td>\n",
       "    </tr>\n",
       "    <tr>\n",
       "      <th>2</th>\n",
       "      <td>5</td>\n",
       "      <td>Perfect product!</td>\n",
       "      <td>Amazing phone with great cameras and better ba...</td>\n",
       "    </tr>\n",
       "    <tr>\n",
       "      <th>3</th>\n",
       "      <td>5</td>\n",
       "      <td>Fabulous!</td>\n",
       "      <td>This is my first iOS phone. I am very happy wi...</td>\n",
       "    </tr>\n",
       "    <tr>\n",
       "      <th>4</th>\n",
       "      <td>5</td>\n",
       "      <td>Worth every penny</td>\n",
       "      <td>Previously I was using one plus 3t it was a gr...</td>\n",
       "    </tr>\n",
       "    <tr>\n",
       "      <th>...</th>\n",
       "      <td>...</td>\n",
       "      <td>...</td>\n",
       "      <td>...</td>\n",
       "    </tr>\n",
       "    <tr>\n",
       "      <th>95</th>\n",
       "      <td>5</td>\n",
       "      <td>Great product</td>\n",
       "      <td>Amazing Powerful and Durable Gadget.\\n\\nI’m am...</td>\n",
       "    </tr>\n",
       "    <tr>\n",
       "      <th>96</th>\n",
       "      <td>5</td>\n",
       "      <td>Worth every penny</td>\n",
       "      <td>i11 is worthy to buy, too much happy with the ...</td>\n",
       "    </tr>\n",
       "    <tr>\n",
       "      <th>97</th>\n",
       "      <td>4</td>\n",
       "      <td>Good choice</td>\n",
       "      <td>So far it’s been an AMAZING experience coming ...</td>\n",
       "    </tr>\n",
       "    <tr>\n",
       "      <th>98</th>\n",
       "      <td>5</td>\n",
       "      <td>Highly recommended</td>\n",
       "      <td>iphone 11 is a very good phone to buy only if ...</td>\n",
       "    </tr>\n",
       "    <tr>\n",
       "      <th>99</th>\n",
       "      <td>5</td>\n",
       "      <td>Best in the market!</td>\n",
       "      <td>Great iPhone very snappy experience as apple k...</td>\n",
       "    </tr>\n",
       "  </tbody>\n",
       "</table>\n",
       "<p>100 rows × 3 columns</p>\n",
       "</div>"
      ],
      "text/plain": [
       "   Rating       Review Summary  \\\n",
       "0       5       Simply awesome   \n",
       "1       5            Brilliant   \n",
       "2       5     Perfect product!   \n",
       "3       5            Fabulous!   \n",
       "4       5    Worth every penny   \n",
       "..    ...                  ...   \n",
       "95      5        Great product   \n",
       "96      5    Worth every penny   \n",
       "97      4          Good choice   \n",
       "98      5   Highly recommended   \n",
       "99      5  Best in the market!   \n",
       "\n",
       "                                          Full review  \n",
       "0   Really satisfied with the Product I received.....  \n",
       "1   The Best Phone for the Money\\n\\nThe iPhone 11 ...  \n",
       "2   Amazing phone with great cameras and better ba...  \n",
       "3   This is my first iOS phone. I am very happy wi...  \n",
       "4   Previously I was using one plus 3t it was a gr...  \n",
       "..                                                ...  \n",
       "95  Amazing Powerful and Durable Gadget.\\n\\nI’m am...  \n",
       "96  i11 is worthy to buy, too much happy with the ...  \n",
       "97  So far it’s been an AMAZING experience coming ...  \n",
       "98  iphone 11 is a very good phone to buy only if ...  \n",
       "99  Great iPhone very snappy experience as apple k...  \n",
       "\n",
       "[100 rows x 3 columns]"
      ]
     },
     "execution_count": 418,
     "metadata": {},
     "output_type": "execute_result"
    }
   ],
   "source": [
    "#Creating data frame\n",
    "iphone = pd.DataFrame({})\n",
    "iphone['Rating'] = ratings\n",
    "iphone['Review Summary'] = reviews\n",
    "iphone['Full review'] = full_reviews\n",
    "iphone"
   ]
  },
  {
   "cell_type": "markdown",
   "metadata": {},
   "source": [
    "<b>Q8: Scrape data for first 100 sneakers you find when you visit flipkart.com and\n",
    "search for “sneakers” in the search field.\n",
    "You have to scrape 4 attributes of each sneaker :\n",
    "1. Brand\n",
    "2. Product Description\n",
    "3. Price\n",
    "4. discount %\n",
    "<b>"
   ]
  },
  {
   "cell_type": "code",
   "execution_count": 428,
   "metadata": {},
   "outputs": [],
   "source": [
    "#Connecting to driver\n",
    "driver = webdriver.Chrome(r\"C:\\Users\\sumuk\\Downloads\\chromedriver_win32\\chromedriver.exe\")"
   ]
  },
  {
   "cell_type": "code",
   "execution_count": 429,
   "metadata": {},
   "outputs": [],
   "source": [
    "#Getting the url\n",
    "url = 'https://www.flipkart.com/search?q=sneakers&as=on&as-show=on&otracker=AS_Query_OrganicAutoSuggest_3_8_na_na_na&otracker1=AS_Query_OrganicAutoSuggest_3_8_na_na_na&as-pos=3&as-type=RECENT&suggestionId=sneakers&requestId=f4d20b5b-9905-4f3d-a660-1f094c9f8b02&as-searchtext=sneakers'\n",
    "driver.get(url)"
   ]
  },
  {
   "cell_type": "code",
   "execution_count": 430,
   "metadata": {},
   "outputs": [],
   "source": [
    "brands = []\n",
    "product_description = []\n",
    "price = []\n",
    "discount = []\n",
    "while len(brands)<100:\n",
    "     #scraping brands\n",
    "    brand_tags = driver.find_elements_by_xpath(\"//div[@class='_2WkVRV']\")\n",
    "    #Getting text and saving in list\n",
    "    for i in brand_tags:\n",
    "        brands.append(i.text)\n",
    "    #scraping product description\n",
    "    desc_tags = driver.find_elements_by_xpath(\"//a[@class='IRpwTa']\")\n",
    "    #Getting text and saving in list\n",
    "    for i in desc_tags:\n",
    "        product_description.append(i.text)\n",
    "    #scraping price\n",
    "    price_tags = driver.find_elements_by_xpath(\"//div[@class='_30jeq3']\")\n",
    "    #Getting text and saving in list\n",
    "    for i in price_tags:\n",
    "        price.append(i.text)\n",
    "    #scraping discount\n",
    "    discount_tags = driver.find_elements_by_xpath(\"//div[@class='_3Ay6Sb']\")\n",
    "    #Getting text and saving in list\n",
    "    for i in discount_tags:\n",
    "        discount.append(i.text)\n",
    "        \n"
   ]
  },
  {
   "cell_type": "code",
   "execution_count": 431,
   "metadata": {},
   "outputs": [
    {
     "name": "stdout",
     "output_type": "stream",
     "text": [
      "120 120 120 120\n"
     ]
    }
   ],
   "source": [
    "print(len(brands),len(product_description),len(price),len(discount))"
   ]
  },
  {
   "cell_type": "code",
   "execution_count": 432,
   "metadata": {},
   "outputs": [
    {
     "data": {
      "text/html": [
       "<div>\n",
       "<style scoped>\n",
       "    .dataframe tbody tr th:only-of-type {\n",
       "        vertical-align: middle;\n",
       "    }\n",
       "\n",
       "    .dataframe tbody tr th {\n",
       "        vertical-align: top;\n",
       "    }\n",
       "\n",
       "    .dataframe thead th {\n",
       "        text-align: right;\n",
       "    }\n",
       "</style>\n",
       "<table border=\"1\" class=\"dataframe\">\n",
       "  <thead>\n",
       "    <tr style=\"text-align: right;\">\n",
       "      <th></th>\n",
       "      <th>Brand</th>\n",
       "      <th>Desc</th>\n",
       "      <th>Price</th>\n",
       "      <th>Discount</th>\n",
       "    </tr>\n",
       "  </thead>\n",
       "  <tbody>\n",
       "    <tr>\n",
       "      <th>0</th>\n",
       "      <td>PUMA</td>\n",
       "      <td>Cape IDP Sneakers For Men</td>\n",
       "      <td>₹1,418</td>\n",
       "      <td>59% off</td>\n",
       "    </tr>\n",
       "    <tr>\n",
       "      <th>1</th>\n",
       "      <td>PUMA</td>\n",
       "      <td>MAPF1 X-RAY 2 Sneakers For Men</td>\n",
       "      <td>₹3,690</td>\n",
       "      <td>53% off</td>\n",
       "    </tr>\n",
       "    <tr>\n",
       "      <th>2</th>\n",
       "      <td>bluemaker</td>\n",
       "      <td>casual for men (blue 06) Sneakers For Men</td>\n",
       "      <td>₹399</td>\n",
       "      <td>60% off</td>\n",
       "    </tr>\n",
       "    <tr>\n",
       "      <th>3</th>\n",
       "      <td>Shoes Bank</td>\n",
       "      <td>White Sneaker For Men's/Boy's Sneakers For Men</td>\n",
       "      <td>₹331</td>\n",
       "      <td>66% off</td>\n",
       "    </tr>\n",
       "    <tr>\n",
       "      <th>4</th>\n",
       "      <td>Chevit</td>\n",
       "      <td>Speed Set of 5 Pairs Sneakers Outdoors Casuals...</td>\n",
       "      <td>₹679</td>\n",
       "      <td>72% off</td>\n",
       "    </tr>\n",
       "    <tr>\n",
       "      <th>...</th>\n",
       "      <td>...</td>\n",
       "      <td>...</td>\n",
       "      <td>...</td>\n",
       "      <td>...</td>\n",
       "    </tr>\n",
       "    <tr>\n",
       "      <th>115</th>\n",
       "      <td>PUMA</td>\n",
       "      <td>Ferrari Race X-Ray 2 Sneakers For Men</td>\n",
       "      <td>₹3,200</td>\n",
       "      <td>59% off</td>\n",
       "    </tr>\n",
       "    <tr>\n",
       "      <th>116</th>\n",
       "      <td>Chevit</td>\n",
       "      <td>Perfect &amp; Affordable Combo Pack of 02 Pairs Sn...</td>\n",
       "      <td>₹447</td>\n",
       "      <td>75% off</td>\n",
       "    </tr>\n",
       "    <tr>\n",
       "      <th>117</th>\n",
       "      <td>bluemaker</td>\n",
       "      <td>casual for men (black 07) Sneakers For Men</td>\n",
       "      <td>₹399</td>\n",
       "      <td>60% off</td>\n",
       "    </tr>\n",
       "    <tr>\n",
       "      <th>118</th>\n",
       "      <td>PUMA</td>\n",
       "      <td>Simha IDP Sneakers For Men</td>\n",
       "      <td>₹1,115</td>\n",
       "      <td>62% off</td>\n",
       "    </tr>\n",
       "    <tr>\n",
       "      <th>119</th>\n",
       "      <td>asics</td>\n",
       "      <td>CLASSIC CT SLIP-ON Sneakers For Men</td>\n",
       "      <td>₹2,384</td>\n",
       "      <td>47% off</td>\n",
       "    </tr>\n",
       "  </tbody>\n",
       "</table>\n",
       "<p>120 rows × 4 columns</p>\n",
       "</div>"
      ],
      "text/plain": [
       "          Brand                                               Desc   Price  \\\n",
       "0          PUMA                          Cape IDP Sneakers For Men  ₹1,418   \n",
       "1          PUMA                     MAPF1 X-RAY 2 Sneakers For Men  ₹3,690   \n",
       "2     bluemaker          casual for men (blue 06) Sneakers For Men    ₹399   \n",
       "3    Shoes Bank     White Sneaker For Men's/Boy's Sneakers For Men    ₹331   \n",
       "4        Chevit  Speed Set of 5 Pairs Sneakers Outdoors Casuals...    ₹679   \n",
       "..          ...                                                ...     ...   \n",
       "115        PUMA              Ferrari Race X-Ray 2 Sneakers For Men  ₹3,200   \n",
       "116      Chevit  Perfect & Affordable Combo Pack of 02 Pairs Sn...    ₹447   \n",
       "117   bluemaker         casual for men (black 07) Sneakers For Men    ₹399   \n",
       "118        PUMA                         Simha IDP Sneakers For Men  ₹1,115   \n",
       "119       asics                CLASSIC CT SLIP-ON Sneakers For Men  ₹2,384   \n",
       "\n",
       "    Discount  \n",
       "0    59% off  \n",
       "1    53% off  \n",
       "2    60% off  \n",
       "3    66% off  \n",
       "4    72% off  \n",
       "..       ...  \n",
       "115  59% off  \n",
       "116  75% off  \n",
       "117  60% off  \n",
       "118  62% off  \n",
       "119  47% off  \n",
       "\n",
       "[120 rows x 4 columns]"
      ]
     },
     "execution_count": 432,
     "metadata": {},
     "output_type": "execute_result"
    }
   ],
   "source": [
    "#Creating data frame\n",
    "sneakers = pd.DataFrame({})\n",
    "sneakers['Brand'] = brands\n",
    "sneakers['Desc'] = product_description\n",
    "sneakers['Price'] = price\n",
    "sneakers['Discount'] = discount\n",
    "sneakers"
   ]
  },
  {
   "cell_type": "code",
   "execution_count": 433,
   "metadata": {},
   "outputs": [
    {
     "data": {
      "text/html": [
       "<div>\n",
       "<style scoped>\n",
       "    .dataframe tbody tr th:only-of-type {\n",
       "        vertical-align: middle;\n",
       "    }\n",
       "\n",
       "    .dataframe tbody tr th {\n",
       "        vertical-align: top;\n",
       "    }\n",
       "\n",
       "    .dataframe thead th {\n",
       "        text-align: right;\n",
       "    }\n",
       "</style>\n",
       "<table border=\"1\" class=\"dataframe\">\n",
       "  <thead>\n",
       "    <tr style=\"text-align: right;\">\n",
       "      <th></th>\n",
       "      <th>Brand</th>\n",
       "      <th>Desc</th>\n",
       "      <th>Price</th>\n",
       "      <th>Discount</th>\n",
       "    </tr>\n",
       "  </thead>\n",
       "  <tbody>\n",
       "    <tr>\n",
       "      <th>0</th>\n",
       "      <td>PUMA</td>\n",
       "      <td>Cape IDP Sneakers For Men</td>\n",
       "      <td>₹1,418</td>\n",
       "      <td>59% off</td>\n",
       "    </tr>\n",
       "    <tr>\n",
       "      <th>1</th>\n",
       "      <td>PUMA</td>\n",
       "      <td>MAPF1 X-RAY 2 Sneakers For Men</td>\n",
       "      <td>₹3,690</td>\n",
       "      <td>53% off</td>\n",
       "    </tr>\n",
       "    <tr>\n",
       "      <th>2</th>\n",
       "      <td>bluemaker</td>\n",
       "      <td>casual for men (blue 06) Sneakers For Men</td>\n",
       "      <td>₹399</td>\n",
       "      <td>60% off</td>\n",
       "    </tr>\n",
       "    <tr>\n",
       "      <th>3</th>\n",
       "      <td>Shoes Bank</td>\n",
       "      <td>White Sneaker For Men's/Boy's Sneakers For Men</td>\n",
       "      <td>₹331</td>\n",
       "      <td>66% off</td>\n",
       "    </tr>\n",
       "    <tr>\n",
       "      <th>4</th>\n",
       "      <td>Chevit</td>\n",
       "      <td>Speed Set of 5 Pairs Sneakers Outdoors Casuals...</td>\n",
       "      <td>₹679</td>\n",
       "      <td>72% off</td>\n",
       "    </tr>\n",
       "    <tr>\n",
       "      <th>...</th>\n",
       "      <td>...</td>\n",
       "      <td>...</td>\n",
       "      <td>...</td>\n",
       "      <td>...</td>\n",
       "    </tr>\n",
       "    <tr>\n",
       "      <th>95</th>\n",
       "      <td>PUMA</td>\n",
       "      <td>Puma Smash v2 Buck Sneakers For Men</td>\n",
       "      <td>₹1,470</td>\n",
       "      <td>57% off</td>\n",
       "    </tr>\n",
       "    <tr>\n",
       "      <th>96</th>\n",
       "      <td>D-SNEAKERZ</td>\n",
       "      <td>Casual , Partywear Sneakers Shoes For Men's An...</td>\n",
       "      <td>₹384</td>\n",
       "      <td>61% off</td>\n",
       "    </tr>\n",
       "    <tr>\n",
       "      <th>97</th>\n",
       "      <td>ASIAN</td>\n",
       "      <td>Skypy-31 Walking Shoes,Training Shoes,Sneakers...</td>\n",
       "      <td>₹599</td>\n",
       "      <td>25% off</td>\n",
       "    </tr>\n",
       "    <tr>\n",
       "      <th>98</th>\n",
       "      <td>Chevit</td>\n",
       "      <td>Super Stylish &amp; Trendy Combo Pack of 02 Pairs ...</td>\n",
       "      <td>₹536</td>\n",
       "      <td>66% off</td>\n",
       "    </tr>\n",
       "    <tr>\n",
       "      <th>99</th>\n",
       "      <td>PUMA</td>\n",
       "      <td>Rebound LayUp Lo SL Sneakers For Men</td>\n",
       "      <td>₹1,976</td>\n",
       "      <td>60% off</td>\n",
       "    </tr>\n",
       "  </tbody>\n",
       "</table>\n",
       "<p>100 rows × 4 columns</p>\n",
       "</div>"
      ],
      "text/plain": [
       "         Brand                                               Desc   Price  \\\n",
       "0         PUMA                          Cape IDP Sneakers For Men  ₹1,418   \n",
       "1         PUMA                     MAPF1 X-RAY 2 Sneakers For Men  ₹3,690   \n",
       "2    bluemaker          casual for men (blue 06) Sneakers For Men    ₹399   \n",
       "3   Shoes Bank     White Sneaker For Men's/Boy's Sneakers For Men    ₹331   \n",
       "4       Chevit  Speed Set of 5 Pairs Sneakers Outdoors Casuals...    ₹679   \n",
       "..         ...                                                ...     ...   \n",
       "95        PUMA                Puma Smash v2 Buck Sneakers For Men  ₹1,470   \n",
       "96  D-SNEAKERZ  Casual , Partywear Sneakers Shoes For Men's An...    ₹384   \n",
       "97       ASIAN  Skypy-31 Walking Shoes,Training Shoes,Sneakers...    ₹599   \n",
       "98      Chevit  Super Stylish & Trendy Combo Pack of 02 Pairs ...    ₹536   \n",
       "99        PUMA               Rebound LayUp Lo SL Sneakers For Men  ₹1,976   \n",
       "\n",
       "   Discount  \n",
       "0   59% off  \n",
       "1   53% off  \n",
       "2   60% off  \n",
       "3   66% off  \n",
       "4   72% off  \n",
       "..      ...  \n",
       "95  57% off  \n",
       "96  61% off  \n",
       "97  25% off  \n",
       "98  66% off  \n",
       "99  60% off  \n",
       "\n",
       "[100 rows x 4 columns]"
      ]
     },
     "execution_count": 433,
     "metadata": {},
     "output_type": "execute_result"
    }
   ],
   "source": [
    "sneakers_100 = sneakers.head(100)\n",
    "sneakers_100"
   ]
  },
  {
   "cell_type": "markdown",
   "metadata": {},
   "source": [
    "<b>Q9: Go to the link - https://www.myntra.com/shoes\n",
    "Set Price filter to “Rs. 6649 to Rs. 13099” , Color filter to “Black”, as shown in\n",
    "the below image\n",
    "   And then scrape First 100 shoes data you get. The data should include “Brand” of\n",
    "the shoes , Short Shoe description, price of the shoe as shown in the below image<b>"
   ]
  },
  {
   "cell_type": "code",
   "execution_count": 483,
   "metadata": {},
   "outputs": [],
   "source": [
    "#Connecting to driver\n",
    "driver = webdriver.Chrome(r\"C:\\Users\\sumuk\\Downloads\\chromedriver_win32\\chromedriver.exe\")"
   ]
  },
  {
   "cell_type": "code",
   "execution_count": 484,
   "metadata": {},
   "outputs": [],
   "source": [
    "#Getting the url\n",
    "url = 'https://www.myntra.com/shoes'\n",
    "driver.get(url)"
   ]
  },
  {
   "cell_type": "code",
   "execution_count": 485,
   "metadata": {},
   "outputs": [],
   "source": [
    "#Getting button element and excecuting click\n",
    "filter_price_btn = driver.find_element_by_xpath('//*[@id=\"mountRoot\"]/div/div[1]/main/div[3]/div[1]/section/div/div[5]/ul/li[2]/label/div')\n",
    "filter_price_btn.click()\n",
    "filter_black_btn = driver.find_element_by_xpath('//*[@id=\"mountRoot\"]/div/div[1]/main/div[3]/div[1]/section/div/div[6]/ul/li[1]/label/div')\n",
    "filter_black_btn.click()"
   ]
  },
  {
   "cell_type": "code",
   "execution_count": 487,
   "metadata": {},
   "outputs": [
    {
     "ename": "StaleElementReferenceException",
     "evalue": "Message: stale element reference: element is not attached to the page document\n  (Session info: chrome=92.0.4515.131)\n",
     "output_type": "error",
     "traceback": [
      "\u001b[1;31m---------------------------------------------------------------------------\u001b[0m",
      "\u001b[1;31mStaleElementReferenceException\u001b[0m            Traceback (most recent call last)",
      "\u001b[1;32m<ipython-input-487-67510281306b>\u001b[0m in \u001b[0;36m<module>\u001b[1;34m\u001b[0m\n\u001b[0;32m      8\u001b[0m     \u001b[1;31m#Getting text and saving in list\u001b[0m\u001b[1;33m\u001b[0m\u001b[1;33m\u001b[0m\u001b[1;33m\u001b[0m\u001b[0m\n\u001b[0;32m      9\u001b[0m     \u001b[1;32mfor\u001b[0m \u001b[0mi\u001b[0m \u001b[1;32min\u001b[0m \u001b[0mbrand_tags\u001b[0m\u001b[1;33m:\u001b[0m\u001b[1;33m\u001b[0m\u001b[1;33m\u001b[0m\u001b[0m\n\u001b[1;32m---> 10\u001b[1;33m         \u001b[0mbrands\u001b[0m\u001b[1;33m.\u001b[0m\u001b[0mappend\u001b[0m\u001b[1;33m(\u001b[0m\u001b[0mi\u001b[0m\u001b[1;33m.\u001b[0m\u001b[0mtext\u001b[0m\u001b[1;33m)\u001b[0m\u001b[1;33m\u001b[0m\u001b[1;33m\u001b[0m\u001b[0m\n\u001b[0m\u001b[0;32m     11\u001b[0m     \u001b[1;31m#scraping product description\u001b[0m\u001b[1;33m\u001b[0m\u001b[1;33m\u001b[0m\u001b[1;33m\u001b[0m\u001b[0m\n\u001b[0;32m     12\u001b[0m     \u001b[0mdesc_tags\u001b[0m \u001b[1;33m=\u001b[0m \u001b[0mdriver\u001b[0m\u001b[1;33m.\u001b[0m\u001b[0mfind_elements_by_xpath\u001b[0m\u001b[1;33m(\u001b[0m\u001b[1;34m\"//h4[@class='product-product']\"\u001b[0m\u001b[1;33m)\u001b[0m\u001b[1;33m\u001b[0m\u001b[1;33m\u001b[0m\u001b[0m\n",
      "\u001b[1;32m~\\anaconda3\\lib\\site-packages\\selenium\\webdriver\\remote\\webelement.py\u001b[0m in \u001b[0;36mtext\u001b[1;34m(self)\u001b[0m\n\u001b[0;32m     74\u001b[0m     \u001b[1;32mdef\u001b[0m \u001b[0mtext\u001b[0m\u001b[1;33m(\u001b[0m\u001b[0mself\u001b[0m\u001b[1;33m)\u001b[0m\u001b[1;33m:\u001b[0m\u001b[1;33m\u001b[0m\u001b[1;33m\u001b[0m\u001b[0m\n\u001b[0;32m     75\u001b[0m         \u001b[1;34m\"\"\"The text of the element.\"\"\"\u001b[0m\u001b[1;33m\u001b[0m\u001b[1;33m\u001b[0m\u001b[0m\n\u001b[1;32m---> 76\u001b[1;33m         \u001b[1;32mreturn\u001b[0m \u001b[0mself\u001b[0m\u001b[1;33m.\u001b[0m\u001b[0m_execute\u001b[0m\u001b[1;33m(\u001b[0m\u001b[0mCommand\u001b[0m\u001b[1;33m.\u001b[0m\u001b[0mGET_ELEMENT_TEXT\u001b[0m\u001b[1;33m)\u001b[0m\u001b[1;33m[\u001b[0m\u001b[1;34m'value'\u001b[0m\u001b[1;33m]\u001b[0m\u001b[1;33m\u001b[0m\u001b[1;33m\u001b[0m\u001b[0m\n\u001b[0m\u001b[0;32m     77\u001b[0m \u001b[1;33m\u001b[0m\u001b[0m\n\u001b[0;32m     78\u001b[0m     \u001b[1;32mdef\u001b[0m \u001b[0mclick\u001b[0m\u001b[1;33m(\u001b[0m\u001b[0mself\u001b[0m\u001b[1;33m)\u001b[0m\u001b[1;33m:\u001b[0m\u001b[1;33m\u001b[0m\u001b[1;33m\u001b[0m\u001b[0m\n",
      "\u001b[1;32m~\\anaconda3\\lib\\site-packages\\selenium\\webdriver\\remote\\webelement.py\u001b[0m in \u001b[0;36m_execute\u001b[1;34m(self, command, params)\u001b[0m\n\u001b[0;32m    631\u001b[0m             \u001b[0mparams\u001b[0m \u001b[1;33m=\u001b[0m \u001b[1;33m{\u001b[0m\u001b[1;33m}\u001b[0m\u001b[1;33m\u001b[0m\u001b[1;33m\u001b[0m\u001b[0m\n\u001b[0;32m    632\u001b[0m         \u001b[0mparams\u001b[0m\u001b[1;33m[\u001b[0m\u001b[1;34m'id'\u001b[0m\u001b[1;33m]\u001b[0m \u001b[1;33m=\u001b[0m \u001b[0mself\u001b[0m\u001b[1;33m.\u001b[0m\u001b[0m_id\u001b[0m\u001b[1;33m\u001b[0m\u001b[1;33m\u001b[0m\u001b[0m\n\u001b[1;32m--> 633\u001b[1;33m         \u001b[1;32mreturn\u001b[0m \u001b[0mself\u001b[0m\u001b[1;33m.\u001b[0m\u001b[0m_parent\u001b[0m\u001b[1;33m.\u001b[0m\u001b[0mexecute\u001b[0m\u001b[1;33m(\u001b[0m\u001b[0mcommand\u001b[0m\u001b[1;33m,\u001b[0m \u001b[0mparams\u001b[0m\u001b[1;33m)\u001b[0m\u001b[1;33m\u001b[0m\u001b[1;33m\u001b[0m\u001b[0m\n\u001b[0m\u001b[0;32m    634\u001b[0m \u001b[1;33m\u001b[0m\u001b[0m\n\u001b[0;32m    635\u001b[0m     \u001b[1;32mdef\u001b[0m \u001b[0mfind_element\u001b[0m\u001b[1;33m(\u001b[0m\u001b[0mself\u001b[0m\u001b[1;33m,\u001b[0m \u001b[0mby\u001b[0m\u001b[1;33m=\u001b[0m\u001b[0mBy\u001b[0m\u001b[1;33m.\u001b[0m\u001b[0mID\u001b[0m\u001b[1;33m,\u001b[0m \u001b[0mvalue\u001b[0m\u001b[1;33m=\u001b[0m\u001b[1;32mNone\u001b[0m\u001b[1;33m)\u001b[0m\u001b[1;33m:\u001b[0m\u001b[1;33m\u001b[0m\u001b[1;33m\u001b[0m\u001b[0m\n",
      "\u001b[1;32m~\\anaconda3\\lib\\site-packages\\selenium\\webdriver\\remote\\webdriver.py\u001b[0m in \u001b[0;36mexecute\u001b[1;34m(self, driver_command, params)\u001b[0m\n\u001b[0;32m    319\u001b[0m         \u001b[0mresponse\u001b[0m \u001b[1;33m=\u001b[0m \u001b[0mself\u001b[0m\u001b[1;33m.\u001b[0m\u001b[0mcommand_executor\u001b[0m\u001b[1;33m.\u001b[0m\u001b[0mexecute\u001b[0m\u001b[1;33m(\u001b[0m\u001b[0mdriver_command\u001b[0m\u001b[1;33m,\u001b[0m \u001b[0mparams\u001b[0m\u001b[1;33m)\u001b[0m\u001b[1;33m\u001b[0m\u001b[1;33m\u001b[0m\u001b[0m\n\u001b[0;32m    320\u001b[0m         \u001b[1;32mif\u001b[0m \u001b[0mresponse\u001b[0m\u001b[1;33m:\u001b[0m\u001b[1;33m\u001b[0m\u001b[1;33m\u001b[0m\u001b[0m\n\u001b[1;32m--> 321\u001b[1;33m             \u001b[0mself\u001b[0m\u001b[1;33m.\u001b[0m\u001b[0merror_handler\u001b[0m\u001b[1;33m.\u001b[0m\u001b[0mcheck_response\u001b[0m\u001b[1;33m(\u001b[0m\u001b[0mresponse\u001b[0m\u001b[1;33m)\u001b[0m\u001b[1;33m\u001b[0m\u001b[1;33m\u001b[0m\u001b[0m\n\u001b[0m\u001b[0;32m    322\u001b[0m             response['value'] = self._unwrap_value(\n\u001b[0;32m    323\u001b[0m                 response.get('value', None))\n",
      "\u001b[1;32m~\\anaconda3\\lib\\site-packages\\selenium\\webdriver\\remote\\errorhandler.py\u001b[0m in \u001b[0;36mcheck_response\u001b[1;34m(self, response)\u001b[0m\n\u001b[0;32m    240\u001b[0m                 \u001b[0malert_text\u001b[0m \u001b[1;33m=\u001b[0m \u001b[0mvalue\u001b[0m\u001b[1;33m[\u001b[0m\u001b[1;34m'alert'\u001b[0m\u001b[1;33m]\u001b[0m\u001b[1;33m.\u001b[0m\u001b[0mget\u001b[0m\u001b[1;33m(\u001b[0m\u001b[1;34m'text'\u001b[0m\u001b[1;33m)\u001b[0m\u001b[1;33m\u001b[0m\u001b[1;33m\u001b[0m\u001b[0m\n\u001b[0;32m    241\u001b[0m             \u001b[1;32mraise\u001b[0m \u001b[0mexception_class\u001b[0m\u001b[1;33m(\u001b[0m\u001b[0mmessage\u001b[0m\u001b[1;33m,\u001b[0m \u001b[0mscreen\u001b[0m\u001b[1;33m,\u001b[0m \u001b[0mstacktrace\u001b[0m\u001b[1;33m,\u001b[0m \u001b[0malert_text\u001b[0m\u001b[1;33m)\u001b[0m\u001b[1;33m\u001b[0m\u001b[1;33m\u001b[0m\u001b[0m\n\u001b[1;32m--> 242\u001b[1;33m         \u001b[1;32mraise\u001b[0m \u001b[0mexception_class\u001b[0m\u001b[1;33m(\u001b[0m\u001b[0mmessage\u001b[0m\u001b[1;33m,\u001b[0m \u001b[0mscreen\u001b[0m\u001b[1;33m,\u001b[0m \u001b[0mstacktrace\u001b[0m\u001b[1;33m)\u001b[0m\u001b[1;33m\u001b[0m\u001b[1;33m\u001b[0m\u001b[0m\n\u001b[0m\u001b[0;32m    243\u001b[0m \u001b[1;33m\u001b[0m\u001b[0m\n\u001b[0;32m    244\u001b[0m     \u001b[1;32mdef\u001b[0m \u001b[0m_value_or_default\u001b[0m\u001b[1;33m(\u001b[0m\u001b[0mself\u001b[0m\u001b[1;33m,\u001b[0m \u001b[0mobj\u001b[0m\u001b[1;33m,\u001b[0m \u001b[0mkey\u001b[0m\u001b[1;33m,\u001b[0m \u001b[0mdefault\u001b[0m\u001b[1;33m)\u001b[0m\u001b[1;33m:\u001b[0m\u001b[1;33m\u001b[0m\u001b[1;33m\u001b[0m\u001b[0m\n",
      "\u001b[1;31mStaleElementReferenceException\u001b[0m: Message: stale element reference: element is not attached to the page document\n  (Session info: chrome=92.0.4515.131)\n"
     ]
    }
   ],
   "source": [
    "#Scraping data\n",
    "brands = []\n",
    "desc = []\n",
    "price = []\n",
    "while len(titles)<100:\n",
    "     #scraping brands\n",
    "    brand_tags = driver.find_elements_by_xpath(\"//h3[@class='product-brand']\")\n",
    "    #Getting text and saving in list\n",
    "    for i in brand_tags:\n",
    "        brands.append(i.text)\n",
    "    #scraping product description\n",
    "    desc_tags = driver.find_elements_by_xpath(\"//h4[@class='product-product']\")\n",
    "    #Getting text and saving in list\n",
    "    for i in desc_tags:\n",
    "        desc.append(i.text)\n",
    "    #scraping price\n",
    "    price_tags = driver.find_elements_by_xpath(\"//div[@class='product-price']\")\n",
    "    #Getting text and saving in list\n",
    "    for i in price_tags:\n",
    "        price.append(i.text)\n",
    "    #Getting button element and excecuting click\n",
    "    driver.find_element_by_xpath('//*[@id=\"desktopSearchResults\"]/div[2]/section/div[2]/ul/li[12]/a').click()"
   ]
  },
  {
   "cell_type": "code",
   "execution_count": 488,
   "metadata": {},
   "outputs": [
    {
     "name": "stdout",
     "output_type": "stream",
     "text": [
      "63 120 50 120\n"
     ]
    }
   ],
   "source": [
    "print(len(brands),len(product_description),len(price),len(discount))"
   ]
  },
  {
   "cell_type": "markdown",
   "metadata": {},
   "source": [
    "<b>Q10: Go to webpage https://www.amazon.in/\n",
    " Enter “Laptop” in the search field and then click the search icon.\n",
    " Then set CPU Type filter to “Intel Core i7” and “Intel Core i9” as shown in the\n",
    "below image:<b>"
   ]
  },
  {
   "cell_type": "code",
   "execution_count": 463,
   "metadata": {},
   "outputs": [],
   "source": [
    "#Connecting to driver\n",
    "driver = webdriver.Chrome(r\"C:\\Users\\sumuk\\Downloads\\chromedriver_win32\\chromedriver.exe\")"
   ]
  },
  {
   "cell_type": "code",
   "execution_count": 464,
   "metadata": {},
   "outputs": [],
   "source": [
    "\n",
    "#Getting the url\n",
    "url = 'https://www.amazon.in/'\n",
    "driver.get(url)"
   ]
  },
  {
   "cell_type": "code",
   "execution_count": 465,
   "metadata": {},
   "outputs": [
    {
     "data": {
      "text/plain": [
       "<selenium.webdriver.remote.webelement.WebElement (session=\"aae5c469a2cbbab5d719e4bf94c7eb57\", element=\"bd694828-4c72-4d27-bdd6-b75d94b88853\")>"
      ]
     },
     "execution_count": 465,
     "metadata": {},
     "output_type": "execute_result"
    }
   ],
   "source": [
    "\n",
    "#Getting web element for searching laptop\n",
    "search_prod = driver.find_element_by_id('twotabsearchtextbox')\n",
    "search_prod"
   ]
  },
  {
   "cell_type": "code",
   "execution_count": 466,
   "metadata": {},
   "outputs": [],
   "source": [
    "#Searching for laptpo\n",
    "search_prod.send_keys(\"Laptop\")\n"
   ]
  },
  {
   "cell_type": "code",
   "execution_count": 467,
   "metadata": {},
   "outputs": [],
   "source": [
    "\n",
    "#Getting button element and excecuting click\n",
    "search_btn = driver.find_element_by_class_name('nav-right')\n",
    "search_btn.click()\n"
   ]
  },
  {
   "cell_type": "code",
   "execution_count": 468,
   "metadata": {},
   "outputs": [],
   "source": [
    "\n",
    "#Getting button element to filter i7 and excecuting click\n",
    "filter_i7 = driver.find_element_by_xpath('//*[@id=\"p_n_feature_thirteen_browse-bin/12598163031\"]/span/a/div/label/i')\n",
    "filter_i7.click()\n"
   ]
  },
  {
   "cell_type": "code",
   "execution_count": 469,
   "metadata": {},
   "outputs": [],
   "source": [
    "#Getting button element to filter i9 and excecuting click\n",
    "filter_i9 = driver.find_element_by_xpath('//*[@id=\"p_n_feature_thirteen_browse-bin/16757432031\"]/span/a/div/label/i')\n",
    "filter_i9.click()"
   ]
  },
  {
   "cell_type": "code",
   "execution_count": 470,
   "metadata": {},
   "outputs": [],
   "source": [
    "titles = []\n",
    "ratings = []\n",
    "price = []\n",
    "while len(titles)<10:\n",
    "     #scraping brands\n",
    "    title_tags = driver.find_elements_by_xpath(\"//h2[@class='a-size-mini a-spacing-none a-color-base s-line-clamp-2']\")\n",
    "    #Getting text and saving in list\n",
    "    for i in title_tags:\n",
    "        titles.append(i.text)\n",
    "    #scraping product description\n",
    "    ratings_tags = driver.find_elements_by_xpath(\"//span[@class='a-icon-alt']\")\n",
    "    #Getting text and saving in list\n",
    "    for i in ratings_tags:\n",
    "        ratings.append(i.text)\n",
    "    #scraping price\n",
    "    price_tags = driver.find_elements_by_xpath(\"//span[@class='a-price-whole']\")\n",
    "    #Getting text and saving in list\n",
    "    for i in price_tags:\n",
    "        price.append(i.text)\n"
   ]
  },
  {
   "cell_type": "code",
   "execution_count": 476,
   "metadata": {},
   "outputs": [
    {
     "name": "stdout",
     "output_type": "stream",
     "text": [
      "25 25 25\n"
     ]
    }
   ],
   "source": [
    "#checking length\n",
    "print(len(titles),len(ratings),len(price))"
   ]
  },
  {
   "cell_type": "code",
   "execution_count": 477,
   "metadata": {},
   "outputs": [
    {
     "data": {
      "text/html": [
       "<div>\n",
       "<style scoped>\n",
       "    .dataframe tbody tr th:only-of-type {\n",
       "        vertical-align: middle;\n",
       "    }\n",
       "\n",
       "    .dataframe tbody tr th {\n",
       "        vertical-align: top;\n",
       "    }\n",
       "\n",
       "    .dataframe thead th {\n",
       "        text-align: right;\n",
       "    }\n",
       "</style>\n",
       "<table border=\"1\" class=\"dataframe\">\n",
       "  <thead>\n",
       "    <tr style=\"text-align: right;\">\n",
       "      <th></th>\n",
       "      <th>Title</th>\n",
       "      <th>Rating</th>\n",
       "      <th>Price</th>\n",
       "    </tr>\n",
       "  </thead>\n",
       "  <tbody>\n",
       "    <tr>\n",
       "      <th>0</th>\n",
       "      <td>Lenovo Yoga 7 11th Gen Intel Core i7-1165G7 14...</td>\n",
       "      <td></td>\n",
       "      <td>1,03,890</td>\n",
       "    </tr>\n",
       "    <tr>\n",
       "      <th>1</th>\n",
       "      <td>HP Envy 11th Gen Core i7 Processor 13.3-inch (...</td>\n",
       "      <td></td>\n",
       "      <td>99,990</td>\n",
       "    </tr>\n",
       "    <tr>\n",
       "      <th>2</th>\n",
       "      <td>HP Pavilion (2021) Thin &amp; Light 11th Gen Core ...</td>\n",
       "      <td></td>\n",
       "      <td>84,990</td>\n",
       "    </tr>\n",
       "    <tr>\n",
       "      <th>3</th>\n",
       "      <td>Life Digital Laptop 15.6-inch (39.62 cms) (Int...</td>\n",
       "      <td></td>\n",
       "      <td>29,990</td>\n",
       "    </tr>\n",
       "    <tr>\n",
       "      <th>4</th>\n",
       "      <td>ASUS TUF Gaming F15 (2020), 15.6-inch (39.62 c...</td>\n",
       "      <td></td>\n",
       "      <td>71,990</td>\n",
       "    </tr>\n",
       "    <tr>\n",
       "      <th>5</th>\n",
       "      <td>Mi Notebook Horizon Edition 14 Intel Core i7-1...</td>\n",
       "      <td></td>\n",
       "      <td>59,999</td>\n",
       "    </tr>\n",
       "    <tr>\n",
       "      <th>6</th>\n",
       "      <td>Life Digital Laptop 15.6-inch (39.62 cms) (Int...</td>\n",
       "      <td></td>\n",
       "      <td>34,990</td>\n",
       "    </tr>\n",
       "    <tr>\n",
       "      <th>7</th>\n",
       "      <td>NEXSTGO Primus NX201 NP15N1IN008P 15.6-inch La...</td>\n",
       "      <td></td>\n",
       "      <td>56,155</td>\n",
       "    </tr>\n",
       "    <tr>\n",
       "      <th>8</th>\n",
       "      <td>OMEN 17 Gaming Laptop, NVIDIA GeForce RTX 2070...</td>\n",
       "      <td></td>\n",
       "      <td>74,990</td>\n",
       "    </tr>\n",
       "    <tr>\n",
       "      <th>9</th>\n",
       "      <td>MSI GF75 Thin, Intel i7-10750H, 17.3\" (43.9 cm...</td>\n",
       "      <td></td>\n",
       "      <td>89,990</td>\n",
       "    </tr>\n",
       "    <tr>\n",
       "      <th>10</th>\n",
       "      <td>Lenovo IdeaPad Flex 5 11th Gen Intel Core i7 1...</td>\n",
       "      <td></td>\n",
       "      <td>89,990</td>\n",
       "    </tr>\n",
       "    <tr>\n",
       "      <th>11</th>\n",
       "      <td>HP Pavilion 13(2021) 11th Gen Intel Core i7 La...</td>\n",
       "      <td></td>\n",
       "      <td>85,390</td>\n",
       "    </tr>\n",
       "    <tr>\n",
       "      <th>12</th>\n",
       "      <td>Dell Inspiron 5502 15.6\" FHD AG Display Laptop...</td>\n",
       "      <td></td>\n",
       "      <td>1,19,990</td>\n",
       "    </tr>\n",
       "    <tr>\n",
       "      <th>13</th>\n",
       "      <td>(Renewed) Lenovo Legion Y740 Intel 9th Gen Cor...</td>\n",
       "      <td></td>\n",
       "      <td>59,999</td>\n",
       "    </tr>\n",
       "    <tr>\n",
       "      <th>14</th>\n",
       "      <td>Mi Notebook Horizon Edition 14 Intel Core i7-1...</td>\n",
       "      <td></td>\n",
       "      <td>83,990</td>\n",
       "    </tr>\n",
       "    <tr>\n",
       "      <th>15</th>\n",
       "      <td>ASUS VivoBook S S15 (2021), 15.6-inch (39.62 c...</td>\n",
       "      <td></td>\n",
       "      <td>1,00,990</td>\n",
       "    </tr>\n",
       "    <tr>\n",
       "      <th>16</th>\n",
       "      <td>MSI GF63 Thin, Intel 10th Gen. i7-10750H, 15.6...</td>\n",
       "      <td></td>\n",
       "      <td>51,999</td>\n",
       "    </tr>\n",
       "    <tr>\n",
       "      <th>17</th>\n",
       "      <td>(Renewed) Lenovo Intel Core i7-4th Gen 14 Inch...</td>\n",
       "      <td></td>\n",
       "      <td>50,999</td>\n",
       "    </tr>\n",
       "    <tr>\n",
       "      <th>18</th>\n",
       "      <td>(Renewed) Lenovo Intel Core i7-4th Gen 14 Inch...</td>\n",
       "      <td></td>\n",
       "      <td>77,990</td>\n",
       "    </tr>\n",
       "    <tr>\n",
       "      <th>19</th>\n",
       "      <td>(Renewed) HP Intel Core i7 6700HQ 15.6-Inch (3...</td>\n",
       "      <td></td>\n",
       "      <td>43,999</td>\n",
       "    </tr>\n",
       "    <tr>\n",
       "      <th>20</th>\n",
       "      <td>(Renewed) Lenovo Intel Core i7-4th Gen 14 Inch...</td>\n",
       "      <td></td>\n",
       "      <td>46,999</td>\n",
       "    </tr>\n",
       "    <tr>\n",
       "      <th>21</th>\n",
       "      <td>(Renewed) Lenovo Intel Core i7-4th Gen 14 Inch...</td>\n",
       "      <td></td>\n",
       "      <td>85,000</td>\n",
       "    </tr>\n",
       "    <tr>\n",
       "      <th>22</th>\n",
       "      <td>Lenovo ThinkPad P53s Workstation Laptop (Intel...</td>\n",
       "      <td></td>\n",
       "      <td>82,990</td>\n",
       "    </tr>\n",
       "    <tr>\n",
       "      <th>23</th>\n",
       "      <td>HP 14 Thin &amp; Light 14\" (35.56cms) FHD Laptop (...</td>\n",
       "      <td></td>\n",
       "      <td>46,999</td>\n",
       "    </tr>\n",
       "    <tr>\n",
       "      <th>24</th>\n",
       "      <td>Lenovo Legion 5 10th Gen Intel Core i7-10750H ...</td>\n",
       "      <td></td>\n",
       "      <td>96,990</td>\n",
       "    </tr>\n",
       "  </tbody>\n",
       "</table>\n",
       "</div>"
      ],
      "text/plain": [
       "                                                Title Rating     Price\n",
       "0   Lenovo Yoga 7 11th Gen Intel Core i7-1165G7 14...         1,03,890\n",
       "1   HP Envy 11th Gen Core i7 Processor 13.3-inch (...           99,990\n",
       "2   HP Pavilion (2021) Thin & Light 11th Gen Core ...           84,990\n",
       "3   Life Digital Laptop 15.6-inch (39.62 cms) (Int...           29,990\n",
       "4   ASUS TUF Gaming F15 (2020), 15.6-inch (39.62 c...           71,990\n",
       "5   Mi Notebook Horizon Edition 14 Intel Core i7-1...           59,999\n",
       "6   Life Digital Laptop 15.6-inch (39.62 cms) (Int...           34,990\n",
       "7   NEXSTGO Primus NX201 NP15N1IN008P 15.6-inch La...           56,155\n",
       "8   OMEN 17 Gaming Laptop, NVIDIA GeForce RTX 2070...           74,990\n",
       "9   MSI GF75 Thin, Intel i7-10750H, 17.3\" (43.9 cm...           89,990\n",
       "10  Lenovo IdeaPad Flex 5 11th Gen Intel Core i7 1...           89,990\n",
       "11  HP Pavilion 13(2021) 11th Gen Intel Core i7 La...           85,390\n",
       "12  Dell Inspiron 5502 15.6\" FHD AG Display Laptop...         1,19,990\n",
       "13  (Renewed) Lenovo Legion Y740 Intel 9th Gen Cor...           59,999\n",
       "14  Mi Notebook Horizon Edition 14 Intel Core i7-1...           83,990\n",
       "15  ASUS VivoBook S S15 (2021), 15.6-inch (39.62 c...         1,00,990\n",
       "16  MSI GF63 Thin, Intel 10th Gen. i7-10750H, 15.6...           51,999\n",
       "17  (Renewed) Lenovo Intel Core i7-4th Gen 14 Inch...           50,999\n",
       "18  (Renewed) Lenovo Intel Core i7-4th Gen 14 Inch...           77,990\n",
       "19  (Renewed) HP Intel Core i7 6700HQ 15.6-Inch (3...           43,999\n",
       "20  (Renewed) Lenovo Intel Core i7-4th Gen 14 Inch...           46,999\n",
       "21  (Renewed) Lenovo Intel Core i7-4th Gen 14 Inch...           85,000\n",
       "22  Lenovo ThinkPad P53s Workstation Laptop (Intel...           82,990\n",
       "23  HP 14 Thin & Light 14\" (35.56cms) FHD Laptop (...           46,999\n",
       "24  Lenovo Legion 5 10th Gen Intel Core i7-10750H ...           96,990"
      ]
     },
     "execution_count": 477,
     "metadata": {},
     "output_type": "execute_result"
    }
   ],
   "source": [
    "#Creating data frame\n",
    "laptops = pd.DataFrame({})\n",
    "laptops['Title'] = titles\n",
    "laptops['Rating'] = ratings\n",
    "laptops['Price'] = price\n",
    "laptops"
   ]
  },
  {
   "cell_type": "code",
   "execution_count": 478,
   "metadata": {},
   "outputs": [
    {
     "data": {
      "text/html": [
       "<div>\n",
       "<style scoped>\n",
       "    .dataframe tbody tr th:only-of-type {\n",
       "        vertical-align: middle;\n",
       "    }\n",
       "\n",
       "    .dataframe tbody tr th {\n",
       "        vertical-align: top;\n",
       "    }\n",
       "\n",
       "    .dataframe thead th {\n",
       "        text-align: right;\n",
       "    }\n",
       "</style>\n",
       "<table border=\"1\" class=\"dataframe\">\n",
       "  <thead>\n",
       "    <tr style=\"text-align: right;\">\n",
       "      <th></th>\n",
       "      <th>Title</th>\n",
       "      <th>Rating</th>\n",
       "      <th>Price</th>\n",
       "    </tr>\n",
       "  </thead>\n",
       "  <tbody>\n",
       "    <tr>\n",
       "      <th>0</th>\n",
       "      <td>Lenovo Yoga 7 11th Gen Intel Core i7-1165G7 14...</td>\n",
       "      <td></td>\n",
       "      <td>1,03,890</td>\n",
       "    </tr>\n",
       "    <tr>\n",
       "      <th>1</th>\n",
       "      <td>HP Envy 11th Gen Core i7 Processor 13.3-inch (...</td>\n",
       "      <td></td>\n",
       "      <td>99,990</td>\n",
       "    </tr>\n",
       "    <tr>\n",
       "      <th>2</th>\n",
       "      <td>HP Pavilion (2021) Thin &amp; Light 11th Gen Core ...</td>\n",
       "      <td></td>\n",
       "      <td>84,990</td>\n",
       "    </tr>\n",
       "    <tr>\n",
       "      <th>3</th>\n",
       "      <td>Life Digital Laptop 15.6-inch (39.62 cms) (Int...</td>\n",
       "      <td></td>\n",
       "      <td>29,990</td>\n",
       "    </tr>\n",
       "    <tr>\n",
       "      <th>4</th>\n",
       "      <td>ASUS TUF Gaming F15 (2020), 15.6-inch (39.62 c...</td>\n",
       "      <td></td>\n",
       "      <td>71,990</td>\n",
       "    </tr>\n",
       "    <tr>\n",
       "      <th>5</th>\n",
       "      <td>Mi Notebook Horizon Edition 14 Intel Core i7-1...</td>\n",
       "      <td></td>\n",
       "      <td>59,999</td>\n",
       "    </tr>\n",
       "    <tr>\n",
       "      <th>6</th>\n",
       "      <td>Life Digital Laptop 15.6-inch (39.62 cms) (Int...</td>\n",
       "      <td></td>\n",
       "      <td>34,990</td>\n",
       "    </tr>\n",
       "    <tr>\n",
       "      <th>7</th>\n",
       "      <td>NEXSTGO Primus NX201 NP15N1IN008P 15.6-inch La...</td>\n",
       "      <td></td>\n",
       "      <td>56,155</td>\n",
       "    </tr>\n",
       "    <tr>\n",
       "      <th>8</th>\n",
       "      <td>OMEN 17 Gaming Laptop, NVIDIA GeForce RTX 2070...</td>\n",
       "      <td></td>\n",
       "      <td>74,990</td>\n",
       "    </tr>\n",
       "    <tr>\n",
       "      <th>9</th>\n",
       "      <td>MSI GF75 Thin, Intel i7-10750H, 17.3\" (43.9 cm...</td>\n",
       "      <td></td>\n",
       "      <td>89,990</td>\n",
       "    </tr>\n",
       "  </tbody>\n",
       "</table>\n",
       "</div>"
      ],
      "text/plain": [
       "                                               Title Rating     Price\n",
       "0  Lenovo Yoga 7 11th Gen Intel Core i7-1165G7 14...         1,03,890\n",
       "1  HP Envy 11th Gen Core i7 Processor 13.3-inch (...           99,990\n",
       "2  HP Pavilion (2021) Thin & Light 11th Gen Core ...           84,990\n",
       "3  Life Digital Laptop 15.6-inch (39.62 cms) (Int...           29,990\n",
       "4  ASUS TUF Gaming F15 (2020), 15.6-inch (39.62 c...           71,990\n",
       "5  Mi Notebook Horizon Edition 14 Intel Core i7-1...           59,999\n",
       "6  Life Digital Laptop 15.6-inch (39.62 cms) (Int...           34,990\n",
       "7  NEXSTGO Primus NX201 NP15N1IN008P 15.6-inch La...           56,155\n",
       "8  OMEN 17 Gaming Laptop, NVIDIA GeForce RTX 2070...           74,990\n",
       "9  MSI GF75 Thin, Intel i7-10750H, 17.3\" (43.9 cm...           89,990"
      ]
     },
     "execution_count": 478,
     "metadata": {},
     "output_type": "execute_result"
    }
   ],
   "source": [
    "laptops_10 = laptops.head(10)\n",
    "laptops_10"
   ]
  },
  {
   "cell_type": "code",
   "execution_count": null,
   "metadata": {},
   "outputs": [],
   "source": []
  }
 ],
 "metadata": {
  "kernelspec": {
   "display_name": "Python 3",
   "language": "python",
   "name": "python3"
  },
  "language_info": {
   "codemirror_mode": {
    "name": "ipython",
    "version": 3
   },
   "file_extension": ".py",
   "mimetype": "text/x-python",
   "name": "python",
   "nbconvert_exporter": "python",
   "pygments_lexer": "ipython3",
   "version": "3.8.5"
  }
 },
 "nbformat": 4,
 "nbformat_minor": 4
}
